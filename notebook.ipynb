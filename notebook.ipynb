{
 "cells": [
  {
   "cell_type": "code",
   "execution_count": 2,
   "metadata": {
    "execution": {
     "iopub.execute_input": "2025-02-26T21:33:12.140032Z",
     "iopub.status.busy": "2025-02-26T21:33:12.139752Z",
     "iopub.status.idle": "2025-02-26T21:33:16.883068Z",
     "shell.execute_reply": "2025-02-26T21:33:16.882250Z",
     "shell.execute_reply.started": "2025-02-26T21:33:12.140010Z"
    },
    "trusted": true
   },
   "outputs": [
    {
     "name": "stdout",
     "output_type": "stream",
     "text": [
      "[nltk_data] Downloading package stopwords to /usr/share/nltk_data...\n",
      "[nltk_data]   Unzipping corpora/stopwords.zip.\n",
      "/kaggle/input/nlp-getting-started/sample_submission.csv\n",
      "/kaggle/input/nlp-getting-started/train.csv\n",
      "/kaggle/input/nlp-getting-started/test.csv\n"
     ]
    }
   ],
   "source": [
    "# This Python 3 environment comes with many helpful analytics libraries installed\n",
    "# It is defined by the kaggle/python Docker image: https://github.com/kaggle/docker-python\n",
    "# For example, here's several helpful packages to load\n",
    "\n",
    "import numpy as np # linear algebra\n",
    "import pandas as pd # data processing, CSV file I/O (e.g. pd.read_csv)\n",
    "import matplotlib.pyplot as plt\n",
    "import seaborn as sns\n",
    "from collections import Counter\n",
    "import nltk\n",
    "nltk.download('stopwords')\n",
    "from nltk.corpus import stopwords\n",
    "from sklearn.feature_extraction.text import CountVectorizer\n",
    "from torch.utils.data import Dataset, DataLoader\n",
    "from sklearn.model_selection import train_test_split\n",
    "import torch.nn as nn\n",
    "\n",
    "# Input data files are available in the read-only \"../input/\" directory\n",
    "# For example, running this (by clicking run or pressing Shift+Enter) will list all files under the input directory\n",
    "\n",
    "import os\n",
    "for dirname, _, filenames in os.walk('/kaggle/input'):\n",
    "    for filename in filenames:\n",
    "        print(os.path.join(dirname, filename))\n",
    "\n",
    "# You can write up to 20GB to the current directory (/kaggle/working/) that gets preserved as output when you create a version using \"Save & Run All\" \n",
    "# You can also write temporary files to /kaggle/temp/, but they won't be saved outside of the current session"
   ]
  },
  {
   "cell_type": "markdown",
   "metadata": {},
   "source": [
    "# Introduction\n",
    "In times of crisis, people will often turn to social media to ask for help, but its often difficult to distinguish these pleas from more general posts algorithmically.  This notebook will attempt to classify posts using a recurrent neural network built towards sentiment analysis.\n",
    "\n",
    "As the final result is binary (0 for not a disaster post, 1 for a disaster post), I will use a sigmoidal neuron with binary cross entropy loss for the actual classification."
   ]
  },
  {
   "cell_type": "code",
   "execution_count": 3,
   "metadata": {
    "execution": {
     "iopub.execute_input": "2025-02-26T21:33:16.884605Z",
     "iopub.status.busy": "2025-02-26T21:33:16.884208Z",
     "iopub.status.idle": "2025-02-26T21:33:16.979180Z",
     "shell.execute_reply": "2025-02-26T21:33:16.978509Z",
     "shell.execute_reply.started": "2025-02-26T21:33:16.884583Z"
    },
    "trusted": true
   },
   "outputs": [
    {
     "name": "stdout",
     "output_type": "stream",
     "text": [
      "The training data shape is: (7613, 5)\n"
     ]
    },
    {
     "data": {
      "text/html": [
       "<div>\n",
       "<style scoped>\n",
       "    .dataframe tbody tr th:only-of-type {\n",
       "        vertical-align: middle;\n",
       "    }\n",
       "\n",
       "    .dataframe tbody tr th {\n",
       "        vertical-align: top;\n",
       "    }\n",
       "\n",
       "    .dataframe thead th {\n",
       "        text-align: right;\n",
       "    }\n",
       "</style>\n",
       "<table border=\"1\" class=\"dataframe\">\n",
       "  <thead>\n",
       "    <tr style=\"text-align: right;\">\n",
       "      <th></th>\n",
       "      <th>id</th>\n",
       "      <th>keyword</th>\n",
       "      <th>location</th>\n",
       "      <th>text</th>\n",
       "      <th>target</th>\n",
       "    </tr>\n",
       "  </thead>\n",
       "  <tbody>\n",
       "    <tr>\n",
       "      <th>0</th>\n",
       "      <td>1</td>\n",
       "      <td>NaN</td>\n",
       "      <td>NaN</td>\n",
       "      <td>Our Deeds are the Reason of this #earthquake M...</td>\n",
       "      <td>1</td>\n",
       "    </tr>\n",
       "    <tr>\n",
       "      <th>1</th>\n",
       "      <td>4</td>\n",
       "      <td>NaN</td>\n",
       "      <td>NaN</td>\n",
       "      <td>Forest fire near La Ronge Sask. Canada</td>\n",
       "      <td>1</td>\n",
       "    </tr>\n",
       "    <tr>\n",
       "      <th>2</th>\n",
       "      <td>5</td>\n",
       "      <td>NaN</td>\n",
       "      <td>NaN</td>\n",
       "      <td>All residents asked to 'shelter in place' are ...</td>\n",
       "      <td>1</td>\n",
       "    </tr>\n",
       "    <tr>\n",
       "      <th>3</th>\n",
       "      <td>6</td>\n",
       "      <td>NaN</td>\n",
       "      <td>NaN</td>\n",
       "      <td>13,000 people receive #wildfires evacuation or...</td>\n",
       "      <td>1</td>\n",
       "    </tr>\n",
       "    <tr>\n",
       "      <th>4</th>\n",
       "      <td>7</td>\n",
       "      <td>NaN</td>\n",
       "      <td>NaN</td>\n",
       "      <td>Just got sent this photo from Ruby #Alaska as ...</td>\n",
       "      <td>1</td>\n",
       "    </tr>\n",
       "  </tbody>\n",
       "</table>\n",
       "</div>"
      ],
      "text/plain": [
       "   id keyword location                                               text  \\\n",
       "0   1     NaN      NaN  Our Deeds are the Reason of this #earthquake M...   \n",
       "1   4     NaN      NaN             Forest fire near La Ronge Sask. Canada   \n",
       "2   5     NaN      NaN  All residents asked to 'shelter in place' are ...   \n",
       "3   6     NaN      NaN  13,000 people receive #wildfires evacuation or...   \n",
       "4   7     NaN      NaN  Just got sent this photo from Ruby #Alaska as ...   \n",
       "\n",
       "   target  \n",
       "0       1  \n",
       "1       1  \n",
       "2       1  \n",
       "3       1  \n",
       "4       1  "
      ]
     },
     "execution_count": 3,
     "metadata": {},
     "output_type": "execute_result"
    }
   ],
   "source": [
    "kaggle_path = '/kaggle/input'\n",
    "local_path = './data'\n",
    "if os.path.exists(kaggle_path):\n",
    "    filepath = f\"{kaggle_path}/nlp-getting-started\"\n",
    "else:\n",
    "    filepath = local_path\n",
    "    \n",
    "train_df = pd.read_csv(f\"{filepath}/train.csv\")\n",
    "test_df = pd.read_csv(f\"{filepath}/test.csv\")\n",
    "print(f\"The training data shape is: {train_df.shape}\")\n",
    "train_df.head()"
   ]
  },
  {
   "cell_type": "code",
   "execution_count": 4,
   "metadata": {
    "execution": {
     "iopub.execute_input": "2025-02-26T21:33:16.981224Z",
     "iopub.status.busy": "2025-02-26T21:33:16.980977Z",
     "iopub.status.idle": "2025-02-26T21:33:17.218990Z",
     "shell.execute_reply": "2025-02-26T21:33:17.218238Z",
     "shell.execute_reply.started": "2025-02-26T21:33:16.981204Z"
    },
    "trusted": true
   },
   "outputs": [
    {
     "data": {
      "image/png": "[encoded data removed]",
      "text/plain": [
       "<Figure size 640x480 with 1 Axes>"
      ]
     },
     "metadata": {},
     "output_type": "display_data"
    }
   ],
   "source": [
    "# Visualize the balance of labels...\n",
    "label_counts = train_df['target'].value_counts()\n",
    "label_counts.plot(kind=\"bar\")\n",
    "plt.title(\"Distribution of labels in training set\")\n",
    "plt.xlabel(\"Label\")\n",
    "plt.ylabel(\"# of Items\")\n",
    "plt.show()\n"
   ]
  },
  {
   "cell_type": "markdown",
   "metadata": {},
   "source": [
    "## Visualizing the keyword feature\n",
    "While there are a number of missing values, the keyword feature looks pretty robust with a number of unique values.  I'll keep this in the final training dataframe for now."
   ]
  },
  {
   "cell_type": "code",
   "execution_count": 5,
   "metadata": {
    "execution": {
     "iopub.execute_input": "2025-02-26T21:33:17.220134Z",
     "iopub.status.busy": "2025-02-26T21:33:17.219920Z",
     "iopub.status.idle": "2025-02-26T21:33:17.422513Z",
     "shell.execute_reply": "2025-02-26T21:33:17.421660Z",
     "shell.execute_reply.started": "2025-02-26T21:33:17.220103Z"
    },
    "trusted": true
   },
   "outputs": [
    {
     "name": "stdout",
     "output_type": "stream",
     "text": [
      "There are 221 unique keywords in the dataset\n",
      "There are 61 missing keyword values\n"
     ]
    },
    {
     "data": {
      "image/png": "[encoded data removed]",
      "text/plain": [
       "<Figure size 640x480 with 1 Axes>"
      ]
     },
     "metadata": {},
     "output_type": "display_data"
    }
   ],
   "source": [
    "# Visualize the distribution of keywords\n",
    "keyword_counts = train_df['keyword'].value_counts()\n",
    "print(f\"There are {len(keyword_counts)} unique keywords in the dataset\")\n",
    "print(f\"There are {train_df['keyword'].isna().sum()} missing keyword values\")\n",
    "keyword_counts.nlargest(20).iloc[::-1].plot(kind=\"barh\")\n",
    "plt.xlabel(\"Keywords\")\n",
    "plt.ylabel(\"20 Most Frequent Keywords\")\n",
    "plt.show()"
   ]
  },
  {
   "cell_type": "markdown",
   "metadata": {},
   "source": [
    "## Visualizing the location feature\n",
    "Looking at the data, we might be better off omitting this data before training given the large amount of both unique values as well as missing values."
   ]
  },
  {
   "cell_type": "code",
   "execution_count": 6,
   "metadata": {
    "execution": {
     "iopub.execute_input": "2025-02-26T21:33:17.423632Z",
     "iopub.status.busy": "2025-02-26T21:33:17.423374Z",
     "iopub.status.idle": "2025-02-26T21:33:17.629002Z",
     "shell.execute_reply": "2025-02-26T21:33:17.628191Z",
     "shell.execute_reply.started": "2025-02-26T21:33:17.423600Z"
    },
    "trusted": true
   },
   "outputs": [
    {
     "name": "stdout",
     "output_type": "stream",
     "text": [
      "There are 3341 unique locations in the dataset\n",
      "There are 2533 missing locations values\n"
     ]
    },
    {
     "data": {
      "image/png": "[encoded data removed]",
      "text/plain": [
       "<Figure size 640x480 with 1 Axes>"
      ]
     },
     "metadata": {},
     "output_type": "display_data"
    }
   ],
   "source": [
    "# Visualize the distribution of locations\n",
    "location_counts = train_df['location'].value_counts(ascending=True)\n",
    "print(f\"There are {len(location_counts)} unique locations in the dataset\")\n",
    "print(f\"There are {train_df['location'].isna().sum()} missing locations values\")\n",
    "location_counts.nlargest(20).iloc[::-1].plot(kind=\"barh\")\n",
    "plt.xlabel(\"Locations\")\n",
    "plt.ylabel(\"20 Most Frequent Locations\")\n",
    "plt.show()"
   ]
  },
  {
   "cell_type": "code",
   "execution_count": null,
   "metadata": {
    "trusted": true
   },
   "outputs": [],
   "source": []
  },
  {
   "cell_type": "code",
   "execution_count": null,
   "metadata": {
    "trusted": true
   },
   "outputs": [],
   "source": []
  },
  {
   "cell_type": "markdown",
   "metadata": {},
   "source": [
    "## Analysis of the text itself\n",
    "No missing or empty records, but there are a number of short posts (less than 20 characters).  Thankfully there are a majority of posts look to be at least 40 characters, and we have a normal-ish distribution over the number of words in the various posts.\n",
    "\n",
    "Looking into the shorter posts, it looks like I can safely remove posts with one word or less than 10 characters without removing any positively labelled data"
   ]
  },
  {
   "cell_type": "code",
   "execution_count": 7,
   "metadata": {
    "execution": {
     "iopub.execute_input": "2025-02-26T21:33:17.630220Z",
     "iopub.status.busy": "2025-02-26T21:33:17.629898Z",
     "iopub.status.idle": "2025-02-26T21:33:18.071313Z",
     "shell.execute_reply": "2025-02-26T21:33:18.070611Z",
     "shell.execute_reply.started": "2025-02-26T21:33:17.630189Z"
    },
    "trusted": true
   },
   "outputs": [
    {
     "name": "stdout",
     "output_type": "stream",
     "text": [
      "There are 0 missing/empty text values\n"
     ]
    },
    {
     "name": "stderr",
     "output_type": "stream",
     "text": [
      "/usr/local/lib/python3.10/dist-packages/seaborn/_oldcore.py:1119: FutureWarning: use_inf_as_na option is deprecated and will be removed in a future version. Convert inf values to NaN before operating instead.\n",
      "  with pd.option_context('mode.use_inf_as_na', True):\n",
      "/usr/local/lib/python3.10/dist-packages/seaborn/_oldcore.py:1119: FutureWarning: use_inf_as_na option is deprecated and will be removed in a future version. Convert inf values to NaN before operating instead.\n",
      "  with pd.option_context('mode.use_inf_as_na', True):\n"
     ]
    },
    {
     "data": {
      "image/png": "[encoded data removed]",
      "text/plain": [
       "<Figure size 1200x600 with 2 Axes>"
      ]
     },
     "metadata": {},
     "output_type": "display_data"
    }
   ],
   "source": [
    "print(f\"There are {train_df['text'].isna().sum()} missing/empty text values\")\n",
    "train_df['char_count'] = train_df['text'].apply(len)\n",
    "train_df['word_count'] = train_df['text'].apply(lambda str: len(str.split()))\n",
    "char_count = train_df['char_count'].value_counts()\n",
    "\n",
    "plt.figure(figsize=(12, 6))\n",
    "plt.subplot(1, 2, 1)\n",
    "sns.histplot(train_df['char_count'], bins=50, color='blue')\n",
    "plt.title('Character Count Distribution')\n",
    "\n",
    "\n",
    "plt.subplot(1, 2, 2)\n",
    "sns.histplot(train_df['word_count'], bins=50, color='green')\n",
    "plt.title('Word Count Distribution')\n",
    "plt.show()"
   ]
  },
  {
   "cell_type": "code",
   "execution_count": 8,
   "metadata": {
    "execution": {
     "iopub.execute_input": "2025-02-26T21:33:18.072371Z",
     "iopub.status.busy": "2025-02-26T21:33:18.072060Z",
     "iopub.status.idle": "2025-02-26T21:33:18.082698Z",
     "shell.execute_reply": "2025-02-26T21:33:18.081886Z",
     "shell.execute_reply.started": "2025-02-26T21:33:18.072336Z"
    },
    "trusted": true
   },
   "outputs": [
    {
     "data": {
      "text/html": [
       "<div>\n",
       "<style scoped>\n",
       "    .dataframe tbody tr th:only-of-type {\n",
       "        vertical-align: middle;\n",
       "    }\n",
       "\n",
       "    .dataframe tbody tr th {\n",
       "        vertical-align: top;\n",
       "    }\n",
       "\n",
       "    .dataframe thead th {\n",
       "        text-align: right;\n",
       "    }\n",
       "</style>\n",
       "<table border=\"1\" class=\"dataframe\">\n",
       "  <thead>\n",
       "    <tr style=\"text-align: right;\">\n",
       "      <th></th>\n",
       "      <th>id</th>\n",
       "      <th>keyword</th>\n",
       "      <th>location</th>\n",
       "      <th>text</th>\n",
       "      <th>target</th>\n",
       "      <th>char_count</th>\n",
       "      <th>word_count</th>\n",
       "    </tr>\n",
       "  </thead>\n",
       "  <tbody>\n",
       "    <tr>\n",
       "      <th>24</th>\n",
       "      <td>36</td>\n",
       "      <td>NaN</td>\n",
       "      <td>NaN</td>\n",
       "      <td>LOOOOOOL</td>\n",
       "      <td>0</td>\n",
       "      <td>8</td>\n",
       "      <td>1</td>\n",
       "    </tr>\n",
       "    <tr>\n",
       "      <th>28</th>\n",
       "      <td>40</td>\n",
       "      <td>NaN</td>\n",
       "      <td>NaN</td>\n",
       "      <td>Cooool :)</td>\n",
       "      <td>0</td>\n",
       "      <td>9</td>\n",
       "      <td>2</td>\n",
       "    </tr>\n",
       "    <tr>\n",
       "      <th>30</th>\n",
       "      <td>44</td>\n",
       "      <td>NaN</td>\n",
       "      <td>NaN</td>\n",
       "      <td>The end!</td>\n",
       "      <td>0</td>\n",
       "      <td>8</td>\n",
       "      <td>2</td>\n",
       "    </tr>\n",
       "    <tr>\n",
       "      <th>1882</th>\n",
       "      <td>2703</td>\n",
       "      <td>crushed</td>\n",
       "      <td>NaN</td>\n",
       "      <td>Crushed</td>\n",
       "      <td>0</td>\n",
       "      <td>7</td>\n",
       "      <td>1</td>\n",
       "    </tr>\n",
       "    <tr>\n",
       "      <th>3667</th>\n",
       "      <td>5221</td>\n",
       "      <td>fatality</td>\n",
       "      <td>Nairobi</td>\n",
       "      <td>Fatality!</td>\n",
       "      <td>0</td>\n",
       "      <td>9</td>\n",
       "      <td>1</td>\n",
       "    </tr>\n",
       "    <tr>\n",
       "      <th>3670</th>\n",
       "      <td>5224</td>\n",
       "      <td>fatality</td>\n",
       "      <td>Rafael castillo</td>\n",
       "      <td>fatality</td>\n",
       "      <td>0</td>\n",
       "      <td>8</td>\n",
       "      <td>1</td>\n",
       "    </tr>\n",
       "    <tr>\n",
       "      <th>3749</th>\n",
       "      <td>5326</td>\n",
       "      <td>fire</td>\n",
       "      <td>NaN</td>\n",
       "      <td>I See Fire</td>\n",
       "      <td>0</td>\n",
       "      <td>10</td>\n",
       "      <td>3</td>\n",
       "    </tr>\n",
       "    <tr>\n",
       "      <th>4890</th>\n",
       "      <td>6962</td>\n",
       "      <td>massacre</td>\n",
       "      <td>NaN</td>\n",
       "      <td>Bad day</td>\n",
       "      <td>0</td>\n",
       "      <td>7</td>\n",
       "      <td>2</td>\n",
       "    </tr>\n",
       "    <tr>\n",
       "      <th>4971</th>\n",
       "      <td>7088</td>\n",
       "      <td>meltdown</td>\n",
       "      <td>NaN</td>\n",
       "      <td>Meltdown</td>\n",
       "      <td>0</td>\n",
       "      <td>8</td>\n",
       "      <td>1</td>\n",
       "    </tr>\n",
       "    <tr>\n",
       "      <th>5115</th>\n",
       "      <td>7295</td>\n",
       "      <td>nuclear%20reactor</td>\n",
       "      <td>NaN</td>\n",
       "      <td>Err:509</td>\n",
       "      <td>0</td>\n",
       "      <td>7</td>\n",
       "      <td>1</td>\n",
       "    </tr>\n",
       "    <tr>\n",
       "      <th>6705</th>\n",
       "      <td>9605</td>\n",
       "      <td>thunder</td>\n",
       "      <td>NaN</td>\n",
       "      <td>Thunder???</td>\n",
       "      <td>0</td>\n",
       "      <td>10</td>\n",
       "      <td>1</td>\n",
       "    </tr>\n",
       "  </tbody>\n",
       "</table>\n",
       "</div>"
      ],
      "text/plain": [
       "        id            keyword         location        text  target  \\\n",
       "24      36                NaN              NaN    LOOOOOOL       0   \n",
       "28      40                NaN              NaN   Cooool :)       0   \n",
       "30      44                NaN              NaN    The end!       0   \n",
       "1882  2703            crushed              NaN     Crushed       0   \n",
       "3667  5221           fatality          Nairobi   Fatality!       0   \n",
       "3670  5224           fatality  Rafael castillo    fatality       0   \n",
       "3749  5326               fire              NaN  I See Fire       0   \n",
       "4890  6962           massacre              NaN     Bad day       0   \n",
       "4971  7088           meltdown              NaN    Meltdown       0   \n",
       "5115  7295  nuclear%20reactor              NaN     Err:509       0   \n",
       "6705  9605            thunder              NaN  Thunder???       0   \n",
       "\n",
       "      char_count  word_count  \n",
       "24             8           1  \n",
       "28             9           2  \n",
       "30             8           2  \n",
       "1882           7           1  \n",
       "3667           9           1  \n",
       "3670           8           1  \n",
       "3749          10           3  \n",
       "4890           7           2  \n",
       "4971           8           1  \n",
       "5115           7           1  \n",
       "6705          10           1  "
      ]
     },
     "execution_count": 8,
     "metadata": {},
     "output_type": "execute_result"
    }
   ],
   "source": [
    "train_df[train_df['char_count'] <= 10]\n",
    "# train_df['char_count'].nsmallest(20)"
   ]
  },
  {
   "cell_type": "code",
   "execution_count": 9,
   "metadata": {
    "execution": {
     "iopub.execute_input": "2025-02-26T21:33:18.083844Z",
     "iopub.status.busy": "2025-02-26T21:33:18.083577Z",
     "iopub.status.idle": "2025-02-26T21:33:18.100574Z",
     "shell.execute_reply": "2025-02-26T21:33:18.099776Z",
     "shell.execute_reply.started": "2025-02-26T21:33:18.083814Z"
    },
    "trusted": true
   },
   "outputs": [
    {
     "data": {
      "text/html": [
       "<div>\n",
       "<style scoped>\n",
       "    .dataframe tbody tr th:only-of-type {\n",
       "        vertical-align: middle;\n",
       "    }\n",
       "\n",
       "    .dataframe tbody tr th {\n",
       "        vertical-align: top;\n",
       "    }\n",
       "\n",
       "    .dataframe thead th {\n",
       "        text-align: right;\n",
       "    }\n",
       "</style>\n",
       "<table border=\"1\" class=\"dataframe\">\n",
       "  <thead>\n",
       "    <tr style=\"text-align: right;\">\n",
       "      <th></th>\n",
       "      <th>id</th>\n",
       "      <th>keyword</th>\n",
       "      <th>location</th>\n",
       "      <th>text</th>\n",
       "      <th>target</th>\n",
       "      <th>char_count</th>\n",
       "      <th>word_count</th>\n",
       "    </tr>\n",
       "  </thead>\n",
       "  <tbody>\n",
       "    <tr>\n",
       "      <th>24</th>\n",
       "      <td>36</td>\n",
       "      <td>NaN</td>\n",
       "      <td>NaN</td>\n",
       "      <td>LOOOOOOL</td>\n",
       "      <td>0</td>\n",
       "      <td>8</td>\n",
       "      <td>1</td>\n",
       "    </tr>\n",
       "    <tr>\n",
       "      <th>1882</th>\n",
       "      <td>2703</td>\n",
       "      <td>crushed</td>\n",
       "      <td>NaN</td>\n",
       "      <td>Crushed</td>\n",
       "      <td>0</td>\n",
       "      <td>7</td>\n",
       "      <td>1</td>\n",
       "    </tr>\n",
       "    <tr>\n",
       "      <th>3667</th>\n",
       "      <td>5221</td>\n",
       "      <td>fatality</td>\n",
       "      <td>Nairobi</td>\n",
       "      <td>Fatality!</td>\n",
       "      <td>0</td>\n",
       "      <td>9</td>\n",
       "      <td>1</td>\n",
       "    </tr>\n",
       "    <tr>\n",
       "      <th>3670</th>\n",
       "      <td>5224</td>\n",
       "      <td>fatality</td>\n",
       "      <td>Rafael castillo</td>\n",
       "      <td>fatality</td>\n",
       "      <td>0</td>\n",
       "      <td>8</td>\n",
       "      <td>1</td>\n",
       "    </tr>\n",
       "    <tr>\n",
       "      <th>4971</th>\n",
       "      <td>7088</td>\n",
       "      <td>meltdown</td>\n",
       "      <td>NaN</td>\n",
       "      <td>Meltdown</td>\n",
       "      <td>0</td>\n",
       "      <td>8</td>\n",
       "      <td>1</td>\n",
       "    </tr>\n",
       "    <tr>\n",
       "      <th>5115</th>\n",
       "      <td>7295</td>\n",
       "      <td>nuclear%20reactor</td>\n",
       "      <td>NaN</td>\n",
       "      <td>Err:509</td>\n",
       "      <td>0</td>\n",
       "      <td>7</td>\n",
       "      <td>1</td>\n",
       "    </tr>\n",
       "    <tr>\n",
       "      <th>5184</th>\n",
       "      <td>7400</td>\n",
       "      <td>obliterated</td>\n",
       "      <td>New York</td>\n",
       "      <td>Obliterated</td>\n",
       "      <td>0</td>\n",
       "      <td>11</td>\n",
       "      <td>1</td>\n",
       "    </tr>\n",
       "    <tr>\n",
       "      <th>6705</th>\n",
       "      <td>9605</td>\n",
       "      <td>thunder</td>\n",
       "      <td>NaN</td>\n",
       "      <td>Thunder???</td>\n",
       "      <td>0</td>\n",
       "      <td>10</td>\n",
       "      <td>1</td>\n",
       "    </tr>\n",
       "  </tbody>\n",
       "</table>\n",
       "</div>"
      ],
      "text/plain": [
       "        id            keyword         location         text  target  \\\n",
       "24      36                NaN              NaN     LOOOOOOL       0   \n",
       "1882  2703            crushed              NaN      Crushed       0   \n",
       "3667  5221           fatality          Nairobi    Fatality!       0   \n",
       "3670  5224           fatality  Rafael castillo     fatality       0   \n",
       "4971  7088           meltdown              NaN     Meltdown       0   \n",
       "5115  7295  nuclear%20reactor              NaN      Err:509       0   \n",
       "5184  7400        obliterated         New York  Obliterated       0   \n",
       "6705  9605            thunder              NaN   Thunder???       0   \n",
       "\n",
       "      char_count  word_count  \n",
       "24             8           1  \n",
       "1882           7           1  \n",
       "3667           9           1  \n",
       "3670           8           1  \n",
       "4971           8           1  \n",
       "5115           7           1  \n",
       "5184          11           1  \n",
       "6705          10           1  "
      ]
     },
     "execution_count": 9,
     "metadata": {},
     "output_type": "execute_result"
    }
   ],
   "source": [
    "train_df[train_df['word_count'] < 2]\n"
   ]
  },
  {
   "cell_type": "code",
   "execution_count": 10,
   "metadata": {
    "execution": {
     "iopub.execute_input": "2025-02-26T21:33:18.103408Z",
     "iopub.status.busy": "2025-02-26T21:33:18.103183Z",
     "iopub.status.idle": "2025-02-26T21:33:18.152443Z",
     "shell.execute_reply": "2025-02-26T21:33:18.151772Z",
     "shell.execute_reply.started": "2025-02-26T21:33:18.103380Z"
    },
    "trusted": true
   },
   "outputs": [
    {
     "name": "stdout",
     "output_type": "stream",
     "text": [
      "[('-', 763), ('like', 318), ('&amp;', 295), ('??', 214), ('via', 208), ('get', 183), ('fire', 148), ('...', 147), ('people', 146), ('2', 145), ('|', 142), ('one', 142), ('would', 116), ('new', 105), ('got', 103), ('New', 98), ('????', 96), ('know', 96), ('video', 93), ('going', 91)]\n"
     ]
    }
   ],
   "source": [
    "# Tokenize and count words\n",
    "all_words = ' '.join(train_df['text']).split()\n",
    "stop_words = set(stopwords.words('english'))\n",
    "filtered_words = [word for word in all_words if word.lower() not in stop_words]\n",
    "word_counts = Counter(filtered_words)\n",
    "\n",
    "print(word_counts.most_common(20))"
   ]
  },
  {
   "cell_type": "code",
   "execution_count": 11,
   "metadata": {
    "execution": {
     "iopub.execute_input": "2025-02-26T21:33:18.153684Z",
     "iopub.status.busy": "2025-02-26T21:33:18.153408Z",
     "iopub.status.idle": "2025-02-26T21:33:18.460964Z",
     "shell.execute_reply": "2025-02-26T21:33:18.460055Z",
     "shell.execute_reply.started": "2025-02-26T21:33:18.153649Z"
    },
    "trusted": true
   },
   "outputs": [
    {
     "name": "stdout",
     "output_type": "stream",
     "text": [
      "[('http co', 4306), ('https co', 410), ('in the', 308), ('of the', 256), ('û_ http', 217), ('on the', 129), ('to the', 126), ('to be', 108), ('for the', 97), ('at the', 85)]\n"
     ]
    }
   ],
   "source": [
    "# Top 10 bigrams\n",
    "vectorizer = CountVectorizer(ngram_range=(2, 2))  # Change to (1, 1) for unigrams, (3, 3) for trigrams\n",
    "ngrams = vectorizer.fit_transform(train_df['text'])\n",
    "ngram_counts = zip(vectorizer.get_feature_names_out(), ngrams.sum(axis=0).tolist()[0])\n",
    "sorted_ngrams = sorted(ngram_counts, key=lambda x: x[1], reverse=True)\n",
    "\n",
    "print(sorted_ngrams[:10])"
   ]
  },
  {
   "cell_type": "code",
   "execution_count": 12,
   "metadata": {
    "execution": {
     "iopub.execute_input": "2025-02-26T21:33:18.462000Z",
     "iopub.status.busy": "2025-02-26T21:33:18.461764Z",
     "iopub.status.idle": "2025-02-26T21:33:18.783599Z",
     "shell.execute_reply": "2025-02-26T21:33:18.782797Z",
     "shell.execute_reply.started": "2025-02-26T21:33:18.461979Z"
    },
    "trusted": true
   },
   "outputs": [
    {
     "name": "stdout",
     "output_type": "stream",
     "text": [
      "[('û_ http co', 217), ('liked youtube video', 42), ('video http co', 42), ('û_ https co', 35), ('homes razed by', 29), ('more homes razed', 29), ('northern california wildfire', 29), ('2015 http co', 28), ('bomber who detonated', 28), ('detonated bomb in', 28)]\n"
     ]
    }
   ],
   "source": [
    "# Trigram analysis\n",
    "vectorizer = CountVectorizer(ngram_range=(3,3))  # Change to (1, 1) for unigrams, (3, 3) for trigrams\n",
    "ngrams = vectorizer.fit_transform(train_df['text'])\n",
    "ngram_counts = zip(vectorizer.get_feature_names_out(), ngrams.sum(axis=0).tolist()[0])\n",
    "sorted_ngrams = sorted(ngram_counts, key=lambda x: x[1], reverse=True)\n",
    "\n",
    "print(sorted_ngrams[:10])"
   ]
  },
  {
   "cell_type": "code",
   "execution_count": 13,
   "metadata": {
    "execution": {
     "iopub.execute_input": "2025-02-26T21:33:18.784635Z",
     "iopub.status.busy": "2025-02-26T21:33:18.784391Z",
     "iopub.status.idle": "2025-02-26T21:33:29.024886Z",
     "shell.execute_reply": "2025-02-26T21:33:29.023975Z",
     "shell.execute_reply.started": "2025-02-26T21:33:18.784615Z"
    },
    "trusted": true
   },
   "outputs": [
    {
     "name": "stdout",
     "output_type": "stream",
     "text": [
      "Topic #0:\n",
      "['2015', 'crash', 'killed', 'video', 'body', 'emergency', 'news', 'police', 'û_', 'http']\n",
      "Topic #1:\n",
      "['got', 'want', 'new', 'disaster', 'don', 'people', 'https', 'like', 'just', 'http']\n",
      "Topic #2:\n",
      "['emergency', 'amp', 'bomber', 'û_', 'california', 'https', 'old', 'suicide', 'news', 'http']\n",
      "Topic #3:\n",
      "['know', 'just', 'buildings', 'û_', 'amp', 'don', 'burning', 'https', 'like', 'http']\n",
      "Topic #4:\n",
      "['atomic', 'û_', 'hiroshima', 'japan', 'legionnaires', 'pm', 'https', 'families', 'amp', 'http']\n"
     ]
    }
   ],
   "source": [
    "from sklearn.decomposition import LatentDirichletAllocation\n",
    "\n",
    "vectorizer = CountVectorizer(max_df=0.95, min_df=2, stop_words='english')\n",
    "dtm = vectorizer.fit_transform(train_df['text'])\n",
    "\n",
    "lda = LatentDirichletAllocation(n_components=5, random_state=42)\n",
    "lda.fit(dtm)\n",
    "\n",
    "# Display topics\n",
    "for index, topic in enumerate(lda.components_):\n",
    "    print(f\"Topic #{index}:\")\n",
    "    print([vectorizer.get_feature_names_out()[i] for i in topic.argsort()[-10:]])"
   ]
  },
  {
   "cell_type": "code",
   "execution_count": 14,
   "metadata": {
    "execution": {
     "iopub.execute_input": "2025-02-26T21:33:29.026206Z",
     "iopub.status.busy": "2025-02-26T21:33:29.025857Z",
     "iopub.status.idle": "2025-02-26T21:33:29.047132Z",
     "shell.execute_reply": "2025-02-26T21:33:29.046323Z",
     "shell.execute_reply.started": "2025-02-26T21:33:29.026174Z"
    },
    "trusted": true
   },
   "outputs": [
    {
     "name": "stdout",
     "output_type": "stream",
     "text": [
      "3971 records which contain http\n"
     ]
    },
    {
     "data": {
      "text/html": [
       "<div>\n",
       "<style scoped>\n",
       "    .dataframe tbody tr th:only-of-type {\n",
       "        vertical-align: middle;\n",
       "    }\n",
       "\n",
       "    .dataframe tbody tr th {\n",
       "        vertical-align: top;\n",
       "    }\n",
       "\n",
       "    .dataframe thead th {\n",
       "        text-align: right;\n",
       "    }\n",
       "</style>\n",
       "<table border=\"1\" class=\"dataframe\">\n",
       "  <thead>\n",
       "    <tr style=\"text-align: right;\">\n",
       "      <th></th>\n",
       "      <th>id</th>\n",
       "      <th>keyword</th>\n",
       "      <th>location</th>\n",
       "      <th>text</th>\n",
       "      <th>target</th>\n",
       "      <th>char_count</th>\n",
       "      <th>word_count</th>\n",
       "    </tr>\n",
       "  </thead>\n",
       "  <tbody>\n",
       "    <tr>\n",
       "      <th>31</th>\n",
       "      <td>48</td>\n",
       "      <td>ablaze</td>\n",
       "      <td>Birmingham</td>\n",
       "      <td>@bbcmtd Wholesale Markets ablaze http://t.co/l...</td>\n",
       "      <td>1</td>\n",
       "      <td>55</td>\n",
       "      <td>5</td>\n",
       "    </tr>\n",
       "    <tr>\n",
       "      <th>32</th>\n",
       "      <td>49</td>\n",
       "      <td>ablaze</td>\n",
       "      <td>Est. September 2012 - Bristol</td>\n",
       "      <td>We always try to bring the heavy. #metal #RT h...</td>\n",
       "      <td>0</td>\n",
       "      <td>67</td>\n",
       "      <td>10</td>\n",
       "    </tr>\n",
       "    <tr>\n",
       "      <th>33</th>\n",
       "      <td>50</td>\n",
       "      <td>ablaze</td>\n",
       "      <td>AFRICA</td>\n",
       "      <td>#AFRICANBAZE: Breaking news:Nigeria flag set a...</td>\n",
       "      <td>1</td>\n",
       "      <td>82</td>\n",
       "      <td>9</td>\n",
       "    </tr>\n",
       "    <tr>\n",
       "      <th>35</th>\n",
       "      <td>53</td>\n",
       "      <td>ablaze</td>\n",
       "      <td>London, UK</td>\n",
       "      <td>On plus side LOOK AT THE SKY LAST NIGHT IT WAS...</td>\n",
       "      <td>0</td>\n",
       "      <td>76</td>\n",
       "      <td>13</td>\n",
       "    </tr>\n",
       "    <tr>\n",
       "      <th>37</th>\n",
       "      <td>55</td>\n",
       "      <td>ablaze</td>\n",
       "      <td>World Wide!!</td>\n",
       "      <td>INEC Office in Abia Set Ablaze - http://t.co/3...</td>\n",
       "      <td>1</td>\n",
       "      <td>55</td>\n",
       "      <td>8</td>\n",
       "    </tr>\n",
       "    <tr>\n",
       "      <th>...</th>\n",
       "      <td>...</td>\n",
       "      <td>...</td>\n",
       "      <td>...</td>\n",
       "      <td>...</td>\n",
       "      <td>...</td>\n",
       "      <td>...</td>\n",
       "      <td>...</td>\n",
       "    </tr>\n",
       "    <tr>\n",
       "      <th>7606</th>\n",
       "      <td>10866</td>\n",
       "      <td>NaN</td>\n",
       "      <td>NaN</td>\n",
       "      <td>Suicide bomber kills 15 in Saudi security site...</td>\n",
       "      <td>1</td>\n",
       "      <td>121</td>\n",
       "      <td>20</td>\n",
       "    </tr>\n",
       "    <tr>\n",
       "      <th>7607</th>\n",
       "      <td>10867</td>\n",
       "      <td>NaN</td>\n",
       "      <td>NaN</td>\n",
       "      <td>#stormchase Violent Record Breaking EF-5 El Re...</td>\n",
       "      <td>1</td>\n",
       "      <td>134</td>\n",
       "      <td>16</td>\n",
       "    </tr>\n",
       "    <tr>\n",
       "      <th>7608</th>\n",
       "      <td>10869</td>\n",
       "      <td>NaN</td>\n",
       "      <td>NaN</td>\n",
       "      <td>Two giant cranes holding a bridge collapse int...</td>\n",
       "      <td>1</td>\n",
       "      <td>83</td>\n",
       "      <td>11</td>\n",
       "    </tr>\n",
       "    <tr>\n",
       "      <th>7610</th>\n",
       "      <td>10871</td>\n",
       "      <td>NaN</td>\n",
       "      <td>NaN</td>\n",
       "      <td>M1.94 [01:04 UTC]?5km S of Volcano Hawaii. htt...</td>\n",
       "      <td>1</td>\n",
       "      <td>65</td>\n",
       "      <td>8</td>\n",
       "    </tr>\n",
       "    <tr>\n",
       "      <th>7612</th>\n",
       "      <td>10873</td>\n",
       "      <td>NaN</td>\n",
       "      <td>NaN</td>\n",
       "      <td>The Latest: More Homes Razed by Northern Calif...</td>\n",
       "      <td>1</td>\n",
       "      <td>94</td>\n",
       "      <td>13</td>\n",
       "    </tr>\n",
       "  </tbody>\n",
       "</table>\n",
       "<p>3971 rows × 7 columns</p>\n",
       "</div>"
      ],
      "text/plain": [
       "         id keyword                       location  \\\n",
       "31       48  ablaze                     Birmingham   \n",
       "32       49  ablaze  Est. September 2012 - Bristol   \n",
       "33       50  ablaze                         AFRICA   \n",
       "35       53  ablaze                     London, UK   \n",
       "37       55  ablaze                   World Wide!!   \n",
       "...     ...     ...                            ...   \n",
       "7606  10866     NaN                            NaN   \n",
       "7607  10867     NaN                            NaN   \n",
       "7608  10869     NaN                            NaN   \n",
       "7610  10871     NaN                            NaN   \n",
       "7612  10873     NaN                            NaN   \n",
       "\n",
       "                                                   text  target  char_count  \\\n",
       "31    @bbcmtd Wholesale Markets ablaze http://t.co/l...       1          55   \n",
       "32    We always try to bring the heavy. #metal #RT h...       0          67   \n",
       "33    #AFRICANBAZE: Breaking news:Nigeria flag set a...       1          82   \n",
       "35    On plus side LOOK AT THE SKY LAST NIGHT IT WAS...       0          76   \n",
       "37    INEC Office in Abia Set Ablaze - http://t.co/3...       1          55   \n",
       "...                                                 ...     ...         ...   \n",
       "7606  Suicide bomber kills 15 in Saudi security site...       1         121   \n",
       "7607  #stormchase Violent Record Breaking EF-5 El Re...       1         134   \n",
       "7608  Two giant cranes holding a bridge collapse int...       1          83   \n",
       "7610  M1.94 [01:04 UTC]?5km S of Volcano Hawaii. htt...       1          65   \n",
       "7612  The Latest: More Homes Razed by Northern Calif...       1          94   \n",
       "\n",
       "      word_count  \n",
       "31             5  \n",
       "32            10  \n",
       "33             9  \n",
       "35            13  \n",
       "37             8  \n",
       "...          ...  \n",
       "7606          20  \n",
       "7607          16  \n",
       "7608          11  \n",
       "7610           8  \n",
       "7612          13  \n",
       "\n",
       "[3971 rows x 7 columns]"
      ]
     },
     "execution_count": 14,
     "metadata": {},
     "output_type": "execute_result"
    }
   ],
   "source": [
    "# Given there's such a high occurence of http within the posts, I wanted to take a peek if there were any patterns....\n",
    "http_records = train_df[train_df['text'].str.contains(\"http\")]\n",
    "print(f\"{len(http_records)} records which contain http\")\n",
    "train_df[train_df['text'].str.contains(\"http\")]"
   ]
  },
  {
   "cell_type": "markdown",
   "metadata": {},
   "source": [
    "## Text Cleaning\n",
    "In order to clean, normalize, and shrink the final vocabulary size, I will preprocess the text using a series of modifications including lowercasing all the text, removing punctuation, etc.  In more robust models, we could largely forgo many of these steps as they are essentially removing information for the sake of computational efficiency.\n",
    "\n",
    "I will compare these results vs using the native BERT transformer tokenizer."
   ]
  },
  {
   "cell_type": "code",
   "execution_count": 15,
   "metadata": {
    "execution": {
     "iopub.execute_input": "2025-02-26T21:33:29.048319Z",
     "iopub.status.busy": "2025-02-26T21:33:29.048044Z",
     "iopub.status.idle": "2025-02-26T21:33:31.387443Z",
     "shell.execute_reply": "2025-02-26T21:33:31.386728Z",
     "shell.execute_reply.started": "2025-02-26T21:33:29.048286Z"
    },
    "trusted": true
   },
   "outputs": [
    {
     "data": {
      "text/plain": [
       "'deed reason earthquak may allah forgiv us'"
      ]
     },
     "execution_count": 15,
     "metadata": {},
     "output_type": "execute_result"
    }
   ],
   "source": [
    "from nltk import word_tokenize, sent_tokenize, PorterStemmer\n",
    "import re\n",
    "def preprocess_text(df=train_df, source_column=\"text\", target_column='Cleaned_text'):\n",
    "#     df = df.drop_duplicates(subset=['Text'])\n",
    "    \n",
    "     # convert to lower cases\n",
    "    df[target_column] = df[source_column].str.lower()\n",
    "    \n",
    "    # remove punctuation \n",
    "    df[target_column] = df[target_column].apply(lambda doc: re.sub(r'[^\\w\\s]+', '', doc))\n",
    "    \n",
    "    # remove stopwords\n",
    "    stop_words = stopwords.words('english')\n",
    "    df[target_column] = df[target_column].apply(lambda doc: ' '.join([word for word in doc.split() if word not in (stop_words)]))\n",
    "    \n",
    "    # remove extra spaces\n",
    "    df[target_column] = df[target_column].apply(lambda doc: re.sub(' +', ' ', doc))\n",
    "    \n",
    "    # stemming\n",
    "    porter_stemmer = PorterStemmer()\n",
    "    df[target_column] = df[target_column].apply(lambda doc: [porter_stemmer.stem(word) for word in word_tokenize(doc)])\n",
    "    df[target_column] = df[target_column].apply(lambda words: ' '.join(words))\n",
    "\n",
    "    \n",
    "preprocess_text(train_df)\n",
    "train_df.Cleaned_text[0]"
   ]
  },
  {
   "cell_type": "code",
   "execution_count": 16,
   "metadata": {
    "execution": {
     "iopub.execute_input": "2025-02-26T21:33:31.388461Z",
     "iopub.status.busy": "2025-02-26T21:33:31.388261Z",
     "iopub.status.idle": "2025-02-26T21:33:39.601058Z",
     "shell.execute_reply": "2025-02-26T21:33:39.600111Z",
     "shell.execute_reply.started": "2025-02-26T21:33:31.388445Z"
    },
    "trusted": true
   },
   "outputs": [
    {
     "data": {
      "application/vnd.jupyter.widget-view+json": {
       "model_id": "3fa880c458b642bcb19a3b7671830c6b",
       "version_major": 2,
       "version_minor": 0
      },
      "text/plain": [
       "tokenizer_config.json:   0%|          | 0.00/48.0 [00:00<?, ?B/s]"
      ]
     },
     "metadata": {},
     "output_type": "display_data"
    },
    {
     "data": {
      "application/vnd.jupyter.widget-view+json": {
       "model_id": "9bcab4b75fdf4d6c9b5753049a6521fe",
       "version_major": 2,
       "version_minor": 0
      },
      "text/plain": [
       "config.json:   0%|          | 0.00/570 [00:00<?, ?B/s]"
      ]
     },
     "metadata": {},
     "output_type": "display_data"
    },
    {
     "data": {
      "application/vnd.jupyter.widget-view+json": {
       "model_id": "3627f94464d04a39b622425d7853ee69",
       "version_major": 2,
       "version_minor": 0
      },
      "text/plain": [
       "vocab.txt:   0%|          | 0.00/232k [00:00<?, ?B/s]"
      ]
     },
     "metadata": {},
     "output_type": "display_data"
    },
    {
     "data": {
      "application/vnd.jupyter.widget-view+json": {
       "model_id": "075747430dd0432db803ac09e6360cb7",
       "version_major": 2,
       "version_minor": 0
      },
      "text/plain": [
       "tokenizer.json:   0%|          | 0.00/466k [00:00<?, ?B/s]"
      ]
     },
     "metadata": {},
     "output_type": "display_data"
    },
    {
     "name": "stdout",
     "output_type": "stream",
     "text": [
      "tensor([  101,  2256, 15616,  2024,  1996,  3114,  1997,  2023,  1001,  8372,\n",
      "         2089, 16455,  9641,  2149,  2035,   102,     0,     0,     0,     0,\n",
      "            0,     0,     0,     0,     0,     0,     0,     0,     0,     0,\n",
      "            0,     0,     0,     0,     0,     0,     0,     0,     0,     0,\n",
      "            0,     0,     0,     0,     0,     0,     0,     0,     0,     0,\n",
      "            0,     0,     0,     0,     0,     0,     0,     0,     0,     0,\n",
      "            0,     0,     0,     0,     0,     0,     0,     0,     0,     0,\n",
      "            0,     0,     0,     0,     0,     0,     0,     0,     0,     0,\n",
      "            0,     0,     0,     0,     0,     0,     0,     0,     0,     0,\n",
      "            0,     0,     0,     0,     0,     0,     0,     0,     0,     0,\n",
      "            0,     0,     0,     0,     0,     0,     0,     0,     0,     0,\n",
      "            0,     0,     0,     0,     0,     0,     0,     0,     0,     0,\n",
      "            0,     0,     0,     0,     0,     0,     0,     0,     0,     0,\n",
      "            0,     0,     0,     0,     0,     0,     0,     0,     0,     0,\n",
      "            0,     0,     0,     0,     0,     0,     0,     0,     0,     0,\n",
      "            0,     0,     0,     0,     0,     0,     0,     0,     0,     0])\n"
     ]
    }
   ],
   "source": [
    "from transformers import AutoTokenizer\n",
    "\n",
    "# Load a pre-trained tokenizer\n",
    "tokenizer = AutoTokenizer.from_pretrained(\"bert-base-uncased\")\n",
    "max_text_length = 160  # hard coded from above metric on post lengths.\n",
    "\n",
    "\n",
    "# Tokenize and pad/truncate to a fixed length\n",
    "def encode_text(text_arr=train_df['text']):\n",
    "\n",
    "    results = tokenizer(\n",
    "        text_arr.tolist(),\n",
    "        padding=\"max_length\",  # Pad all tensors to max length\n",
    "        truncation=True,       \n",
    "        max_length=max_text_length,          \n",
    "        return_tensors=\"pt\"     # Return PyTorch tensors\n",
    "    )\n",
    "    return results\n",
    "    \n",
    "encoded_inputs = encode_text(train_df['text'])\n",
    "print(encoded_inputs['input_ids'][0]) "
   ]
  },
  {
   "cell_type": "code",
   "execution_count": 17,
   "metadata": {
    "execution": {
     "iopub.execute_input": "2025-02-26T21:33:39.602359Z",
     "iopub.status.busy": "2025-02-26T21:33:39.601902Z",
     "iopub.status.idle": "2025-02-26T21:33:39.608281Z",
     "shell.execute_reply": "2025-02-26T21:33:39.607509Z",
     "shell.execute_reply.started": "2025-02-26T21:33:39.602334Z"
    },
    "trusted": true
   },
   "outputs": [
    {
     "name": "stdout",
     "output_type": "stream",
     "text": [
      "\\Original Text:\n",
      "Our Deeds are the Reason of this #earthquake May ALLAH Forgive us all\n",
      "\n",
      "Decoded Text:\n",
      "our deeds are the reason of this # earthquake may allah forgive us all\n"
     ]
    }
   ],
   "source": [
    "# Decode the first example's tokenized text for comparison...\n",
    "decoded_text = tokenizer.decode(encoded_inputs['input_ids'][0], skip_special_tokens=True)\n",
    "print(\"\\Original Text:\")\n",
    "print(train_df['text'][0])\n",
    "print(\"\\nDecoded Text:\")\n",
    "print(decoded_text)"
   ]
  },
  {
   "cell_type": "code",
   "execution_count": 18,
   "metadata": {
    "execution": {
     "iopub.execute_input": "2025-02-26T21:33:39.609550Z",
     "iopub.status.busy": "2025-02-26T21:33:39.609272Z",
     "iopub.status.idle": "2025-02-26T21:33:40.678166Z",
     "shell.execute_reply": "2025-02-26T21:33:40.677293Z",
     "shell.execute_reply.started": "2025-02-26T21:33:39.609529Z"
    },
    "trusted": true
   },
   "outputs": [
    {
     "name": "stdout",
     "output_type": "stream",
     "text": [
      "({'input_ids': tensor([  101,  2256, 15616,  2024,  1996,  3114,  1997,  2023,  1001,  8372,\n",
      "         2089, 16455,  9641,  2149,  2035,   102,     0,     0,     0,     0,\n",
      "            0,     0,     0,     0,     0,     0,     0,     0,     0,     0,\n",
      "            0,     0,     0,     0,     0,     0,     0,     0,     0,     0,\n",
      "            0,     0,     0,     0,     0,     0,     0,     0,     0,     0,\n",
      "            0,     0,     0,     0,     0,     0,     0,     0,     0,     0,\n",
      "            0,     0,     0,     0,     0,     0,     0,     0,     0,     0,\n",
      "            0,     0,     0,     0,     0,     0,     0,     0,     0,     0,\n",
      "            0,     0,     0,     0,     0,     0,     0,     0,     0,     0,\n",
      "            0,     0,     0,     0,     0,     0,     0,     0,     0,     0,\n",
      "            0,     0,     0,     0,     0,     0,     0,     0,     0,     0,\n",
      "            0,     0,     0,     0,     0,     0,     0,     0,     0,     0,\n",
      "            0,     0,     0,     0,     0,     0,     0,     0,     0,     0,\n",
      "            0,     0,     0,     0,     0,     0,     0,     0,     0,     0,\n",
      "            0,     0,     0,     0,     0,     0,     0,     0,     0,     0,\n",
      "            0,     0,     0,     0,     0,     0,     0,     0,     0,     0]), 'token_type_ids': tensor([0, 0, 0, 0, 0, 0, 0, 0, 0, 0, 0, 0, 0, 0, 0, 0, 0, 0, 0, 0, 0, 0, 0, 0,\n",
      "        0, 0, 0, 0, 0, 0, 0, 0, 0, 0, 0, 0, 0, 0, 0, 0, 0, 0, 0, 0, 0, 0, 0, 0,\n",
      "        0, 0, 0, 0, 0, 0, 0, 0, 0, 0, 0, 0, 0, 0, 0, 0, 0, 0, 0, 0, 0, 0, 0, 0,\n",
      "        0, 0, 0, 0, 0, 0, 0, 0, 0, 0, 0, 0, 0, 0, 0, 0, 0, 0, 0, 0, 0, 0, 0, 0,\n",
      "        0, 0, 0, 0, 0, 0, 0, 0, 0, 0, 0, 0, 0, 0, 0, 0, 0, 0, 0, 0, 0, 0, 0, 0,\n",
      "        0, 0, 0, 0, 0, 0, 0, 0, 0, 0, 0, 0, 0, 0, 0, 0, 0, 0, 0, 0, 0, 0, 0, 0,\n",
      "        0, 0, 0, 0, 0, 0, 0, 0, 0, 0, 0, 0, 0, 0, 0, 0]), 'attention_mask': tensor([1, 1, 1, 1, 1, 1, 1, 1, 1, 1, 1, 1, 1, 1, 1, 1, 0, 0, 0, 0, 0, 0, 0, 0,\n",
      "        0, 0, 0, 0, 0, 0, 0, 0, 0, 0, 0, 0, 0, 0, 0, 0, 0, 0, 0, 0, 0, 0, 0, 0,\n",
      "        0, 0, 0, 0, 0, 0, 0, 0, 0, 0, 0, 0, 0, 0, 0, 0, 0, 0, 0, 0, 0, 0, 0, 0,\n",
      "        0, 0, 0, 0, 0, 0, 0, 0, 0, 0, 0, 0, 0, 0, 0, 0, 0, 0, 0, 0, 0, 0, 0, 0,\n",
      "        0, 0, 0, 0, 0, 0, 0, 0, 0, 0, 0, 0, 0, 0, 0, 0, 0, 0, 0, 0, 0, 0, 0, 0,\n",
      "        0, 0, 0, 0, 0, 0, 0, 0, 0, 0, 0, 0, 0, 0, 0, 0, 0, 0, 0, 0, 0, 0, 0, 0,\n",
      "        0, 0, 0, 0, 0, 0, 0, 0, 0, 0, 0, 0, 0, 0, 0, 0])}, tensor(1.))\n"
     ]
    }
   ],
   "source": [
    "import torch\n",
    "\n",
    "class TextDataset(torch.utils.data.Dataset):\n",
    "    def __init__(self, data):\n",
    "        self.data = data\n",
    "        self.encodings = encode_text(data['text'])\n",
    "        self.labels = torch.tensor(data['target'].values, dtype=torch.float32)   #Revise to int/long...\n",
    "\n",
    "    def __getitem__(self, idx):\n",
    "        return {key: val[idx] for key, val in self.encodings.items()}, self.labels[idx]\n",
    "\n",
    "    def __len__(self):\n",
    "        return len(self.encodings['input_ids'])\n",
    "\n",
    "dataset = TextDataset(train_df)\n",
    "\n",
    "print(dataset[0])"
   ]
  },
  {
   "cell_type": "code",
   "execution_count": null,
   "metadata": {
    "execution": {
     "iopub.execute_input": "2025-02-26T22:44:48.423223Z",
     "iopub.status.busy": "2025-02-26T22:44:48.422878Z",
     "iopub.status.idle": "2025-02-26T22:44:48.440409Z",
     "shell.execute_reply": "2025-02-26T22:44:48.439396Z",
     "shell.execute_reply.started": "2025-02-26T22:44:48.423194Z"
    },
    "trusted": true
   },
   "outputs": [],
   "source": [
    "import torch.nn as nn\n",
    "\n",
    "class RNNModel (nn.Module):\n",
    "    def __init__(self, vocab_size, embedding_dim, hidden_dim,num_layers, dropout=0, bidirectional=False):\n",
    "        super(RNNModel, self).__init__()\n",
    "        \n",
    "        self.embeddings = nn.Embedding(vocab_size, embedding_dim)\n",
    "        \n",
    "        # self.lstm = nn.LSTM(embedding_dim, hidden_dim, num_layers,batch_first=True)\n",
    "        # batch first should return tensor shape [batch, sequence, feature]\n",
    "        self.rnn = nn.RNN(embedding_dim, hidden_dim, num_layers,batch_first=True, dropout=dropout) \n",
    "        \n",
    "        # We are moving from hidden layer to a single, fully connected layer for binary output\n",
    "        output_dim = hidden_dim * 2 if bidirectional else hidden_dim\n",
    "        self.fc = nn.Linear(output_dim, 1)\n",
    "        \n",
    "        self.output = nn.Sigmoid() # Our final output is evaluated against binary cross entropy, so we need sigmoidal output...\n",
    "        \n",
    "    def forward(self,x):\n",
    "        # X shape = (batch_size, sequence)\n",
    "        x = self.embeddings(x)  # x shape = (batch_size, sequence, embedding dim)\n",
    "        output, _ = self.rnn(x) # output shape = (batch size, sequence, hidden dim)\n",
    "        \n",
    "        # take the last output value only since we're only making a single prediction...\n",
    "        last_output = output[:,-1, :] # shape = (batch size, hidden dim)\n",
    "        fc_output = self.fc(last_output)\n",
    "        final_output = self.output(fc_output)\n",
    "        return final_output\n",
    "        "
   ]
  },
  {
   "cell_type": "code",
   "execution_count": 79,
   "metadata": {
    "trusted": true
   },
   "outputs": [],
   "source": [
    "import time\n",
    "\n",
    "# Training parameters\n",
    "embedding_dim = max_text_length  # Also equal to the max length of the encoded vectors...\n",
    "vocab_size = tokenizer.vocab_size       \n",
    "hidden_dim = 256\n",
    "num_classes = 2  # binary class results\n",
    "num_layers = 4\n",
    "seed = 42\n",
    "dropout = 0.5\n",
    "\n",
    "# Model hyperparameters\n",
    "learning_rate = 1e-3\n",
    "num_epochs = 20\n",
    "batch_size = 128\n",
    "\n",
    "# Prep the training...\n",
    "torch.manual_seed(seed)\n",
    "start_time = time.time()\n",
    "device = torch.device('cuda' if torch.cuda.is_available() else 'cpu')\n",
    "\n",
    "rnn_model = RNNModel(vocab_size, embedding_dim, hidden_dim, num_layers, dropout=dropout).to(device)\n",
    "criterion = nn.BCELoss\n",
    "optimizer = torch.optim.Adam(rnn_model.parameters(), lr=learning_rate)\n",
    "\n",
    "train_split, valid_split = train_test_split(train_df, test_size=0.2, random_state=seed)\n",
    "\n",
    "train_data = TextDataset(train_split)\n",
    "valid_data = TextDataset(valid_split)\n",
    "\n",
    "train_loader = DataLoader(train_data, batch_size, shuffle=True, num_workers=4)\n",
    "valid_loader = DataLoader(valid_data, batch_size, shuffle=False, num_workers=4)\n",
    "\n",
    "def train(model):\n",
    "    model.train()\n",
    "    loss_steps = []\n",
    "    \n",
    "    for epoch in range(num_epochs):\n",
    "        total_samples = 0\n",
    "        total_loss = 0.0\n",
    "        total_correct = 0\n",
    "        for batch in train_loader:\n",
    "            optimizer.zero_grad()\n",
    "            inputs = batch[0]['input_ids'].to(device)  # Extract input_ids from the dictionary\n",
    "            labels = batch[1].unsqueeze(1).to(device)  # Reshape labels to match output shape\n",
    "            outputs = model(inputs)\n",
    "            loss = criterion(outputs, labels)\n",
    "            loss.backward()\n",
    "            optimizer.step()\n",
    "            \n",
    "            # Calculate running loss and accuracy\n",
    "            total_loss += loss.item() * len(inputs)  # Multiply by batch size\n",
    "            preds = (outputs > 0.5).int()  # Convert probabilities to binary predictions\n",
    "            total_correct += (preds == labels).sum().item()  # Count correct predictions\n",
    "            total_samples += len(inputs)  # Count total samples\n",
    "            # print(f'sampling: preds {preds[:5]}, labels: {labels[:5]}')\n",
    "    \n",
    "        # Calculate average loss and accuracy for the epoch\n",
    "        avg_loss = total_loss / total_samples\n",
    "        accuracy = total_correct / total_samples\n",
    "        loss_steps.append(avg_loss)\n",
    "        # print(f\"--Pending model training time: {time.time() - start_time:.2f} seconds\")\n",
    "        print(f\"Epoch [{epoch+1}/{num_epochs}], Loss: {avg_loss:.4f}, Accuracy: {accuracy:.4f}, Time: {time.time() - start_time:.2f} seconds\")\n",
    "\n",
    "def validate(model):\n",
    "    model.eval()\n",
    "    val_correct = 0\n",
    "    val_samples = 0\n",
    "    with torch.no_grad():\n",
    "        val_loss = 0\n",
    "        for batch in valid_loader:\n",
    "            inputs = batch[0]['input_ids'].to(device)  # Extract input_ids from the dictionary\n",
    "            labels = batch[1].unsqueeze(1).to(device)  # Reshape labels to match output shape\n",
    "            outputs = rnn_model(inputs)\n",
    "            val_loss += criterion(outputs, labels).item() * len(inputs)  # Multiply by batch size\n",
    "    \n",
    "            # Calculate validation accuracy\n",
    "            preds = (outputs > 0.5).int()  # Convert probabilities to binary predictions\n",
    "            val_correct += (preds == labels).sum().item()  # Count correct predictions\n",
    "            val_samples += len(inputs)  # Count total samples\n",
    "    \n",
    "        # Calculate average validation loss and accuracy\n",
    "        avg_val_loss = val_loss / val_samples\n",
    "        val_accuracy = val_correct / val_samples\n",
    "\n",
    "# train(rnn_model)\n",
    "# validate(rnn_model)\n"
   ]
  },
  {
   "cell_type": "code",
   "execution_count": null,
   "metadata": {
    "execution": {
     "iopub.execute_input": "2025-02-26T22:57:59.100742Z",
     "iopub.status.busy": "2025-02-26T22:57:59.100418Z",
     "iopub.status.idle": "2025-02-26T22:57:59.106656Z",
     "shell.execute_reply": "2025-02-26T22:57:59.105671Z",
     "shell.execute_reply.started": "2025-02-26T22:57:59.100717Z"
    },
    "trusted": true
   },
   "outputs": [],
   "source": [
    "class LSTMModel (nn.Module):\n",
    "    def __init__(self, vocab_size, embedding_dim, hidden_dim,num_layers, dropout=0, bidirectional=False):\n",
    "        super(LSTMModel, self).__init__()\n",
    "        \n",
    "        self.embeddings = nn.Embedding(vocab_size, embedding_dim)\n",
    "        \n",
    "        # self.lstm = nn.LSTM(embedding_dim, hidden_dim, num_layers,batch_first=True)\n",
    "        # batch first should return tensor shape [batch, sequence, feature]\n",
    "        self.lstm = nn.LSTM(embedding_dim, hidden_dim, num_layers,batch_first=True, dropout=dropout) \n",
    "        \n",
    "        # We are moving from hidden layer to a single, fully connected layer for binary output\n",
    "        output_dim = hidden_dim * 2 if bidirectional else hidden_dim\n",
    "        self.fc = nn.Linear(hidden_dim, 1)\n",
    "        \n",
    "        self.output = nn.Sigmoid() # Our final output is evaluated against binary cross entropy, so we need sigmoidal output...\n",
    "        \n",
    "    def forward(self,x):\n",
    "        # X shape = (batch_size, sequence)\n",
    "        x = self.embeddings(x)  # x shape = (batch_size, sequence, embedding dim)\n",
    "        output, _ = self.lstm(x) # output shape = (batch size, sequence, hidden dim)\n",
    "        \n",
    "        # take the last output value only since we're only making a single prediction...\n",
    "        last_output = output[:,-1, :] # shape = (batch size, hidden dim)\n",
    "        fc_output = self.fc(last_output)\n",
    "        final_output = self.output(fc_output)\n",
    "        return final_output\n",
    "        "
   ]
  },
  {
   "cell_type": "code",
   "execution_count": 81,
   "metadata": {
    "execution": {
     "iopub.execute_input": "2025-02-26T22:57:59.663733Z",
     "iopub.status.busy": "2025-02-26T22:57:59.663443Z",
     "iopub.status.idle": "2025-02-26T22:59:15.746607Z",
     "shell.execute_reply": "2025-02-26T22:59:15.745664Z",
     "shell.execute_reply.started": "2025-02-26T22:57:59.663709Z"
    },
    "trusted": true
   },
   "outputs": [
    {
     "name": "stdout",
     "output_type": "stream",
     "text": [
      "Epoch [1/20], Loss: 0.6921, Accuracy: 0.5695, Time: 32.08 seconds\n",
      "Epoch [2/20], Loss: 0.6922, Accuracy: 0.5695, Time: 35.85 seconds\n",
      "Epoch [3/20], Loss: 0.6921, Accuracy: 0.5695, Time: 39.64 seconds\n",
      "Epoch [4/20], Loss: 0.6921, Accuracy: 0.5695, Time: 43.42 seconds\n",
      "Epoch [5/20], Loss: 0.6921, Accuracy: 0.5695, Time: 47.19 seconds\n",
      "Epoch [6/20], Loss: 0.6921, Accuracy: 0.5695, Time: 50.97 seconds\n",
      "Epoch [7/20], Loss: 0.6921, Accuracy: 0.5695, Time: 54.74 seconds\n",
      "Epoch [8/20], Loss: 0.6921, Accuracy: 0.5695, Time: 58.51 seconds\n",
      "Epoch [9/20], Loss: 0.6922, Accuracy: 0.5695, Time: 62.28 seconds\n",
      "Epoch [10/20], Loss: 0.6921, Accuracy: 0.5695, Time: 66.05 seconds\n",
      "Epoch [11/20], Loss: 0.6921, Accuracy: 0.5695, Time: 69.82 seconds\n",
      "Epoch [12/20], Loss: 0.6922, Accuracy: 0.5695, Time: 73.60 seconds\n",
      "Epoch [13/20], Loss: 0.6921, Accuracy: 0.5695, Time: 77.38 seconds\n",
      "Epoch [14/20], Loss: 0.6922, Accuracy: 0.5695, Time: 81.15 seconds\n",
      "Epoch [15/20], Loss: 0.6922, Accuracy: 0.5695, Time: 84.93 seconds\n",
      "Epoch [16/20], Loss: 0.6921, Accuracy: 0.5695, Time: 88.75 seconds\n",
      "Epoch [17/20], Loss: 0.6922, Accuracy: 0.5695, Time: 92.53 seconds\n",
      "Epoch [18/20], Loss: 0.6922, Accuracy: 0.5695, Time: 96.32 seconds\n",
      "Epoch [19/20], Loss: 0.6921, Accuracy: 0.5696, Time: 100.10 seconds\n",
      "Epoch [20/20], Loss: 0.6921, Accuracy: 0.5696, Time: 103.88 seconds\n"
     ]
    }
   ],
   "source": [
    "lstm_model = LSTMModel(vocab_size, embedding_dim, hidden_dim, num_layers, dropout=dropout).to(device)\n",
    "# lstm_model.train()\n",
    "train(lstm_model)\n",
    "validate(lstm_model)"
   ]
  },
  {
   "cell_type": "code",
   "execution_count": 41,
   "metadata": {
    "execution": {
     "iopub.execute_input": "2025-02-26T21:58:53.120760Z",
     "iopub.status.busy": "2025-02-26T21:58:53.120442Z",
     "iopub.status.idle": "2025-02-26T21:58:53.886553Z",
     "shell.execute_reply": "2025-02-26T21:58:53.885710Z",
     "shell.execute_reply.started": "2025-02-26T21:58:53.120736Z"
    },
    "trusted": true
   },
   "outputs": [
    {
     "name": "stdout",
     "output_type": "stream",
     "text": [
      "ids: [0, 2, 3, 9, 11], preds: [0, 0, 0, 0, 0]\n",
      "Submission file saved as 'submission.csv'\n"
     ]
    },
    {
     "data": {
      "text/html": [
       "<div>\n",
       "<style scoped>\n",
       "    .dataframe tbody tr th:only-of-type {\n",
       "        vertical-align: middle;\n",
       "    }\n",
       "\n",
       "    .dataframe tbody tr th {\n",
       "        vertical-align: top;\n",
       "    }\n",
       "\n",
       "    .dataframe thead th {\n",
       "        text-align: right;\n",
       "    }\n",
       "</style>\n",
       "<table border=\"1\" class=\"dataframe\">\n",
       "  <thead>\n",
       "    <tr style=\"text-align: right;\">\n",
       "      <th></th>\n",
       "      <th>id</th>\n",
       "      <th>target</th>\n",
       "    </tr>\n",
       "  </thead>\n",
       "  <tbody>\n",
       "    <tr>\n",
       "      <th>0</th>\n",
       "      <td>0</td>\n",
       "      <td>0</td>\n",
       "    </tr>\n",
       "    <tr>\n",
       "      <th>1</th>\n",
       "      <td>2</td>\n",
       "      <td>0</td>\n",
       "    </tr>\n",
       "    <tr>\n",
       "      <th>2</th>\n",
       "      <td>3</td>\n",
       "      <td>0</td>\n",
       "    </tr>\n",
       "    <tr>\n",
       "      <th>3</th>\n",
       "      <td>9</td>\n",
       "      <td>0</td>\n",
       "    </tr>\n",
       "    <tr>\n",
       "      <th>4</th>\n",
       "      <td>11</td>\n",
       "      <td>0</td>\n",
       "    </tr>\n",
       "  </tbody>\n",
       "</table>\n",
       "</div>"
      ],
      "text/plain": [
       "   id  target\n",
       "0   0       0\n",
       "1   2       0\n",
       "2   3       0\n",
       "3   9       0\n",
       "4  11       0"
      ]
     },
     "execution_count": 41,
     "metadata": {},
     "output_type": "execute_result"
    }
   ],
   "source": [
    "# class TestDataset(torch.utils.data.Dataset):\n",
    "#     def __init__(self, data):\n",
    "#         self.data = data\n",
    "#         self.encodings = encode_text(data['text'])\n",
    "#         self.ids = data['id'].values\n",
    "\n",
    "#     def __getitem__(self, idx):\n",
    "#         return self.encodings['input_ids'][idx], self.ids[idx]\n",
    "\n",
    "#     def __len__(self):\n",
    "#         return len(self.encodings['input_ids'])\n",
    "\n",
    "# test_dataset = TestDataset(test_df)\n",
    "# test_loader = DataLoader(test_dataset, batch_size=64, shuffle=False, num_workers=4)\n",
    "# model = rnn_model\n",
    "# # Generate predictions\n",
    "# predictions = []\n",
    "# ids = []\n",
    "# with torch.no_grad():  \n",
    "#     for inputs, input_ids in test_loader:\n",
    "#         inputs = inputs.to(device)  # Extract input_ids from the dictionary\n",
    "#         outputs = model(inputs)           # Forward pass\n",
    "#         _, preds = torch.max(outputs, 1)  # Get predicted class indices\n",
    "#         # predictions.extend(preds)         \n",
    "#         # ids.extend(input_ids)  \n",
    "#         # print(f\"---{input_ids}\")\n",
    "#         predictions.extend(preds.cpu().numpy())  # Move predictions to CPU and convert to numpy array\n",
    "#         ids.extend(input_ids.cpu().numpy())  # Move IDs to CPU and convert to numpy array\n",
    "\n",
    "\n",
    "# print(f\"ids: {ids[:5]}, preds: {predictions[:5]}\")\n",
    "# # Create a submission DataFrame\n",
    "# submission_df = pd.DataFrame({\n",
    "#     'id': ids,\n",
    "#     'target': predictions\n",
    "# })\n",
    "\n",
    "# submission_filename = 'submission.csv'\n",
    "# # Save the submission file\n",
    "# submission_df.to_csv(submission_filename, index=False)\n",
    "# print(f\"Submission file saved as '{submission_filename}'\")\n",
    "# submission_df.head()"
   ]
  },
  {
   "cell_type": "code",
   "execution_count": null,
   "metadata": {
    "trusted": true
   },
   "outputs": [],
   "source": []
  }
 ],
 "metadata": {
  "kaggle": {
   "accelerator": "gpu",
   "dataSources": [
    {
     "databundleVersionId": 869809,
     "sourceId": 17777,
     "sourceType": "competition"
    }
   ],
   "dockerImageVersionId": 30918,
   "isGpuEnabled": true,
   "isInternetEnabled": true,
   "language": "python",
   "sourceType": "notebook"
  },
  "kernelspec": {
   "display_name": "Python 3",
   "language": "python",
   "name": "python3"
  },
  "language_info": {
   "codemirror_mode": {
    "name": "ipython",
    "version": 3
   },
   "file_extension": ".py",
   "mimetype": "text/x-python",
   "name": "python",
   "nbconvert_exporter": "python",
   "pygments_lexer": "ipython3",
   "version": "3.10.12"
  }
 },
 "nbformat": 4,
 "nbformat_minor": 4
}

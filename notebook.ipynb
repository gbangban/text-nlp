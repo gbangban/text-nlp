{
 "cells": [
  {
   "cell_type": "code",
   "execution_count": 79,
   "metadata": {},
   "outputs": [
    {
     "name": "stderr",
     "output_type": "stream",
     "text": [
      "[nltk_data] Downloading package stopwords to /home/yao/nltk_data...\n",
      "[nltk_data]   Package stopwords is already up-to-date!\n"
     ]
    }
   ],
   "source": [
    "# This Python 3 environment comes with many helpful analytics libraries installed\n",
    "# It is defined by the kaggle/python Docker image: https://github.com/kaggle/docker-python\n",
    "# For example, here's several helpful packages to load\n",
    "\n",
    "import numpy as np # linear algebra\n",
    "import pandas as pd # data processing, CSV file I/O (e.g. pd.read_csv)\n",
    "import matplotlib.pyplot as plt\n",
    "import seaborn as sns\n",
    "from collections import Counter\n",
    "import nltk\n",
    "nltk.download('stopwords')\n",
    "from nltk.corpus import stopwords\n",
    "from sklearn.feature_extraction.text import CountVectorizer\n",
    "\n",
    "# Input data files are available in the read-only \"../input/\" directory\n",
    "# For example, running this (by clicking run or pressing Shift+Enter) will list all files under the input directory\n",
    "\n",
    "import os\n",
    "for dirname, _, filenames in os.walk('/kaggle/input'):\n",
    "    for filename in filenames:\n",
    "        print(os.path.join(dirname, filename))\n",
    "\n",
    "# You can write up to 20GB to the current directory (/kaggle/working/) that gets preserved as output when you create a version using \"Save & Run All\" \n",
    "# You can also write temporary files to /kaggle/temp/, but they won't be saved outside of the current session"
   ]
  },
  {
   "cell_type": "markdown",
   "metadata": {},
   "source": [
    "# Introduction\n",
    "In times of crisis, people will often turn to social media to ask for help, but its often difficult to distinguish these pleas from more general posts algorithmically.  This notebook will attempt to classify posts using a recurrent neural network built towards sentiment analysis.\n",
    "\n",
    "As the final result is binary (0 for not a disaster post, 1 for a disaster post), I will use a sigmoidal neuron with binary cross entropy loss for the actual classification."
   ]
  },
  {
   "cell_type": "code",
   "execution_count": 50,
   "metadata": {},
   "outputs": [
    {
     "name": "stdout",
     "output_type": "stream",
     "text": [
      "The training data shape is: (7613, 5)\n"
     ]
    },
    {
     "data": {
      "application/vnd.microsoft.datawrangler.viewer.v0+json": {
       "columns": [
        {
         "name": "index",
         "rawType": "int64",
         "type": "integer"
        },
        {
         "name": "id",
         "rawType": "int64",
         "type": "integer"
        },
        {
         "name": "keyword",
         "rawType": "object",
         "type": "unknown"
        },
        {
         "name": "location",
         "rawType": "object",
         "type": "unknown"
        },
        {
         "name": "text",
         "rawType": "object",
         "type": "string"
        },
        {
         "name": "target",
         "rawType": "int64",
         "type": "integer"
        }
       ],
       "conversionMethod": "pd.DataFrame",
       "ref": "a850e718-3565-49f7-a8c7-1888bd05b24a",
       "rows": [
        [
         "0",
         "1",
         null,
         null,
         "Our Deeds are the Reason of this #earthquake May ALLAH Forgive us all",
         "1"
        ],
        [
         "1",
         "4",
         null,
         null,
         "Forest fire near La Ronge Sask. Canada",
         "1"
        ],
        [
         "2",
         "5",
         null,
         null,
         "All residents asked to 'shelter in place' are being notified by officers. No other evacuation or shelter in place orders are expected",
         "1"
        ],
        [
         "3",
         "6",
         null,
         null,
         "13,000 people receive #wildfires evacuation orders in California ",
         "1"
        ],
        [
         "4",
         "7",
         null,
         null,
         "Just got sent this photo from Ruby #Alaska as smoke from #wildfires pours into a school ",
         "1"
        ]
       ],
       "shape": {
        "columns": 5,
        "rows": 5
       }
      },
      "text/html": [
       "<div>\n",
       "<style scoped>\n",
       "    .dataframe tbody tr th:only-of-type {\n",
       "        vertical-align: middle;\n",
       "    }\n",
       "\n",
       "    .dataframe tbody tr th {\n",
       "        vertical-align: top;\n",
       "    }\n",
       "\n",
       "    .dataframe thead th {\n",
       "        text-align: right;\n",
       "    }\n",
       "</style>\n",
       "<table border=\"1\" class=\"dataframe\">\n",
       "  <thead>\n",
       "    <tr style=\"text-align: right;\">\n",
       "      <th></th>\n",
       "      <th>id</th>\n",
       "      <th>keyword</th>\n",
       "      <th>location</th>\n",
       "      <th>text</th>\n",
       "      <th>target</th>\n",
       "    </tr>\n",
       "  </thead>\n",
       "  <tbody>\n",
       "    <tr>\n",
       "      <th>0</th>\n",
       "      <td>1</td>\n",
       "      <td>NaN</td>\n",
       "      <td>NaN</td>\n",
       "      <td>Our Deeds are the Reason of this #earthquake M...</td>\n",
       "      <td>1</td>\n",
       "    </tr>\n",
       "    <tr>\n",
       "      <th>1</th>\n",
       "      <td>4</td>\n",
       "      <td>NaN</td>\n",
       "      <td>NaN</td>\n",
       "      <td>Forest fire near La Ronge Sask. Canada</td>\n",
       "      <td>1</td>\n",
       "    </tr>\n",
       "    <tr>\n",
       "      <th>2</th>\n",
       "      <td>5</td>\n",
       "      <td>NaN</td>\n",
       "      <td>NaN</td>\n",
       "      <td>All residents asked to 'shelter in place' are ...</td>\n",
       "      <td>1</td>\n",
       "    </tr>\n",
       "    <tr>\n",
       "      <th>3</th>\n",
       "      <td>6</td>\n",
       "      <td>NaN</td>\n",
       "      <td>NaN</td>\n",
       "      <td>13,000 people receive #wildfires evacuation or...</td>\n",
       "      <td>1</td>\n",
       "    </tr>\n",
       "    <tr>\n",
       "      <th>4</th>\n",
       "      <td>7</td>\n",
       "      <td>NaN</td>\n",
       "      <td>NaN</td>\n",
       "      <td>Just got sent this photo from Ruby #Alaska as ...</td>\n",
       "      <td>1</td>\n",
       "    </tr>\n",
       "  </tbody>\n",
       "</table>\n",
       "</div>"
      ],
      "text/plain": [
       "   id keyword location                                               text  \\\n",
       "0   1     NaN      NaN  Our Deeds are the Reason of this #earthquake M...   \n",
       "1   4     NaN      NaN             Forest fire near La Ronge Sask. Canada   \n",
       "2   5     NaN      NaN  All residents asked to 'shelter in place' are ...   \n",
       "3   6     NaN      NaN  13,000 people receive #wildfires evacuation or...   \n",
       "4   7     NaN      NaN  Just got sent this photo from Ruby #Alaska as ...   \n",
       "\n",
       "   target  \n",
       "0       1  \n",
       "1       1  \n",
       "2       1  \n",
       "3       1  \n",
       "4       1  "
      ]
     },
     "execution_count": 50,
     "metadata": {},
     "output_type": "execute_result"
    }
   ],
   "source": [
    "kaggle_path = '/kaggle/input'\n",
    "local_path = './data'\n",
    "if os.path.exists(kaggle_path):\n",
    "    filepath = f\"{kaggle_path}/nlp-getting-started\"\n",
    "else:\n",
    "    filepath = local_path\n",
    "    \n",
    "train_df = pd.read_csv(f\"{filepath}/train.csv\")\n",
    "test_df = pd.read_csv(f\"{filepath}/test.csv\")\n",
    "print(f\"The training data shape is: {train_df.shape}\")\n",
    "train_df.head()"
   ]
  },
  {
   "cell_type": "code",
   "execution_count": 48,
   "metadata": {},
   "outputs": [
    {
     "data": {
      "image/png": "[encoded data removed]",
      "text/plain": [
       "<Figure size 640x480 with 1 Axes>"
      ]
     },
     "metadata": {},
     "output_type": "display_data"
    }
   ],
   "source": [
    "# Visualize the balance of labels...\n",
    "label_counts = train_df['target'].value_counts()\n",
    "label_counts.plot(kind=\"bar\")\n",
    "plt.title(\"Distribution of labels in training set\")\n",
    "plt.xlabel(\"Label\")\n",
    "plt.ylabel(\"# of Items\")\n",
    "plt.show()\n"
   ]
  },
  {
   "cell_type": "markdown",
   "metadata": {},
   "source": [
    "## Visualizing the keyword feature\n",
    "While there are a number of missing values, the keyword feature looks pretty robust with a number of unique values.  I'll keep this in the final training dataframe for now."
   ]
  },
  {
   "cell_type": "code",
   "execution_count": 47,
   "metadata": {},
   "outputs": [
    {
     "name": "stdout",
     "output_type": "stream",
     "text": [
      "There are 221 unique keywords in the dataset\n",
      "There are 61 missing keyword values\n"
     ]
    },
    {
     "data": {
      "image/png": "[encoded data removed]",
      "text/plain": [
       "<Figure size 640x480 with 1 Axes>"
      ]
     },
     "metadata": {},
     "output_type": "display_data"
    }
   ],
   "source": [
    "# Visualize the distribution of keywords\n",
    "keyword_counts = train_df['keyword'].value_counts()\n",
    "print(f\"There are {len(keyword_counts)} unique keywords in the dataset\")\n",
    "print(f\"There are {train_df['keyword'].isna().sum()} missing keyword values\")\n",
    "keyword_counts.nlargest(20).iloc[::-1].plot(kind=\"barh\")\n",
    "plt.xlabel(\"Keywords\")\n",
    "plt.ylabel(\"20 Most Frequent Keywords\")\n",
    "plt.show()"
   ]
  },
  {
   "cell_type": "markdown",
   "metadata": {},
   "source": [
    "## Visualizing the location feature\n",
    "Looking at the data, we might be better off omitting this data before training given the large amount of both unique values as well as missing values."
   ]
  },
  {
   "cell_type": "code",
   "execution_count": 53,
   "metadata": {},
   "outputs": [
    {
     "name": "stdout",
     "output_type": "stream",
     "text": [
      "There are 3341 unique locations in the dataset\n",
      "There are 2533 missing locations values\n"
     ]
    },
    {
     "data": {
      "image/png": "[encoded data removed]",
      "text/plain": [
       "<Figure size 640x480 with 1 Axes>"
      ]
     },
     "metadata": {},
     "output_type": "display_data"
    }
   ],
   "source": [
    "# Visualize the distribution of locations\n",
    "location_counts = train_df['location'].value_counts(ascending=True)\n",
    "print(f\"There are {len(location_counts)} unique locations in the dataset\")\n",
    "print(f\"There are {train_df['location'].isna().sum()} missing locations values\")\n",
    "location_counts.nlargest(20).iloc[::-1].plot(kind=\"barh\")\n",
    "plt.xlabel(\"Locations\")\n",
    "plt.ylabel(\"20 Most Frequent Locations\")\n",
    "plt.show()"
   ]
  },
  {
   "cell_type": "code",
   "execution_count": null,
   "metadata": {},
   "outputs": [],
   "source": []
  },
  {
   "cell_type": "code",
   "execution_count": null,
   "metadata": {},
   "outputs": [],
   "source": []
  },
  {
   "cell_type": "markdown",
   "metadata": {},
   "source": [
    "## Analysis of the text itself\n",
    "No missing or empty records, but there are a number of short posts (less than 20 characters).  Thankfully there are a majority of posts look to be at least 40 characters, and we have a normal-ish distribution over the number of words in the various posts.\n",
    "\n",
    "Looking into the shorter posts, it looks like I can safely remove posts with one word or less than 10 characters without removing any positively labelled data"
   ]
  },
  {
   "cell_type": "code",
   "execution_count": null,
   "metadata": {},
   "outputs": [
    {
     "name": "stdout",
     "output_type": "stream",
     "text": [
      "There are 0 missing/empty text values\n"
     ]
    },
    {
     "data": {
      "image/png": "[encoded data removed]",
      "text/plain": [
       "<Figure size 1200x600 with 2 Axes>"
      ]
     },
     "metadata": {},
     "output_type": "display_data"
    }
   ],
   "source": [
    "print(f\"There are {train_df['text'].isna().sum()} missing/empty text values\")\n",
    "train_df['char_count'] = train_df['text'].apply(len)\n",
    "train_df['word_count'] = train_df['text'].apply(lambda str: len(str.split()))\n",
    "char_count = train_df['char_count'].value_counts()\n",
    "\n",
    "plt.figure(figsize=(12, 6))\n",
    "plt.subplot(1, 2, 1)\n",
    "sns.histplot(train_df['char_count'], bins=50, color='blue')\n",
    "plt.title('Character Count Distribution')\n",
    "\n",
    "\n",
    "plt.subplot(1, 2, 2)\n",
    "sns.histplot(train_df['word_count'], bins=50, color='green')\n",
    "plt.title('Word Count Distribution')\n",
    "plt.show()"
   ]
  },
  {
   "cell_type": "code",
   "execution_count": 72,
   "metadata": {},
   "outputs": [
    {
     "data": {
      "application/vnd.microsoft.datawrangler.viewer.v0+json": {
       "columns": [
        {
         "name": "index",
         "rawType": "int64",
         "type": "integer"
        },
        {
         "name": "id",
         "rawType": "int64",
         "type": "integer"
        },
        {
         "name": "keyword",
         "rawType": "object",
         "type": "unknown"
        },
        {
         "name": "location",
         "rawType": "object",
         "type": "unknown"
        },
        {
         "name": "text",
         "rawType": "object",
         "type": "string"
        },
        {
         "name": "target",
         "rawType": "int64",
         "type": "integer"
        },
        {
         "name": "char_count",
         "rawType": "int64",
         "type": "integer"
        },
        {
         "name": "word_count",
         "rawType": "int64",
         "type": "integer"
        }
       ],
       "conversionMethod": "pd.DataFrame",
       "ref": "cfce62e9-4c80-4a1b-9043-3fea734a6da1",
       "rows": [
        [
         "24",
         "36",
         null,
         null,
         "LOOOOOOL",
         "0",
         "8",
         "1"
        ],
        [
         "28",
         "40",
         null,
         null,
         "Cooool :)",
         "0",
         "9",
         "2"
        ],
        [
         "30",
         "44",
         null,
         null,
         "The end!",
         "0",
         "8",
         "2"
        ],
        [
         "1882",
         "2703",
         "crushed",
         null,
         "Crushed",
         "0",
         "7",
         "1"
        ],
        [
         "3667",
         "5221",
         "fatality",
         "Nairobi",
         "Fatality!",
         "0",
         "9",
         "1"
        ],
        [
         "3670",
         "5224",
         "fatality",
         "Rafael castillo",
         "fatality",
         "0",
         "8",
         "1"
        ],
        [
         "3749",
         "5326",
         "fire",
         null,
         "I See Fire",
         "0",
         "10",
         "3"
        ],
        [
         "4890",
         "6962",
         "massacre",
         null,
         "Bad day",
         "0",
         "7",
         "2"
        ],
        [
         "4971",
         "7088",
         "meltdown",
         null,
         "Meltdown",
         "0",
         "8",
         "1"
        ],
        [
         "5115",
         "7295",
         "nuclear%20reactor",
         null,
         "Err:509",
         "0",
         "7",
         "1"
        ],
        [
         "6705",
         "9605",
         "thunder",
         null,
         "Thunder???",
         "0",
         "10",
         "1"
        ]
       ],
       "shape": {
        "columns": 7,
        "rows": 11
       }
      },
      "text/html": [
       "<div>\n",
       "<style scoped>\n",
       "    .dataframe tbody tr th:only-of-type {\n",
       "        vertical-align: middle;\n",
       "    }\n",
       "\n",
       "    .dataframe tbody tr th {\n",
       "        vertical-align: top;\n",
       "    }\n",
       "\n",
       "    .dataframe thead th {\n",
       "        text-align: right;\n",
       "    }\n",
       "</style>\n",
       "<table border=\"1\" class=\"dataframe\">\n",
       "  <thead>\n",
       "    <tr style=\"text-align: right;\">\n",
       "      <th></th>\n",
       "      <th>id</th>\n",
       "      <th>keyword</th>\n",
       "      <th>location</th>\n",
       "      <th>text</th>\n",
       "      <th>target</th>\n",
       "      <th>char_count</th>\n",
       "      <th>word_count</th>\n",
       "    </tr>\n",
       "  </thead>\n",
       "  <tbody>\n",
       "    <tr>\n",
       "      <th>24</th>\n",
       "      <td>36</td>\n",
       "      <td>NaN</td>\n",
       "      <td>NaN</td>\n",
       "      <td>LOOOOOOL</td>\n",
       "      <td>0</td>\n",
       "      <td>8</td>\n",
       "      <td>1</td>\n",
       "    </tr>\n",
       "    <tr>\n",
       "      <th>28</th>\n",
       "      <td>40</td>\n",
       "      <td>NaN</td>\n",
       "      <td>NaN</td>\n",
       "      <td>Cooool :)</td>\n",
       "      <td>0</td>\n",
       "      <td>9</td>\n",
       "      <td>2</td>\n",
       "    </tr>\n",
       "    <tr>\n",
       "      <th>30</th>\n",
       "      <td>44</td>\n",
       "      <td>NaN</td>\n",
       "      <td>NaN</td>\n",
       "      <td>The end!</td>\n",
       "      <td>0</td>\n",
       "      <td>8</td>\n",
       "      <td>2</td>\n",
       "    </tr>\n",
       "    <tr>\n",
       "      <th>1882</th>\n",
       "      <td>2703</td>\n",
       "      <td>crushed</td>\n",
       "      <td>NaN</td>\n",
       "      <td>Crushed</td>\n",
       "      <td>0</td>\n",
       "      <td>7</td>\n",
       "      <td>1</td>\n",
       "    </tr>\n",
       "    <tr>\n",
       "      <th>3667</th>\n",
       "      <td>5221</td>\n",
       "      <td>fatality</td>\n",
       "      <td>Nairobi</td>\n",
       "      <td>Fatality!</td>\n",
       "      <td>0</td>\n",
       "      <td>9</td>\n",
       "      <td>1</td>\n",
       "    </tr>\n",
       "    <tr>\n",
       "      <th>3670</th>\n",
       "      <td>5224</td>\n",
       "      <td>fatality</td>\n",
       "      <td>Rafael castillo</td>\n",
       "      <td>fatality</td>\n",
       "      <td>0</td>\n",
       "      <td>8</td>\n",
       "      <td>1</td>\n",
       "    </tr>\n",
       "    <tr>\n",
       "      <th>3749</th>\n",
       "      <td>5326</td>\n",
       "      <td>fire</td>\n",
       "      <td>NaN</td>\n",
       "      <td>I See Fire</td>\n",
       "      <td>0</td>\n",
       "      <td>10</td>\n",
       "      <td>3</td>\n",
       "    </tr>\n",
       "    <tr>\n",
       "      <th>4890</th>\n",
       "      <td>6962</td>\n",
       "      <td>massacre</td>\n",
       "      <td>NaN</td>\n",
       "      <td>Bad day</td>\n",
       "      <td>0</td>\n",
       "      <td>7</td>\n",
       "      <td>2</td>\n",
       "    </tr>\n",
       "    <tr>\n",
       "      <th>4971</th>\n",
       "      <td>7088</td>\n",
       "      <td>meltdown</td>\n",
       "      <td>NaN</td>\n",
       "      <td>Meltdown</td>\n",
       "      <td>0</td>\n",
       "      <td>8</td>\n",
       "      <td>1</td>\n",
       "    </tr>\n",
       "    <tr>\n",
       "      <th>5115</th>\n",
       "      <td>7295</td>\n",
       "      <td>nuclear%20reactor</td>\n",
       "      <td>NaN</td>\n",
       "      <td>Err:509</td>\n",
       "      <td>0</td>\n",
       "      <td>7</td>\n",
       "      <td>1</td>\n",
       "    </tr>\n",
       "    <tr>\n",
       "      <th>6705</th>\n",
       "      <td>9605</td>\n",
       "      <td>thunder</td>\n",
       "      <td>NaN</td>\n",
       "      <td>Thunder???</td>\n",
       "      <td>0</td>\n",
       "      <td>10</td>\n",
       "      <td>1</td>\n",
       "    </tr>\n",
       "  </tbody>\n",
       "</table>\n",
       "</div>"
      ],
      "text/plain": [
       "        id            keyword         location        text  target  \\\n",
       "24      36                NaN              NaN    LOOOOOOL       0   \n",
       "28      40                NaN              NaN   Cooool :)       0   \n",
       "30      44                NaN              NaN    The end!       0   \n",
       "1882  2703            crushed              NaN     Crushed       0   \n",
       "3667  5221           fatality          Nairobi   Fatality!       0   \n",
       "3670  5224           fatality  Rafael castillo    fatality       0   \n",
       "3749  5326               fire              NaN  I See Fire       0   \n",
       "4890  6962           massacre              NaN     Bad day       0   \n",
       "4971  7088           meltdown              NaN    Meltdown       0   \n",
       "5115  7295  nuclear%20reactor              NaN     Err:509       0   \n",
       "6705  9605            thunder              NaN  Thunder???       0   \n",
       "\n",
       "      char_count  word_count  \n",
       "24             8           1  \n",
       "28             9           2  \n",
       "30             8           2  \n",
       "1882           7           1  \n",
       "3667           9           1  \n",
       "3670           8           1  \n",
       "3749          10           3  \n",
       "4890           7           2  \n",
       "4971           8           1  \n",
       "5115           7           1  \n",
       "6705          10           1  "
      ]
     },
     "execution_count": 72,
     "metadata": {},
     "output_type": "execute_result"
    }
   ],
   "source": [
    "train_df[train_df['char_count'] <= 10]\n",
    "# train_df['char_count'].nsmallest(20)"
   ]
  },
  {
   "cell_type": "code",
   "execution_count": 74,
   "metadata": {},
   "outputs": [
    {
     "data": {
      "application/vnd.microsoft.datawrangler.viewer.v0+json": {
       "columns": [
        {
         "name": "index",
         "rawType": "int64",
         "type": "integer"
        },
        {
         "name": "id",
         "rawType": "int64",
         "type": "integer"
        },
        {
         "name": "keyword",
         "rawType": "object",
         "type": "unknown"
        },
        {
         "name": "location",
         "rawType": "object",
         "type": "unknown"
        },
        {
         "name": "text",
         "rawType": "object",
         "type": "string"
        },
        {
         "name": "target",
         "rawType": "int64",
         "type": "integer"
        },
        {
         "name": "char_count",
         "rawType": "int64",
         "type": "integer"
        },
        {
         "name": "word_count",
         "rawType": "int64",
         "type": "integer"
        }
       ],
       "conversionMethod": "pd.DataFrame",
       "ref": "ec53e650-f5c1-486a-abce-cad20518eebd",
       "rows": [
        [
         "24",
         "36",
         null,
         null,
         "LOOOOOOL",
         "0",
         "8",
         "1"
        ],
        [
         "1882",
         "2703",
         "crushed",
         null,
         "Crushed",
         "0",
         "7",
         "1"
        ],
        [
         "3667",
         "5221",
         "fatality",
         "Nairobi",
         "Fatality!",
         "0",
         "9",
         "1"
        ],
        [
         "3670",
         "5224",
         "fatality",
         "Rafael castillo",
         "fatality",
         "0",
         "8",
         "1"
        ],
        [
         "4971",
         "7088",
         "meltdown",
         null,
         "Meltdown",
         "0",
         "8",
         "1"
        ],
        [
         "5115",
         "7295",
         "nuclear%20reactor",
         null,
         "Err:509",
         "0",
         "7",
         "1"
        ],
        [
         "5184",
         "7400",
         "obliterated",
         "New York",
         "Obliterated",
         "0",
         "11",
         "1"
        ],
        [
         "6705",
         "9605",
         "thunder",
         null,
         "Thunder???",
         "0",
         "10",
         "1"
        ]
       ],
       "shape": {
        "columns": 7,
        "rows": 8
       }
      },
      "text/html": [
       "<div>\n",
       "<style scoped>\n",
       "    .dataframe tbody tr th:only-of-type {\n",
       "        vertical-align: middle;\n",
       "    }\n",
       "\n",
       "    .dataframe tbody tr th {\n",
       "        vertical-align: top;\n",
       "    }\n",
       "\n",
       "    .dataframe thead th {\n",
       "        text-align: right;\n",
       "    }\n",
       "</style>\n",
       "<table border=\"1\" class=\"dataframe\">\n",
       "  <thead>\n",
       "    <tr style=\"text-align: right;\">\n",
       "      <th></th>\n",
       "      <th>id</th>\n",
       "      <th>keyword</th>\n",
       "      <th>location</th>\n",
       "      <th>text</th>\n",
       "      <th>target</th>\n",
       "      <th>char_count</th>\n",
       "      <th>word_count</th>\n",
       "    </tr>\n",
       "  </thead>\n",
       "  <tbody>\n",
       "    <tr>\n",
       "      <th>24</th>\n",
       "      <td>36</td>\n",
       "      <td>NaN</td>\n",
       "      <td>NaN</td>\n",
       "      <td>LOOOOOOL</td>\n",
       "      <td>0</td>\n",
       "      <td>8</td>\n",
       "      <td>1</td>\n",
       "    </tr>\n",
       "    <tr>\n",
       "      <th>1882</th>\n",
       "      <td>2703</td>\n",
       "      <td>crushed</td>\n",
       "      <td>NaN</td>\n",
       "      <td>Crushed</td>\n",
       "      <td>0</td>\n",
       "      <td>7</td>\n",
       "      <td>1</td>\n",
       "    </tr>\n",
       "    <tr>\n",
       "      <th>3667</th>\n",
       "      <td>5221</td>\n",
       "      <td>fatality</td>\n",
       "      <td>Nairobi</td>\n",
       "      <td>Fatality!</td>\n",
       "      <td>0</td>\n",
       "      <td>9</td>\n",
       "      <td>1</td>\n",
       "    </tr>\n",
       "    <tr>\n",
       "      <th>3670</th>\n",
       "      <td>5224</td>\n",
       "      <td>fatality</td>\n",
       "      <td>Rafael castillo</td>\n",
       "      <td>fatality</td>\n",
       "      <td>0</td>\n",
       "      <td>8</td>\n",
       "      <td>1</td>\n",
       "    </tr>\n",
       "    <tr>\n",
       "      <th>4971</th>\n",
       "      <td>7088</td>\n",
       "      <td>meltdown</td>\n",
       "      <td>NaN</td>\n",
       "      <td>Meltdown</td>\n",
       "      <td>0</td>\n",
       "      <td>8</td>\n",
       "      <td>1</td>\n",
       "    </tr>\n",
       "    <tr>\n",
       "      <th>5115</th>\n",
       "      <td>7295</td>\n",
       "      <td>nuclear%20reactor</td>\n",
       "      <td>NaN</td>\n",
       "      <td>Err:509</td>\n",
       "      <td>0</td>\n",
       "      <td>7</td>\n",
       "      <td>1</td>\n",
       "    </tr>\n",
       "    <tr>\n",
       "      <th>5184</th>\n",
       "      <td>7400</td>\n",
       "      <td>obliterated</td>\n",
       "      <td>New York</td>\n",
       "      <td>Obliterated</td>\n",
       "      <td>0</td>\n",
       "      <td>11</td>\n",
       "      <td>1</td>\n",
       "    </tr>\n",
       "    <tr>\n",
       "      <th>6705</th>\n",
       "      <td>9605</td>\n",
       "      <td>thunder</td>\n",
       "      <td>NaN</td>\n",
       "      <td>Thunder???</td>\n",
       "      <td>0</td>\n",
       "      <td>10</td>\n",
       "      <td>1</td>\n",
       "    </tr>\n",
       "  </tbody>\n",
       "</table>\n",
       "</div>"
      ],
      "text/plain": [
       "        id            keyword         location         text  target  \\\n",
       "24      36                NaN              NaN     LOOOOOOL       0   \n",
       "1882  2703            crushed              NaN      Crushed       0   \n",
       "3667  5221           fatality          Nairobi    Fatality!       0   \n",
       "3670  5224           fatality  Rafael castillo     fatality       0   \n",
       "4971  7088           meltdown              NaN     Meltdown       0   \n",
       "5115  7295  nuclear%20reactor              NaN      Err:509       0   \n",
       "5184  7400        obliterated         New York  Obliterated       0   \n",
       "6705  9605            thunder              NaN   Thunder???       0   \n",
       "\n",
       "      char_count  word_count  \n",
       "24             8           1  \n",
       "1882           7           1  \n",
       "3667           9           1  \n",
       "3670           8           1  \n",
       "4971           8           1  \n",
       "5115           7           1  \n",
       "5184          11           1  \n",
       "6705          10           1  "
      ]
     },
     "execution_count": 74,
     "metadata": {},
     "output_type": "execute_result"
    }
   ],
   "source": [
    "train_df[train_df['word_count'] < 2]\n"
   ]
  },
  {
   "cell_type": "code",
   "execution_count": null,
   "metadata": {},
   "outputs": [
    {
     "name": "stdout",
     "output_type": "stream",
     "text": [
      "[('-', 763), ('like', 318), ('&amp;', 295), ('??', 214), ('via', 208), ('get', 183), ('fire', 148), ('...', 147), ('people', 146), ('2', 145), ('|', 142), ('one', 142), ('would', 116), ('new', 105), ('got', 103), ('New', 98), ('????', 96), ('know', 96), ('video', 93), ('going', 91)]\n"
     ]
    }
   ],
   "source": [
    "# Tokenize and count words\n",
    "all_words = ' '.join(train_df['text']).split()\n",
    "stop_words = set(stopwords.words('english'))\n",
    "filtered_words = [word for word in all_words if word.lower() not in stop_words]\n",
    "word_counts = Counter(filtered_words)\n",
    "\n",
    "print(word_counts.most_common(20))"
   ]
  },
  {
   "cell_type": "code",
   "execution_count": null,
   "metadata": {},
   "outputs": [
    {
     "name": "stdout",
     "output_type": "stream",
     "text": [
      "[('http co', 4306), ('https co', 410), ('in the', 308), ('of the', 256), ('û_ http', 217), ('on the', 129), ('to the', 126), ('to be', 108), ('for the', 97), ('at the', 85)]\n"
     ]
    }
   ],
   "source": [
    "# Top 10 bigrams\n",
    "vectorizer = CountVectorizer(ngram_range=(2, 2))  # Change to (1, 1) for unigrams, (3, 3) for trigrams\n",
    "ngrams = vectorizer.fit_transform(train_df['text'])\n",
    "ngram_counts = zip(vectorizer.get_feature_names_out(), ngrams.sum(axis=0).tolist()[0])\n",
    "sorted_ngrams = sorted(ngram_counts, key=lambda x: x[1], reverse=True)\n",
    "\n",
    "print(sorted_ngrams[:10])"
   ]
  },
  {
   "cell_type": "code",
   "execution_count": null,
   "metadata": {},
   "outputs": [
    {
     "name": "stdout",
     "output_type": "stream",
     "text": [
      "[('û_ http co', 217), ('liked youtube video', 42), ('video http co', 42), ('û_ https co', 35), ('homes razed by', 29), ('more homes razed', 29), ('northern california wildfire', 29), ('2015 http co', 28), ('bomber who detonated', 28), ('detonated bomb in', 28)]\n"
     ]
    }
   ],
   "source": [
    "# Trigram analysis\n",
    "vectorizer = CountVectorizer(ngram_range=(3,3))  # Change to (1, 1) for unigrams, (3, 3) for trigrams\n",
    "ngrams = vectorizer.fit_transform(train_df['text'])\n",
    "ngram_counts = zip(vectorizer.get_feature_names_out(), ngrams.sum(axis=0).tolist()[0])\n",
    "sorted_ngrams = sorted(ngram_counts, key=lambda x: x[1], reverse=True)\n",
    "\n",
    "print(sorted_ngrams[:10])"
   ]
  },
  {
   "cell_type": "code",
   "execution_count": 84,
   "metadata": {},
   "outputs": [
    {
     "name": "stdout",
     "output_type": "stream",
     "text": [
      "Topic #0:\n",
      "['2015', 'crash', 'killed', 'video', 'body', 'emergency', 'news', 'police', 'û_', 'http']\n",
      "Topic #1:\n",
      "['got', 'want', 'new', 'disaster', 'don', 'people', 'https', 'like', 'just', 'http']\n",
      "Topic #2:\n",
      "['emergency', 'amp', 'bomber', 'û_', 'california', 'https', 'old', 'suicide', 'news', 'http']\n",
      "Topic #3:\n",
      "['know', 'just', 'buildings', 'û_', 'amp', 'don', 'burning', 'https', 'like', 'http']\n",
      "Topic #4:\n",
      "['atomic', 'û_', 'hiroshima', 'japan', 'legionnaires', 'pm', 'https', 'families', 'amp', 'http']\n"
     ]
    }
   ],
   "source": [
    "from sklearn.decomposition import LatentDirichletAllocation\n",
    "\n",
    "vectorizer = CountVectorizer(max_df=0.95, min_df=2, stop_words='english')\n",
    "dtm = vectorizer.fit_transform(train_df['text'])\n",
    "\n",
    "lda = LatentDirichletAllocation(n_components=5, random_state=42)\n",
    "lda.fit(dtm)\n",
    "\n",
    "# Display topics\n",
    "for index, topic in enumerate(lda.components_):\n",
    "    print(f\"Topic #{index}:\")\n",
    "    print([vectorizer.get_feature_names_out()[i] for i in topic.argsort()[-10:]])"
   ]
  },
  {
   "cell_type": "code",
   "execution_count": null,
   "metadata": {},
   "outputs": [
    {
     "name": "stdout",
     "output_type": "stream",
     "text": [
      "3971 records which contain http\n"
     ]
    },
    {
     "data": {
      "application/vnd.microsoft.datawrangler.viewer.v0+json": {
       "columns": [
        {
         "name": "index",
         "rawType": "int64",
         "type": "integer"
        },
        {
         "name": "id",
         "rawType": "int64",
         "type": "integer"
        },
        {
         "name": "keyword",
         "rawType": "object",
         "type": "unknown"
        },
        {
         "name": "location",
         "rawType": "object",
         "type": "unknown"
        },
        {
         "name": "text",
         "rawType": "object",
         "type": "string"
        },
        {
         "name": "target",
         "rawType": "int64",
         "type": "integer"
        },
        {
         "name": "char_count",
         "rawType": "int64",
         "type": "integer"
        },
        {
         "name": "word_count",
         "rawType": "int64",
         "type": "integer"
        }
       ],
       "conversionMethod": "pd.DataFrame",
       "ref": "92990a8d-ca70-497c-aa73-c0c7318e43bd",
       "rows": [
        [
         "31",
         "48",
         "ablaze",
         "Birmingham",
         "@bbcmtd Wholesale Markets ablaze http://t.co/lHYXEOHY6C",
         "1",
         "55",
         "5"
        ],
        [
         "32",
         "49",
         "ablaze",
         "Est. September 2012 - Bristol",
         "We always try to bring the heavy. #metal #RT http://t.co/YAo1e0xngw",
         "0",
         "67",
         "10"
        ],
        [
         "33",
         "50",
         "ablaze",
         "AFRICA",
         "#AFRICANBAZE: Breaking news:Nigeria flag set ablaze in Aba. http://t.co/2nndBGwyEi",
         "1",
         "82",
         "9"
        ],
        [
         "35",
         "53",
         "ablaze",
         "London, UK",
         "On plus side LOOK AT THE SKY LAST NIGHT IT WAS ABLAZE http://t.co/qqsmshaJ3N",
         "0",
         "76",
         "13"
        ],
        [
         "37",
         "55",
         "ablaze",
         "World Wide!!",
         "INEC Office in Abia Set Ablaze - http://t.co/3ImaomknnA",
         "1",
         "55",
         "8"
        ],
        [
         "38",
         "56",
         "ablaze",
         null,
         "Barbados #Bridgetown JAMAICA ÛÒ Two cars set ablaze: SANTA CRUZ ÛÓ Head of the St Elizabeth Police Superintende...  http://t.co/wDUEaj8Q4J",
         "1",
         "140",
         "19"
        ],
        [
         "40",
         "59",
         "ablaze",
         "Live On Webcam",
         "Check these out: http://t.co/rOI2NSmEJJ http://t.co/3Tj8ZjiN21 http://t.co/YDUiXEfIpE http://t.co/LxTjc87KLS #nsfw",
         "0",
         "114",
         "8"
        ],
        [
         "44",
         "64",
         "ablaze",
         null,
         "I wanted to set Chicago ablaze with my preaching... But not my hotel! http://t.co/o9qknbfOFX",
         "0",
         "92",
         "14"
        ],
        [
         "45",
         "65",
         "ablaze",
         null,
         "I gained 3 followers in the last week. You? Know your stats and grow with http://t.co/TIyUliF5c6",
         "0",
         "96",
         "16"
        ],
        [
         "46",
         "66",
         "ablaze",
         "GREENSBORO,NORTH CAROLINA",
         "How the West was burned: Thousands of wildfires ablaze in California alone http://t.co/vl5TBR3wbr",
         "1",
         "97",
         "13"
        ],
        [
         "48",
         "68",
         "ablaze",
         "Live On Webcam",
         "Check these out: http://t.co/rOI2NSmEJJ http://t.co/3Tj8ZjiN21 http://t.co/YDUiXEfIpE http://t.co/LxTjc87KLS #nsfw",
         "0",
         "114",
         "8"
        ],
        [
         "50",
         "73",
         "ablaze",
         "Sheffield Township, Ohio",
         "Deputies: Man shot before Brighton home set ablaze http://t.co/gWNRhMSO8k",
         "1",
         "73",
         "9"
        ],
        [
         "51",
         "74",
         "ablaze",
         "India",
         "Man wife get six years jail for setting ablaze niece\nhttp://t.co/eV1ahOUCZA",
         "1",
         "75",
         "11"
        ],
        [
         "52",
         "76",
         "ablaze",
         "Barbados",
         "SANTA CRUZ ÛÓ Head of the St Elizabeth Police Superintendent Lanford Salmon has r ... - http://t.co/vplR5Hka2u http://t.co/SxHW2TNNLf",
         "0",
         "134",
         "18"
        ],
        [
         "53",
         "77",
         "ablaze",
         "Anaheim",
         "Police: Arsonist Deliberately Set Black Church In North CarolinaåÊAblaze http://t.co/pcXarbH9An",
         "1",
         "95",
         "10"
        ],
        [
         "54",
         "78",
         "ablaze",
         "Abuja",
         "Noches El-Bestia '@Alexis_Sanchez: happy to see my teammates and training hard ?? goodnight gunners.?????? http://t.co/uc4j4jHvGR'",
         "0",
         "130",
         "15"
        ],
        [
         "55",
         "79",
         "ablaze",
         "USA",
         "#Kurds trampling on Turkmen flag later set it ablaze while others vandalized offices of Turkmen Front in #Diyala http://t.co/4IzFdYC3cg",
         "1",
         "135",
         "19"
        ],
        [
         "56",
         "80",
         "ablaze",
         "South Africa",
         "TRUCK ABLAZE : R21. VOORTREKKER AVE. OUTSIDE OR TAMBO INTL. CARGO SECTION. http://t.co/8kscqKfKkF",
         "1",
         "97",
         "13"
        ],
        [
         "57",
         "81",
         "ablaze",
         "Sao Paulo, Brazil",
         "Set our hearts ablaze and every city was a gift And every skyline was like a kiss upon the lips @Û_ https://t.co/cYoMPZ1A0Z",
         "0",
         "124",
         "22"
        ],
        [
         "59",
         "83",
         "ablaze",
         "Edmonton, Alberta - Treaty 6",
         "How the West was burned: Thousands of wildfires ablaze in #California alone http://t.co/iCSjGZ9tE1 #climate #energy http://t.co/9FxmN0l0Bd",
         "1",
         "138",
         "16"
        ],
        [
         "61",
         "86",
         "ablaze",
         "Inang Pamantasan",
         "Progressive greetings!\n\nIn about a month students would have set their pens ablaze in The Torch Publications'... http://t.co/9FxPiXQuJt",
         "0",
         "135",
         "18"
        ],
        [
         "62",
         "89",
         "ablaze",
         "Twitter Lockout in progress",
         "Rene Ablaze &amp; Jacinta - Secret 2k13 (Fallen Skies Edit) - Mar 30 2013  https://t.co/7MLMsUzV1Z",
         "0",
         "98",
         "15"
        ],
        [
         "64",
         "92",
         "ablaze",
         "Calgary, AB",
         "#NowPlaying: Rene Ablaze &amp; Ian Buff - Magnitude http://t.co/Av2JSjfFtc  #EDM",
         "0",
         "80",
         "10"
        ],
        [
         "65",
         "93",
         "ablaze",
         "Birmingham",
         "@nxwestmidlands huge fire at Wholesale markets ablaze http://t.co/rwzbFVNXER",
         "1",
         "76",
         "8"
        ],
        [
         "68",
         "97",
         "accident",
         "Nashville, TN",
         "Accident on I-24 W #NashvilleTraffic. Traffic moving 8m slower than usual. https://t.co/0GHk693EgJ",
         "1",
         "98",
         "12"
        ],
        [
         "69",
         "98",
         "accident",
         "Santa Clara, CA",
         "Accident center lane blocked in #SantaClara on US-101 NB before Great America Pkwy #BayArea #Traffic http://t.co/pmlOhZuRWR",
         "1",
         "123",
         "16"
        ],
        [
         "70",
         "100",
         "accident",
         "UK",
         "http://t.co/GKYe6gjTk5 Had a #personalinjury accident this summer? Read our advice &amp; see how a #solicitor can help #OtleyHour",
         "0",
         "129",
         "18"
        ],
        [
         "71",
         "102",
         "accident",
         "St. Louis, MO",
         "#stlouis #caraccidentlawyer Speeding Among Top Causes of Teen Accidents https://t.co/k4zoMOF319 https://t.co/S2kXVM0cBA Car Accident teeÛ_",
         "0",
         "139",
         "14"
        ],
        [
         "72",
         "104",
         "accident",
         "Walker County, Alabama",
         "Reported motor vehicle accident in Curry on Herman Rd near Stephenson involving an overturned vehicle. Please use... http://t.co/YbJezKuRW1",
         "1",
         "139",
         "18"
        ],
        [
         "75",
         "109",
         "accident",
         null,
         "RT @SleepJunkies: Sleeping pills double your risk of a car accident http://t.co/7s9Nm1fiCT",
         "0",
         "90",
         "12"
        ],
        [
         "76",
         "110",
         "accident",
         "Norf Carolina",
         "'By accident' they knew what was gon happen https://t.co/Ysxun5vCeh",
         "0",
         "67",
         "9"
        ],
        [
         "83",
         "120",
         "accident",
         "Arlington, TX",
         "#TruckCrash Overturns On #FortWorth Interstate http://t.co/Rs22LJ4qFp Click here if you've been in a crash&gt;http://t.co/Ld0unIYw4k",
         "1",
         "132",
         "14"
        ],
        [
         "84",
         "121",
         "accident",
         "South Bloomfield, OH",
         "Accident in #Ashville on US 23 SB before SR 752 #traffic http://t.co/hylMo0WgFI",
         "1",
         "79",
         "12"
        ],
        [
         "85",
         "126",
         "accident",
         null,
         "Carolina accident: Motorcyclist Dies in I-540 Crash With Car That Crossed Median: A motorcycle rider traveling... http://t.co/p18lzRlmy6",
         "1",
         "136",
         "17"
        ],
        [
         "90",
         "132",
         "accident",
         null,
         "???? it was an accident http://t.co/Oia5fxi4gM",
         "0",
         "46",
         "6"
        ],
        [
         "92",
         "134",
         "accident",
         null,
         "8/6/2015@2:09 PM: TRAFFIC ACCIDENT NO INJURY at 2781 WILLIS FOREMAN RD http://t.co/VCkIT6EDEv",
         "1",
         "93",
         "12"
        ],
        [
         "93",
         "135",
         "accident",
         "global",
         "Aashiqui Actress Anu Aggarwal On Her Near-Fatal Accident http://t.co/6Otfp31LqW",
         "1",
         "79",
         "9"
        ],
        [
         "94",
         "136",
         "accident",
         "Alberta | Sask. | Montana",
         "Suffield Alberta Accident https://t.co/bPTmlF4P10",
         "1",
         "49",
         "4"
        ],
        [
         "100",
         "144",
         "accident",
         "UK",
         ".@NorwayMFA #Bahrain police had previously died in a road accident they were not killed by explosion https://t.co/gFJfgTodad",
         "1",
         "124",
         "17"
        ],
        [
         "104",
         "151",
         "aftershock",
         "Switzerland",
         "320 [IR] ICEMOON [AFTERSHOCK] | http://t.co/yNXnvVKCDA | @djicemoon | #Dubstep #TrapMusic #DnB #EDM #Dance #IcesÛ_ http://t.co/weQPesENku",
         "0",
         "138",
         "16"
        ],
        [
         "106",
         "156",
         "aftershock",
         "US",
         "320 [IR] ICEMOON [AFTERSHOCK] | http://t.co/vAM5POdGyw | @djicemoon | #Dubstep #TrapMusic #DnB #EDM #Dance #IcesÛ_ http://t.co/zEVakJaPcz",
         "0",
         "138",
         "16"
        ],
        [
         "113",
         "163",
         "aftershock",
         "Belgium",
         "Aftershock https://t.co/xMWODFMtUI",
         "0",
         "34",
         "2"
        ],
        [
         "114",
         "164",
         "aftershock",
         "Switzerland",
         "320 [IR] ICEMOON [AFTERSHOCK] | http://t.co/M4JDZMGJoW | @djicemoon | #Dubstep #TrapMusic #DnB #EDM #Dance #IcesÛ_ http://t.co/n0uhAsfkBv",
         "0",
         "138",
         "16"
        ],
        [
         "115",
         "165",
         "aftershock",
         "US",
         "320 [IR] ICEMOON [AFTERSHOCK] | http://t.co/vAM5POdGyw | @djicemoon | #Dubstep #TrapMusic #DnB #EDM #Dance #IcesÛ_ http://t.co/zEVakJaPcz",
         "0",
         "138",
         "16"
        ],
        [
         "116",
         "168",
         "aftershock",
         null,
         "320 [IR] ICEMOON [AFTERSHOCK] | http://t.co/e14EPzhotH | @djicemoon | #Dubstep #TrapMusic #DnB #EDM #Dance #IcesÛ_ http://t.co/22a9D5DO6q",
         "0",
         "138",
         "16"
        ],
        [
         "118",
         "171",
         "aftershock",
         "Switzerland",
         "320 [IR] ICEMOON [AFTERSHOCK] | http://t.co/THyzOMVWU0 | @djicemoon | #Dubstep #TrapMusic #DnB #EDM #Dance #IcesÛ_ http://t.co/83jOO0xk29",
         "0",
         "138",
         "16"
        ],
        [
         "119",
         "172",
         "aftershock",
         "Switzerland",
         "320 [IR] ICEMOON [AFTERSHOCK] | http://t.co/THyzOMVWU0 | @djicemoon | #Dubstep #TrapMusic #DnB #EDM #Dance #IcesÛ_ http://t.co/83jOO0xk29",
         "0",
         "138",
         "16"
        ],
        [
         "120",
         "173",
         "aftershock",
         "Oshawa, Canada",
         "#WisdomWed BONUS - 5 Minute Daily Habits that could really improve your life. How many do you already do? #lifehacks http://t.co/TBm9FQb8cW",
         "0",
         "139",
         "21"
        ],
        [
         "121",
         "174",
         "aftershock",
         "Baker City Oregon",
         "Aftershock: Protect Yourself and Profit in the Next Global Financial Meltdown by David Wiedemer http http://t.co/WZTz4hgMVq",
         "0",
         "123",
         "16"
        ],
        [
         "123",
         "176",
         "aftershock",
         null,
         "Aftershock ã¢ (2010) Fullã¢ Streaming - YouTube http://t.co/vVE3UsesGf",
         "0",
         "72",
         "8"
        ]
       ],
       "shape": {
        "columns": 7,
        "rows": 3971
       }
      },
      "text/html": [
       "<div>\n",
       "<style scoped>\n",
       "    .dataframe tbody tr th:only-of-type {\n",
       "        vertical-align: middle;\n",
       "    }\n",
       "\n",
       "    .dataframe tbody tr th {\n",
       "        vertical-align: top;\n",
       "    }\n",
       "\n",
       "    .dataframe thead th {\n",
       "        text-align: right;\n",
       "    }\n",
       "</style>\n",
       "<table border=\"1\" class=\"dataframe\">\n",
       "  <thead>\n",
       "    <tr style=\"text-align: right;\">\n",
       "      <th></th>\n",
       "      <th>id</th>\n",
       "      <th>keyword</th>\n",
       "      <th>location</th>\n",
       "      <th>text</th>\n",
       "      <th>target</th>\n",
       "      <th>char_count</th>\n",
       "      <th>word_count</th>\n",
       "    </tr>\n",
       "  </thead>\n",
       "  <tbody>\n",
       "    <tr>\n",
       "      <th>31</th>\n",
       "      <td>48</td>\n",
       "      <td>ablaze</td>\n",
       "      <td>Birmingham</td>\n",
       "      <td>@bbcmtd Wholesale Markets ablaze http://t.co/l...</td>\n",
       "      <td>1</td>\n",
       "      <td>55</td>\n",
       "      <td>5</td>\n",
       "    </tr>\n",
       "    <tr>\n",
       "      <th>32</th>\n",
       "      <td>49</td>\n",
       "      <td>ablaze</td>\n",
       "      <td>Est. September 2012 - Bristol</td>\n",
       "      <td>We always try to bring the heavy. #metal #RT h...</td>\n",
       "      <td>0</td>\n",
       "      <td>67</td>\n",
       "      <td>10</td>\n",
       "    </tr>\n",
       "    <tr>\n",
       "      <th>33</th>\n",
       "      <td>50</td>\n",
       "      <td>ablaze</td>\n",
       "      <td>AFRICA</td>\n",
       "      <td>#AFRICANBAZE: Breaking news:Nigeria flag set a...</td>\n",
       "      <td>1</td>\n",
       "      <td>82</td>\n",
       "      <td>9</td>\n",
       "    </tr>\n",
       "    <tr>\n",
       "      <th>35</th>\n",
       "      <td>53</td>\n",
       "      <td>ablaze</td>\n",
       "      <td>London, UK</td>\n",
       "      <td>On plus side LOOK AT THE SKY LAST NIGHT IT WAS...</td>\n",
       "      <td>0</td>\n",
       "      <td>76</td>\n",
       "      <td>13</td>\n",
       "    </tr>\n",
       "    <tr>\n",
       "      <th>37</th>\n",
       "      <td>55</td>\n",
       "      <td>ablaze</td>\n",
       "      <td>World Wide!!</td>\n",
       "      <td>INEC Office in Abia Set Ablaze - http://t.co/3...</td>\n",
       "      <td>1</td>\n",
       "      <td>55</td>\n",
       "      <td>8</td>\n",
       "    </tr>\n",
       "    <tr>\n",
       "      <th>...</th>\n",
       "      <td>...</td>\n",
       "      <td>...</td>\n",
       "      <td>...</td>\n",
       "      <td>...</td>\n",
       "      <td>...</td>\n",
       "      <td>...</td>\n",
       "      <td>...</td>\n",
       "    </tr>\n",
       "    <tr>\n",
       "      <th>7606</th>\n",
       "      <td>10866</td>\n",
       "      <td>NaN</td>\n",
       "      <td>NaN</td>\n",
       "      <td>Suicide bomber kills 15 in Saudi security site...</td>\n",
       "      <td>1</td>\n",
       "      <td>121</td>\n",
       "      <td>20</td>\n",
       "    </tr>\n",
       "    <tr>\n",
       "      <th>7607</th>\n",
       "      <td>10867</td>\n",
       "      <td>NaN</td>\n",
       "      <td>NaN</td>\n",
       "      <td>#stormchase Violent Record Breaking EF-5 El Re...</td>\n",
       "      <td>1</td>\n",
       "      <td>134</td>\n",
       "      <td>16</td>\n",
       "    </tr>\n",
       "    <tr>\n",
       "      <th>7608</th>\n",
       "      <td>10869</td>\n",
       "      <td>NaN</td>\n",
       "      <td>NaN</td>\n",
       "      <td>Two giant cranes holding a bridge collapse int...</td>\n",
       "      <td>1</td>\n",
       "      <td>83</td>\n",
       "      <td>11</td>\n",
       "    </tr>\n",
       "    <tr>\n",
       "      <th>7610</th>\n",
       "      <td>10871</td>\n",
       "      <td>NaN</td>\n",
       "      <td>NaN</td>\n",
       "      <td>M1.94 [01:04 UTC]?5km S of Volcano Hawaii. htt...</td>\n",
       "      <td>1</td>\n",
       "      <td>65</td>\n",
       "      <td>8</td>\n",
       "    </tr>\n",
       "    <tr>\n",
       "      <th>7612</th>\n",
       "      <td>10873</td>\n",
       "      <td>NaN</td>\n",
       "      <td>NaN</td>\n",
       "      <td>The Latest: More Homes Razed by Northern Calif...</td>\n",
       "      <td>1</td>\n",
       "      <td>94</td>\n",
       "      <td>13</td>\n",
       "    </tr>\n",
       "  </tbody>\n",
       "</table>\n",
       "<p>3971 rows × 7 columns</p>\n",
       "</div>"
      ],
      "text/plain": [
       "         id keyword                       location  \\\n",
       "31       48  ablaze                     Birmingham   \n",
       "32       49  ablaze  Est. September 2012 - Bristol   \n",
       "33       50  ablaze                         AFRICA   \n",
       "35       53  ablaze                     London, UK   \n",
       "37       55  ablaze                   World Wide!!   \n",
       "...     ...     ...                            ...   \n",
       "7606  10866     NaN                            NaN   \n",
       "7607  10867     NaN                            NaN   \n",
       "7608  10869     NaN                            NaN   \n",
       "7610  10871     NaN                            NaN   \n",
       "7612  10873     NaN                            NaN   \n",
       "\n",
       "                                                   text  target  char_count  \\\n",
       "31    @bbcmtd Wholesale Markets ablaze http://t.co/l...       1          55   \n",
       "32    We always try to bring the heavy. #metal #RT h...       0          67   \n",
       "33    #AFRICANBAZE: Breaking news:Nigeria flag set a...       1          82   \n",
       "35    On plus side LOOK AT THE SKY LAST NIGHT IT WAS...       0          76   \n",
       "37    INEC Office in Abia Set Ablaze - http://t.co/3...       1          55   \n",
       "...                                                 ...     ...         ...   \n",
       "7606  Suicide bomber kills 15 in Saudi security site...       1         121   \n",
       "7607  #stormchase Violent Record Breaking EF-5 El Re...       1         134   \n",
       "7608  Two giant cranes holding a bridge collapse int...       1          83   \n",
       "7610  M1.94 [01:04 UTC]?5km S of Volcano Hawaii. htt...       1          65   \n",
       "7612  The Latest: More Homes Razed by Northern Calif...       1          94   \n",
       "\n",
       "      word_count  \n",
       "31             5  \n",
       "32            10  \n",
       "33             9  \n",
       "35            13  \n",
       "37             8  \n",
       "...          ...  \n",
       "7606          20  \n",
       "7607          16  \n",
       "7608          11  \n",
       "7610           8  \n",
       "7612          13  \n",
       "\n",
       "[3971 rows x 7 columns]"
      ]
     },
     "execution_count": 89,
     "metadata": {},
     "output_type": "execute_result"
    }
   ],
   "source": [
    "# Given there's such a high occurence of http within the posts, I wanted to take a peek if there were any patterns....\n",
    "http_records = train_df[train_df['text'].str.contains(\"http\")]\n",
    "print(f\"{len(http_records)} records which contain http\")\n",
    "train_df[train_df['text'].str.contains(\"http\")]"
   ]
  },
  {
   "cell_type": "code",
   "execution_count": null,
   "metadata": {},
   "outputs": [],
   "source": []
  }
 ],
 "metadata": {
  "kernelspec": {
   "display_name": "Python 3",
   "language": "python",
   "name": "python3"
  },
  "language_info": {
   "codemirror_mode": {
    "name": "ipython",
    "version": 3
   },
   "file_extension": ".py",
   "mimetype": "text/x-python",
   "name": "python",
   "nbconvert_exporter": "python",
   "pygments_lexer": "ipython3",
   "version": "3.10.12"
  }
 },
 "nbformat": 4,
 "nbformat_minor": 2
}

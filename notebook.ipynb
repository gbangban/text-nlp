{
 "cells": [
  {
   "cell_type": "code",
   "execution_count": 2,
   "metadata": {
    "execution": {
     "iopub.execute_input": "2025-02-26T21:33:12.140032Z",
     "iopub.status.busy": "2025-02-26T21:33:12.139752Z",
     "iopub.status.idle": "2025-02-26T21:33:16.883068Z",
     "shell.execute_reply": "2025-02-26T21:33:16.882250Z",
     "shell.execute_reply.started": "2025-02-26T21:33:12.140010Z"
    },
    "trusted": true
   },
   "outputs": [
    {
     "name": "stderr",
     "output_type": "stream",
     "text": [
      "/tmp/ipykernel_1411/2979231595.py:6: DeprecationWarning: \n",
      "Pyarrow will become a required dependency of pandas in the next major release of pandas (pandas 3.0),\n",
      "(to allow more performant data types, such as the Arrow string type, and better interoperability with other libraries)\n",
      "but was not found to be installed on your system.\n",
      "If this would cause problems for you,\n",
      "please provide us feedback at https://github.com/pandas-dev/pandas/issues/54466\n",
      "        \n",
      "  import pandas as pd # data processing, CSV file I/O (e.g. pd.read_csv)\n",
      "[nltk_data] Downloading package stopwords to /home/yao/nltk_data...\n",
      "[nltk_data]   Package stopwords is already up-to-date!\n"
     ]
    }
   ],
   "source": [
    "# This Python 3 environment comes with many helpful analytics libraries installed\n",
    "# It is defined by the kaggle/python Docker image: https://github.com/kaggle/docker-python\n",
    "# For example, here's several helpful packages to load\n",
    "\n",
    "import numpy as np # linear algebra\n",
    "import pandas as pd # data processing, CSV file I/O (e.g. pd.read_csv)\n",
    "import matplotlib.pyplot as plt\n",
    "import seaborn as sns\n",
    "from collections import Counter\n",
    "import nltk\n",
    "from nltk.corpus import stopwords\n",
    "from nltk import word_tokenize, sent_tokenize, PorterStemmer\n",
    "from sklearn.feature_extraction.text import CountVectorizer\n",
    "from sklearn.model_selection import train_test_split\n",
    "import torch\n",
    "from torch.utils.data import Dataset, DataLoader\n",
    "import torch.nn as nn\n",
    "import re\n",
    "from gensim.models import Word2Vec, KeyedVectors\n",
    "import gensim.downloader as gensim_downloader\n",
    "import os\n",
    "nltk.download('stopwords')\n",
    "# Input data files are available in the read-only \"../input/\" directory\n",
    "# For example, running this (by clicking run or pressing Shift+Enter) will list all files under the input directory\n",
    "\n",
    "for dirname, _, filenames in os.walk('/kaggle/input'):\n",
    "    for filename in filenames:\n",
    "        print(os.path.join(dirname, filename))\n",
    "\n",
    "# You can write up to 20GB to the current directory (/kaggle/working/) that gets preserved as output when you create a version using \"Save & Run All\" \n",
    "# You can also write temporary files to /kaggle/temp/, but they won't be saved outside of the current session"
   ]
  },
  {
   "cell_type": "markdown",
   "metadata": {},
   "source": [
    "# Introduction\n",
    "In times of crisis, people will often turn to social media to ask for help, but its often difficult to distinguish these pleas from more general posts algorithmically.  This notebook will attempt to classify posts using a variety of recurrent neural networks built towards text classification.  \n",
    "\n",
    "The training data is roughly 7,000 posts of varying lengths with a maximum of ~160 characters.\n",
    "\n",
    "As the final result is binary (0 for not a disaster post, 1 for a disaster post), I will use a sigmoidal neuron with binary cross entropy loss for the actual classification."
   ]
  },
  {
   "cell_type": "code",
   "execution_count": 3,
   "metadata": {
    "execution": {
     "iopub.execute_input": "2025-02-26T21:33:16.884605Z",
     "iopub.status.busy": "2025-02-26T21:33:16.884208Z",
     "iopub.status.idle": "2025-02-26T21:33:16.979180Z",
     "shell.execute_reply": "2025-02-26T21:33:16.978509Z",
     "shell.execute_reply.started": "2025-02-26T21:33:16.884583Z"
    },
    "trusted": true
   },
   "outputs": [
    {
     "name": "stdout",
     "output_type": "stream",
     "text": [
      "The training data shape is: (7613, 5)\n"
     ]
    },
    {
     "name": "stderr",
     "output_type": "stream",
     "text": [
      "[nltk_data] Downloading package stopwords to /home/yao/nltk_data...\n",
      "[nltk_data]   Package stopwords is already up-to-date!\n"
     ]
    },
    {
     "data": {
      "application/vnd.microsoft.datawrangler.viewer.v0+json": {
       "columns": [
        {
         "name": "index",
         "rawType": "int64",
         "type": "integer"
        },
        {
         "name": "id",
         "rawType": "int64",
         "type": "integer"
        },
        {
         "name": "keyword",
         "rawType": "object",
         "type": "unknown"
        },
        {
         "name": "location",
         "rawType": "object",
         "type": "unknown"
        },
        {
         "name": "text",
         "rawType": "object",
         "type": "string"
        },
        {
         "name": "target",
         "rawType": "int64",
         "type": "integer"
        }
       ],
       "conversionMethod": "pd.DataFrame",
       "ref": "bad0ed25-d0b7-4185-ab38-9279abbcce2a",
       "rows": [
        [
         "0",
         "1",
         null,
         null,
         "Our Deeds are the Reason of this #earthquake May ALLAH Forgive us all",
         "1"
        ],
        [
         "1",
         "4",
         null,
         null,
         "Forest fire near La Ronge Sask. Canada",
         "1"
        ],
        [
         "2",
         "5",
         null,
         null,
         "All residents asked to 'shelter in place' are being notified by officers. No other evacuation or shelter in place orders are expected",
         "1"
        ],
        [
         "3",
         "6",
         null,
         null,
         "13,000 people receive #wildfires evacuation orders in California ",
         "1"
        ],
        [
         "4",
         "7",
         null,
         null,
         "Just got sent this photo from Ruby #Alaska as smoke from #wildfires pours into a school ",
         "1"
        ]
       ],
       "shape": {
        "columns": 5,
        "rows": 5
       }
      },
      "text/html": [
       "<div>\n",
       "<style scoped>\n",
       "    .dataframe tbody tr th:only-of-type {\n",
       "        vertical-align: middle;\n",
       "    }\n",
       "\n",
       "    .dataframe tbody tr th {\n",
       "        vertical-align: top;\n",
       "    }\n",
       "\n",
       "    .dataframe thead th {\n",
       "        text-align: right;\n",
       "    }\n",
       "</style>\n",
       "<table border=\"1\" class=\"dataframe\">\n",
       "  <thead>\n",
       "    <tr style=\"text-align: right;\">\n",
       "      <th></th>\n",
       "      <th>id</th>\n",
       "      <th>keyword</th>\n",
       "      <th>location</th>\n",
       "      <th>text</th>\n",
       "      <th>target</th>\n",
       "    </tr>\n",
       "  </thead>\n",
       "  <tbody>\n",
       "    <tr>\n",
       "      <th>0</th>\n",
       "      <td>1</td>\n",
       "      <td>NaN</td>\n",
       "      <td>NaN</td>\n",
       "      <td>Our Deeds are the Reason of this #earthquake M...</td>\n",
       "      <td>1</td>\n",
       "    </tr>\n",
       "    <tr>\n",
       "      <th>1</th>\n",
       "      <td>4</td>\n",
       "      <td>NaN</td>\n",
       "      <td>NaN</td>\n",
       "      <td>Forest fire near La Ronge Sask. Canada</td>\n",
       "      <td>1</td>\n",
       "    </tr>\n",
       "    <tr>\n",
       "      <th>2</th>\n",
       "      <td>5</td>\n",
       "      <td>NaN</td>\n",
       "      <td>NaN</td>\n",
       "      <td>All residents asked to 'shelter in place' are ...</td>\n",
       "      <td>1</td>\n",
       "    </tr>\n",
       "    <tr>\n",
       "      <th>3</th>\n",
       "      <td>6</td>\n",
       "      <td>NaN</td>\n",
       "      <td>NaN</td>\n",
       "      <td>13,000 people receive #wildfires evacuation or...</td>\n",
       "      <td>1</td>\n",
       "    </tr>\n",
       "    <tr>\n",
       "      <th>4</th>\n",
       "      <td>7</td>\n",
       "      <td>NaN</td>\n",
       "      <td>NaN</td>\n",
       "      <td>Just got sent this photo from Ruby #Alaska as ...</td>\n",
       "      <td>1</td>\n",
       "    </tr>\n",
       "  </tbody>\n",
       "</table>\n",
       "</div>"
      ],
      "text/plain": [
       "   id keyword location                                               text  \\\n",
       "0   1     NaN      NaN  Our Deeds are the Reason of this #earthquake M...   \n",
       "1   4     NaN      NaN             Forest fire near La Ronge Sask. Canada   \n",
       "2   5     NaN      NaN  All residents asked to 'shelter in place' are ...   \n",
       "3   6     NaN      NaN  13,000 people receive #wildfires evacuation or...   \n",
       "4   7     NaN      NaN  Just got sent this photo from Ruby #Alaska as ...   \n",
       "\n",
       "   target  \n",
       "0       1  \n",
       "1       1  \n",
       "2       1  \n",
       "3       1  \n",
       "4       1  "
      ]
     },
     "execution_count": 3,
     "metadata": {},
     "output_type": "execute_result"
    }
   ],
   "source": [
    "\n",
    "import numpy as np # linear algebra\n",
    "import pandas as pd # data processing, CSV file I/O (e.g. pd.read_csv)\n",
    "import matplotlib.pyplot as plt\n",
    "import seaborn as sns\n",
    "from collections import Counter\n",
    "import nltk\n",
    "from nltk.corpus import stopwords\n",
    "from nltk import word_tokenize, sent_tokenize, PorterStemmer\n",
    "from sklearn.feature_extraction.text import CountVectorizer\n",
    "from sklearn.model_selection import train_test_split\n",
    "import torch\n",
    "from torch.utils.data import Dataset, DataLoader\n",
    "import torch.nn as nn\n",
    "import re\n",
    "from gensim.models import Word2Vec, KeyedVectors\n",
    "import gensim.downloader as gensim_downloader\n",
    "import os\n",
    "nltk.download('stopwords')\n",
    "\n",
    "kaggle_path = '/kaggle/input'\n",
    "local_path = './data'\n",
    "if os.path.exists(kaggle_path):\n",
    "    filepath = f\"{kaggle_path}/nlp-getting-started\"\n",
    "else:\n",
    "    filepath = local_path\n",
    "    \n",
    "train_df = pd.read_csv(f\"{filepath}/train.csv\")\n",
    "test_df = pd.read_csv(f\"{filepath}/test.csv\")\n",
    "print(f\"The training data shape is: {train_df.shape}\")\n",
    "train_df.head()"
   ]
  },
  {
   "cell_type": "code",
   "execution_count": 4,
   "metadata": {
    "execution": {
     "iopub.execute_input": "2025-02-26T21:33:16.981224Z",
     "iopub.status.busy": "2025-02-26T21:33:16.980977Z",
     "iopub.status.idle": "2025-02-26T21:33:17.218990Z",
     "shell.execute_reply": "2025-02-26T21:33:17.218238Z",
     "shell.execute_reply.started": "2025-02-26T21:33:16.981204Z"
    },
    "trusted": true
   },
   "outputs": [
    {
     "data": {
      "image/png": "[encoded data removed]",
      "text/plain": [
       "<Figure size 640x480 with 1 Axes>"
      ]
     },
     "metadata": {},
     "output_type": "display_data"
    }
   ],
   "source": [
    "# Visualize the balance of labels...\n",
    "label_counts = train_df['target'].value_counts()\n",
    "label_counts.plot(kind=\"bar\")\n",
    "plt.title(\"Distribution of labels in training set\")\n",
    "plt.xlabel(\"Label\")\n",
    "plt.ylabel(\"# of Items\")\n",
    "plt.show()\n"
   ]
  },
  {
   "cell_type": "markdown",
   "metadata": {},
   "source": [
    "## Visualizing the keyword feature\n",
    "While there are a number of missing values, the keyword feature looks pretty robust with a number of unique values.  I'll keep this in the final training dataframe for now."
   ]
  },
  {
   "cell_type": "code",
   "execution_count": 5,
   "metadata": {
    "execution": {
     "iopub.execute_input": "2025-02-26T21:33:17.220134Z",
     "iopub.status.busy": "2025-02-26T21:33:17.219920Z",
     "iopub.status.idle": "2025-02-26T21:33:17.422513Z",
     "shell.execute_reply": "2025-02-26T21:33:17.421660Z",
     "shell.execute_reply.started": "2025-02-26T21:33:17.220103Z"
    },
    "trusted": true
   },
   "outputs": [
    {
     "name": "stdout",
     "output_type": "stream",
     "text": [
      "There are 221 unique keywords in the dataset\n",
      "There are 61 missing keyword values\n"
     ]
    },
    {
     "data": {
      "image/png": "[encoded data removed]",
      "text/plain": [
       "<Figure size 640x480 with 1 Axes>"
      ]
     },
     "metadata": {},
     "output_type": "display_data"
    }
   ],
   "source": [
    "# Visualize the distribution of keywords\n",
    "keyword_counts = train_df['keyword'].value_counts()\n",
    "print(f\"There are {len(keyword_counts)} unique keywords in the dataset\")\n",
    "print(f\"There are {train_df['keyword'].isna().sum()} missing keyword values\")\n",
    "keyword_counts.nlargest(20).iloc[::-1].plot(kind=\"barh\")\n",
    "plt.xlabel(\"Keywords\")\n",
    "plt.ylabel(\"20 Most Frequent Keywords\")\n",
    "plt.show()"
   ]
  },
  {
   "cell_type": "markdown",
   "metadata": {},
   "source": [
    "## Visualizing the location feature\n",
    "Looking at the data, we might be better off omitting this data before training given the large amount of both unique values as well as missing values."
   ]
  },
  {
   "cell_type": "code",
   "execution_count": 6,
   "metadata": {
    "execution": {
     "iopub.execute_input": "2025-02-26T21:33:17.423632Z",
     "iopub.status.busy": "2025-02-26T21:33:17.423374Z",
     "iopub.status.idle": "2025-02-26T21:33:17.629002Z",
     "shell.execute_reply": "2025-02-26T21:33:17.628191Z",
     "shell.execute_reply.started": "2025-02-26T21:33:17.423600Z"
    },
    "trusted": true
   },
   "outputs": [
    {
     "name": "stdout",
     "output_type": "stream",
     "text": [
      "There are 3341 unique locations in the dataset\n",
      "There are 2533 missing locations values\n"
     ]
    },
    {
     "data": {
      "image/png": "[encoded data removed]",
      "text/plain": [
       "<Figure size 640x480 with 1 Axes>"
      ]
     },
     "metadata": {},
     "output_type": "display_data"
    }
   ],
   "source": [
    "# Visualize the distribution of locations\n",
    "location_counts = train_df['location'].value_counts(ascending=True)\n",
    "print(f\"There are {len(location_counts)} unique locations in the dataset\")\n",
    "print(f\"There are {train_df['location'].isna().sum()} missing locations values\")\n",
    "location_counts.nlargest(20).iloc[::-1].plot(kind=\"barh\")\n",
    "plt.xlabel(\"Locations\")\n",
    "plt.ylabel(\"20 Most Frequent Locations\")\n",
    "plt.show()"
   ]
  },
  {
   "cell_type": "code",
   "execution_count": null,
   "metadata": {
    "trusted": true
   },
   "outputs": [],
   "source": []
  },
  {
   "cell_type": "code",
   "execution_count": null,
   "metadata": {
    "trusted": true
   },
   "outputs": [],
   "source": []
  },
  {
   "cell_type": "markdown",
   "metadata": {},
   "source": [
    "## Analysis of the text itself\n",
    "No missing or empty records, but there are a number of short posts (less than 20 characters).  Thankfully, a majority of posts look to be at least 40 characters.  We also have a normal-ish distribution over the number of words in the various posts.\n",
    "\n",
    "Looking into the shorter posts, it looks like I can safely remove posts with one word or less than 10 characters without removing any positively labelled data"
   ]
  },
  {
   "cell_type": "code",
   "execution_count": 7,
   "metadata": {
    "execution": {
     "iopub.execute_input": "2025-02-26T21:33:17.630220Z",
     "iopub.status.busy": "2025-02-26T21:33:17.629898Z",
     "iopub.status.idle": "2025-02-26T21:33:18.071313Z",
     "shell.execute_reply": "2025-02-26T21:33:18.070611Z",
     "shell.execute_reply.started": "2025-02-26T21:33:17.630189Z"
    },
    "trusted": true
   },
   "outputs": [
    {
     "name": "stdout",
     "output_type": "stream",
     "text": [
      "There are 0 missing/empty text values\n"
     ]
    },
    {
     "data": {
      "image/png": "[encoded data removed]",
      "text/plain": [
       "<Figure size 1200x400 with 2 Axes>"
      ]
     },
     "metadata": {},
     "output_type": "display_data"
    }
   ],
   "source": [
    "print(f\"There are {train_df['text'].isna().sum()} missing/empty text values\")\n",
    "train_df['char_count'] = train_df['text'].apply(len)\n",
    "train_df['word_count'] = train_df['text'].apply(lambda str: len(str.split()))\n",
    "char_count = train_df['char_count'].value_counts()\n",
    "\n",
    "plt.figure(figsize=(12, 4))\n",
    "plt.subplot(1, 2, 1)\n",
    "sns.histplot(train_df[train_df['target'] == 0]['char_count'], bins=50, color='blue')\n",
    "plt.title('Safe Character Count Distribution')\n",
    "\n",
    "plt.subplot(1, 2, 2)\n",
    "sns.histplot(train_df[train_df['target'] == 1]['char_count'], bins=50, color='blue')\n",
    "plt.title('Disaster Character Count Distribution')\n",
    "plt.show()"
   ]
  },
  {
   "cell_type": "code",
   "execution_count": 8,
   "metadata": {},
   "outputs": [
    {
     "data": {
      "image/png": "[encoded data removed]",
      "text/plain": [
       "<Figure size 1200x400 with 2 Axes>"
      ]
     },
     "metadata": {},
     "output_type": "display_data"
    }
   ],
   "source": [
    "plt.figure(figsize=(12, 4))\n",
    "plt.subplot(1, 2, 1)\n",
    "sns.histplot(train_df[train_df['target'] == 0]['word_count'], bins=50, color='green')\n",
    "plt.title('Safe Word Count Distribution')\n",
    "\n",
    "plt.subplot(1, 2, 2)\n",
    "sns.histplot(train_df[train_df['target'] == 1]['word_count'], bins=50, color='green')\n",
    "plt.title('Disaster Word Count Distribution')\n",
    "plt.show()"
   ]
  },
  {
   "cell_type": "code",
   "execution_count": 9,
   "metadata": {
    "execution": {
     "iopub.execute_input": "2025-02-26T21:33:18.072371Z",
     "iopub.status.busy": "2025-02-26T21:33:18.072060Z",
     "iopub.status.idle": "2025-02-26T21:33:18.082698Z",
     "shell.execute_reply": "2025-02-26T21:33:18.081886Z",
     "shell.execute_reply.started": "2025-02-26T21:33:18.072336Z"
    },
    "trusted": true
   },
   "outputs": [
    {
     "data": {
      "application/vnd.microsoft.datawrangler.viewer.v0+json": {
       "columns": [
        {
         "name": "index",
         "rawType": "int64",
         "type": "integer"
        },
        {
         "name": "id",
         "rawType": "int64",
         "type": "integer"
        },
        {
         "name": "keyword",
         "rawType": "object",
         "type": "unknown"
        },
        {
         "name": "location",
         "rawType": "object",
         "type": "unknown"
        },
        {
         "name": "text",
         "rawType": "object",
         "type": "string"
        },
        {
         "name": "target",
         "rawType": "int64",
         "type": "integer"
        },
        {
         "name": "char_count",
         "rawType": "int64",
         "type": "integer"
        },
        {
         "name": "word_count",
         "rawType": "int64",
         "type": "integer"
        }
       ],
       "conversionMethod": "pd.DataFrame",
       "ref": "0d65b121-8848-430c-9c10-300ef242bba8",
       "rows": [
        [
         "24",
         "36",
         null,
         null,
         "LOOOOOOL",
         "0",
         "8",
         "1"
        ],
        [
         "28",
         "40",
         null,
         null,
         "Cooool :)",
         "0",
         "9",
         "2"
        ],
        [
         "30",
         "44",
         null,
         null,
         "The end!",
         "0",
         "8",
         "2"
        ],
        [
         "1882",
         "2703",
         "crushed",
         null,
         "Crushed",
         "0",
         "7",
         "1"
        ],
        [
         "3667",
         "5221",
         "fatality",
         "Nairobi",
         "Fatality!",
         "0",
         "9",
         "1"
        ],
        [
         "3670",
         "5224",
         "fatality",
         "Rafael castillo",
         "fatality",
         "0",
         "8",
         "1"
        ],
        [
         "3749",
         "5326",
         "fire",
         null,
         "I See Fire",
         "0",
         "10",
         "3"
        ],
        [
         "4890",
         "6962",
         "massacre",
         null,
         "Bad day",
         "0",
         "7",
         "2"
        ],
        [
         "4971",
         "7088",
         "meltdown",
         null,
         "Meltdown",
         "0",
         "8",
         "1"
        ],
        [
         "5115",
         "7295",
         "nuclear%20reactor",
         null,
         "Err:509",
         "0",
         "7",
         "1"
        ],
        [
         "6705",
         "9605",
         "thunder",
         null,
         "Thunder???",
         "0",
         "10",
         "1"
        ]
       ],
       "shape": {
        "columns": 7,
        "rows": 11
       }
      },
      "text/html": [
       "<div>\n",
       "<style scoped>\n",
       "    .dataframe tbody tr th:only-of-type {\n",
       "        vertical-align: middle;\n",
       "    }\n",
       "\n",
       "    .dataframe tbody tr th {\n",
       "        vertical-align: top;\n",
       "    }\n",
       "\n",
       "    .dataframe thead th {\n",
       "        text-align: right;\n",
       "    }\n",
       "</style>\n",
       "<table border=\"1\" class=\"dataframe\">\n",
       "  <thead>\n",
       "    <tr style=\"text-align: right;\">\n",
       "      <th></th>\n",
       "      <th>id</th>\n",
       "      <th>keyword</th>\n",
       "      <th>location</th>\n",
       "      <th>text</th>\n",
       "      <th>target</th>\n",
       "      <th>char_count</th>\n",
       "      <th>word_count</th>\n",
       "    </tr>\n",
       "  </thead>\n",
       "  <tbody>\n",
       "    <tr>\n",
       "      <th>24</th>\n",
       "      <td>36</td>\n",
       "      <td>NaN</td>\n",
       "      <td>NaN</td>\n",
       "      <td>LOOOOOOL</td>\n",
       "      <td>0</td>\n",
       "      <td>8</td>\n",
       "      <td>1</td>\n",
       "    </tr>\n",
       "    <tr>\n",
       "      <th>28</th>\n",
       "      <td>40</td>\n",
       "      <td>NaN</td>\n",
       "      <td>NaN</td>\n",
       "      <td>Cooool :)</td>\n",
       "      <td>0</td>\n",
       "      <td>9</td>\n",
       "      <td>2</td>\n",
       "    </tr>\n",
       "    <tr>\n",
       "      <th>30</th>\n",
       "      <td>44</td>\n",
       "      <td>NaN</td>\n",
       "      <td>NaN</td>\n",
       "      <td>The end!</td>\n",
       "      <td>0</td>\n",
       "      <td>8</td>\n",
       "      <td>2</td>\n",
       "    </tr>\n",
       "    <tr>\n",
       "      <th>1882</th>\n",
       "      <td>2703</td>\n",
       "      <td>crushed</td>\n",
       "      <td>NaN</td>\n",
       "      <td>Crushed</td>\n",
       "      <td>0</td>\n",
       "      <td>7</td>\n",
       "      <td>1</td>\n",
       "    </tr>\n",
       "    <tr>\n",
       "      <th>3667</th>\n",
       "      <td>5221</td>\n",
       "      <td>fatality</td>\n",
       "      <td>Nairobi</td>\n",
       "      <td>Fatality!</td>\n",
       "      <td>0</td>\n",
       "      <td>9</td>\n",
       "      <td>1</td>\n",
       "    </tr>\n",
       "    <tr>\n",
       "      <th>3670</th>\n",
       "      <td>5224</td>\n",
       "      <td>fatality</td>\n",
       "      <td>Rafael castillo</td>\n",
       "      <td>fatality</td>\n",
       "      <td>0</td>\n",
       "      <td>8</td>\n",
       "      <td>1</td>\n",
       "    </tr>\n",
       "    <tr>\n",
       "      <th>3749</th>\n",
       "      <td>5326</td>\n",
       "      <td>fire</td>\n",
       "      <td>NaN</td>\n",
       "      <td>I See Fire</td>\n",
       "      <td>0</td>\n",
       "      <td>10</td>\n",
       "      <td>3</td>\n",
       "    </tr>\n",
       "    <tr>\n",
       "      <th>4890</th>\n",
       "      <td>6962</td>\n",
       "      <td>massacre</td>\n",
       "      <td>NaN</td>\n",
       "      <td>Bad day</td>\n",
       "      <td>0</td>\n",
       "      <td>7</td>\n",
       "      <td>2</td>\n",
       "    </tr>\n",
       "    <tr>\n",
       "      <th>4971</th>\n",
       "      <td>7088</td>\n",
       "      <td>meltdown</td>\n",
       "      <td>NaN</td>\n",
       "      <td>Meltdown</td>\n",
       "      <td>0</td>\n",
       "      <td>8</td>\n",
       "      <td>1</td>\n",
       "    </tr>\n",
       "    <tr>\n",
       "      <th>5115</th>\n",
       "      <td>7295</td>\n",
       "      <td>nuclear%20reactor</td>\n",
       "      <td>NaN</td>\n",
       "      <td>Err:509</td>\n",
       "      <td>0</td>\n",
       "      <td>7</td>\n",
       "      <td>1</td>\n",
       "    </tr>\n",
       "    <tr>\n",
       "      <th>6705</th>\n",
       "      <td>9605</td>\n",
       "      <td>thunder</td>\n",
       "      <td>NaN</td>\n",
       "      <td>Thunder???</td>\n",
       "      <td>0</td>\n",
       "      <td>10</td>\n",
       "      <td>1</td>\n",
       "    </tr>\n",
       "  </tbody>\n",
       "</table>\n",
       "</div>"
      ],
      "text/plain": [
       "        id            keyword         location        text  target  \\\n",
       "24      36                NaN              NaN    LOOOOOOL       0   \n",
       "28      40                NaN              NaN   Cooool :)       0   \n",
       "30      44                NaN              NaN    The end!       0   \n",
       "1882  2703            crushed              NaN     Crushed       0   \n",
       "3667  5221           fatality          Nairobi   Fatality!       0   \n",
       "3670  5224           fatality  Rafael castillo    fatality       0   \n",
       "3749  5326               fire              NaN  I See Fire       0   \n",
       "4890  6962           massacre              NaN     Bad day       0   \n",
       "4971  7088           meltdown              NaN    Meltdown       0   \n",
       "5115  7295  nuclear%20reactor              NaN     Err:509       0   \n",
       "6705  9605            thunder              NaN  Thunder???       0   \n",
       "\n",
       "      char_count  word_count  \n",
       "24             8           1  \n",
       "28             9           2  \n",
       "30             8           2  \n",
       "1882           7           1  \n",
       "3667           9           1  \n",
       "3670           8           1  \n",
       "3749          10           3  \n",
       "4890           7           2  \n",
       "4971           8           1  \n",
       "5115           7           1  \n",
       "6705          10           1  "
      ]
     },
     "execution_count": 9,
     "metadata": {},
     "output_type": "execute_result"
    }
   ],
   "source": [
    "# Take a look at the shorter posts... \n",
    "train_df[train_df['char_count'] <= 10]\n",
    "# train_df['char_count'].nsmallest(20)"
   ]
  },
  {
   "cell_type": "code",
   "execution_count": null,
   "metadata": {
    "execution": {
     "iopub.execute_input": "2025-02-26T21:33:18.083844Z",
     "iopub.status.busy": "2025-02-26T21:33:18.083577Z",
     "iopub.status.idle": "2025-02-26T21:33:18.100574Z",
     "shell.execute_reply": "2025-02-26T21:33:18.099776Z",
     "shell.execute_reply.started": "2025-02-26T21:33:18.083814Z"
    },
    "trusted": true
   },
   "outputs": [
    {
     "data": {
      "application/vnd.microsoft.datawrangler.viewer.v0+json": {
       "columns": [
        {
         "name": "index",
         "rawType": "int64",
         "type": "integer"
        },
        {
         "name": "id",
         "rawType": "int64",
         "type": "integer"
        },
        {
         "name": "keyword",
         "rawType": "object",
         "type": "unknown"
        },
        {
         "name": "location",
         "rawType": "object",
         "type": "unknown"
        },
        {
         "name": "text",
         "rawType": "object",
         "type": "string"
        },
        {
         "name": "target",
         "rawType": "int64",
         "type": "integer"
        },
        {
         "name": "char_count",
         "rawType": "int64",
         "type": "integer"
        },
        {
         "name": "word_count",
         "rawType": "int64",
         "type": "integer"
        }
       ],
       "conversionMethod": "pd.DataFrame",
       "ref": "b571413a-9a46-49f5-8b29-b8c40a39a502",
       "rows": [
        [
         "24",
         "36",
         null,
         null,
         "LOOOOOOL",
         "0",
         "8",
         "1"
        ],
        [
         "1882",
         "2703",
         "crushed",
         null,
         "Crushed",
         "0",
         "7",
         "1"
        ],
        [
         "3667",
         "5221",
         "fatality",
         "Nairobi",
         "Fatality!",
         "0",
         "9",
         "1"
        ],
        [
         "3670",
         "5224",
         "fatality",
         "Rafael castillo",
         "fatality",
         "0",
         "8",
         "1"
        ],
        [
         "4971",
         "7088",
         "meltdown",
         null,
         "Meltdown",
         "0",
         "8",
         "1"
        ],
        [
         "5115",
         "7295",
         "nuclear%20reactor",
         null,
         "Err:509",
         "0",
         "7",
         "1"
        ],
        [
         "5184",
         "7400",
         "obliterated",
         "New York",
         "Obliterated",
         "0",
         "11",
         "1"
        ],
        [
         "6705",
         "9605",
         "thunder",
         null,
         "Thunder???",
         "0",
         "10",
         "1"
        ]
       ],
       "shape": {
        "columns": 7,
        "rows": 8
       }
      },
      "text/html": [
       "<div>\n",
       "<style scoped>\n",
       "    .dataframe tbody tr th:only-of-type {\n",
       "        vertical-align: middle;\n",
       "    }\n",
       "\n",
       "    .dataframe tbody tr th {\n",
       "        vertical-align: top;\n",
       "    }\n",
       "\n",
       "    .dataframe thead th {\n",
       "        text-align: right;\n",
       "    }\n",
       "</style>\n",
       "<table border=\"1\" class=\"dataframe\">\n",
       "  <thead>\n",
       "    <tr style=\"text-align: right;\">\n",
       "      <th></th>\n",
       "      <th>id</th>\n",
       "      <th>keyword</th>\n",
       "      <th>location</th>\n",
       "      <th>text</th>\n",
       "      <th>target</th>\n",
       "      <th>char_count</th>\n",
       "      <th>word_count</th>\n",
       "    </tr>\n",
       "  </thead>\n",
       "  <tbody>\n",
       "    <tr>\n",
       "      <th>24</th>\n",
       "      <td>36</td>\n",
       "      <td>NaN</td>\n",
       "      <td>NaN</td>\n",
       "      <td>LOOOOOOL</td>\n",
       "      <td>0</td>\n",
       "      <td>8</td>\n",
       "      <td>1</td>\n",
       "    </tr>\n",
       "    <tr>\n",
       "      <th>1882</th>\n",
       "      <td>2703</td>\n",
       "      <td>crushed</td>\n",
       "      <td>NaN</td>\n",
       "      <td>Crushed</td>\n",
       "      <td>0</td>\n",
       "      <td>7</td>\n",
       "      <td>1</td>\n",
       "    </tr>\n",
       "    <tr>\n",
       "      <th>3667</th>\n",
       "      <td>5221</td>\n",
       "      <td>fatality</td>\n",
       "      <td>Nairobi</td>\n",
       "      <td>Fatality!</td>\n",
       "      <td>0</td>\n",
       "      <td>9</td>\n",
       "      <td>1</td>\n",
       "    </tr>\n",
       "    <tr>\n",
       "      <th>3670</th>\n",
       "      <td>5224</td>\n",
       "      <td>fatality</td>\n",
       "      <td>Rafael castillo</td>\n",
       "      <td>fatality</td>\n",
       "      <td>0</td>\n",
       "      <td>8</td>\n",
       "      <td>1</td>\n",
       "    </tr>\n",
       "    <tr>\n",
       "      <th>4971</th>\n",
       "      <td>7088</td>\n",
       "      <td>meltdown</td>\n",
       "      <td>NaN</td>\n",
       "      <td>Meltdown</td>\n",
       "      <td>0</td>\n",
       "      <td>8</td>\n",
       "      <td>1</td>\n",
       "    </tr>\n",
       "    <tr>\n",
       "      <th>5115</th>\n",
       "      <td>7295</td>\n",
       "      <td>nuclear%20reactor</td>\n",
       "      <td>NaN</td>\n",
       "      <td>Err:509</td>\n",
       "      <td>0</td>\n",
       "      <td>7</td>\n",
       "      <td>1</td>\n",
       "    </tr>\n",
       "    <tr>\n",
       "      <th>5184</th>\n",
       "      <td>7400</td>\n",
       "      <td>obliterated</td>\n",
       "      <td>New York</td>\n",
       "      <td>Obliterated</td>\n",
       "      <td>0</td>\n",
       "      <td>11</td>\n",
       "      <td>1</td>\n",
       "    </tr>\n",
       "    <tr>\n",
       "      <th>6705</th>\n",
       "      <td>9605</td>\n",
       "      <td>thunder</td>\n",
       "      <td>NaN</td>\n",
       "      <td>Thunder???</td>\n",
       "      <td>0</td>\n",
       "      <td>10</td>\n",
       "      <td>1</td>\n",
       "    </tr>\n",
       "  </tbody>\n",
       "</table>\n",
       "</div>"
      ],
      "text/plain": [
       "        id            keyword         location         text  target  \\\n",
       "24      36                NaN              NaN     LOOOOOOL       0   \n",
       "1882  2703            crushed              NaN      Crushed       0   \n",
       "3667  5221           fatality          Nairobi    Fatality!       0   \n",
       "3670  5224           fatality  Rafael castillo     fatality       0   \n",
       "4971  7088           meltdown              NaN     Meltdown       0   \n",
       "5115  7295  nuclear%20reactor              NaN      Err:509       0   \n",
       "5184  7400        obliterated         New York  Obliterated       0   \n",
       "6705  9605            thunder              NaN   Thunder???       0   \n",
       "\n",
       "      char_count  word_count  \n",
       "24             8           1  \n",
       "1882           7           1  \n",
       "3667           9           1  \n",
       "3670           8           1  \n",
       "4971           8           1  \n",
       "5115           7           1  \n",
       "5184          11           1  \n",
       "6705          10           1  "
      ]
     },
     "execution_count": 10,
     "metadata": {},
     "output_type": "execute_result"
    }
   ],
   "source": [
    "# And the posts with few words.  Lost of overlap, but not necessarily the same\n",
    "train_df[train_df['word_count'] < 2]\n"
   ]
  },
  {
   "cell_type": "code",
   "execution_count": 11,
   "metadata": {},
   "outputs": [
    {
     "data": {
      "application/vnd.microsoft.datawrangler.viewer.v0+json": {
       "columns": [
        {
         "name": "index",
         "rawType": "int64",
         "type": "integer"
        },
        {
         "name": "id",
         "rawType": "int64",
         "type": "integer"
        },
        {
         "name": "keyword",
         "rawType": "object",
         "type": "string"
        },
        {
         "name": "location",
         "rawType": "object",
         "type": "string"
        },
        {
         "name": "text",
         "rawType": "object",
         "type": "string"
        },
        {
         "name": "target",
         "rawType": "int64",
         "type": "integer"
        },
        {
         "name": "char_count",
         "rawType": "int64",
         "type": "integer"
        },
        {
         "name": "word_count",
         "rawType": "int64",
         "type": "integer"
        }
       ],
       "conversionMethod": "pd.DataFrame",
       "ref": "292504de-d5b1-4764-a99f-f6761a5ef359",
       "rows": [
        [
         "40",
         "59",
         "ablaze",
         "Live On Webcam",
         "Check these out: http://t.co/rOI2NSmEJJ http://t.co/3Tj8ZjiN21 http://t.co/YDUiXEfIpE http://t.co/LxTjc87KLS #nsfw",
         "0",
         "114",
         "8"
        ],
        [
         "48",
         "68",
         "ablaze",
         "Live On Webcam",
         "Check these out: http://t.co/rOI2NSmEJJ http://t.co/3Tj8ZjiN21 http://t.co/YDUiXEfIpE http://t.co/LxTjc87KLS #nsfw",
         "0",
         "114",
         "8"
        ],
        [
         "106",
         "156",
         "aftershock",
         "US",
         "320 [IR] ICEMOON [AFTERSHOCK] | http://t.co/vAM5POdGyw | @djicemoon | #Dubstep #TrapMusic #DnB #EDM #Dance #IcesÛ_ http://t.co/zEVakJaPcz",
         "0",
         "138",
         "16"
        ],
        [
         "115",
         "165",
         "aftershock",
         "US",
         "320 [IR] ICEMOON [AFTERSHOCK] | http://t.co/vAM5POdGyw | @djicemoon | #Dubstep #TrapMusic #DnB #EDM #Dance #IcesÛ_ http://t.co/zEVakJaPcz",
         "0",
         "138",
         "16"
        ],
        [
         "118",
         "171",
         "aftershock",
         "Switzerland",
         "320 [IR] ICEMOON [AFTERSHOCK] | http://t.co/THyzOMVWU0 | @djicemoon | #Dubstep #TrapMusic #DnB #EDM #Dance #IcesÛ_ http://t.co/83jOO0xk29",
         "0",
         "138",
         "16"
        ]
       ],
       "shape": {
        "columns": 7,
        "rows": 5
       }
      },
      "text/html": [
       "<div>\n",
       "<style scoped>\n",
       "    .dataframe tbody tr th:only-of-type {\n",
       "        vertical-align: middle;\n",
       "    }\n",
       "\n",
       "    .dataframe tbody tr th {\n",
       "        vertical-align: top;\n",
       "    }\n",
       "\n",
       "    .dataframe thead th {\n",
       "        text-align: right;\n",
       "    }\n",
       "</style>\n",
       "<table border=\"1\" class=\"dataframe\">\n",
       "  <thead>\n",
       "    <tr style=\"text-align: right;\">\n",
       "      <th></th>\n",
       "      <th>id</th>\n",
       "      <th>keyword</th>\n",
       "      <th>location</th>\n",
       "      <th>text</th>\n",
       "      <th>target</th>\n",
       "      <th>char_count</th>\n",
       "      <th>word_count</th>\n",
       "    </tr>\n",
       "  </thead>\n",
       "  <tbody>\n",
       "    <tr>\n",
       "      <th>40</th>\n",
       "      <td>59</td>\n",
       "      <td>ablaze</td>\n",
       "      <td>Live On Webcam</td>\n",
       "      <td>Check these out: http://t.co/rOI2NSmEJJ http:/...</td>\n",
       "      <td>0</td>\n",
       "      <td>114</td>\n",
       "      <td>8</td>\n",
       "    </tr>\n",
       "    <tr>\n",
       "      <th>48</th>\n",
       "      <td>68</td>\n",
       "      <td>ablaze</td>\n",
       "      <td>Live On Webcam</td>\n",
       "      <td>Check these out: http://t.co/rOI2NSmEJJ http:/...</td>\n",
       "      <td>0</td>\n",
       "      <td>114</td>\n",
       "      <td>8</td>\n",
       "    </tr>\n",
       "    <tr>\n",
       "      <th>106</th>\n",
       "      <td>156</td>\n",
       "      <td>aftershock</td>\n",
       "      <td>US</td>\n",
       "      <td>320 [IR] ICEMOON [AFTERSHOCK] | http://t.co/vA...</td>\n",
       "      <td>0</td>\n",
       "      <td>138</td>\n",
       "      <td>16</td>\n",
       "    </tr>\n",
       "    <tr>\n",
       "      <th>115</th>\n",
       "      <td>165</td>\n",
       "      <td>aftershock</td>\n",
       "      <td>US</td>\n",
       "      <td>320 [IR] ICEMOON [AFTERSHOCK] | http://t.co/vA...</td>\n",
       "      <td>0</td>\n",
       "      <td>138</td>\n",
       "      <td>16</td>\n",
       "    </tr>\n",
       "    <tr>\n",
       "      <th>118</th>\n",
       "      <td>171</td>\n",
       "      <td>aftershock</td>\n",
       "      <td>Switzerland</td>\n",
       "      <td>320 [IR] ICEMOON [AFTERSHOCK] | http://t.co/TH...</td>\n",
       "      <td>0</td>\n",
       "      <td>138</td>\n",
       "      <td>16</td>\n",
       "    </tr>\n",
       "  </tbody>\n",
       "</table>\n",
       "</div>"
      ],
      "text/plain": [
       "      id     keyword        location  \\\n",
       "40    59      ablaze  Live On Webcam   \n",
       "48    68      ablaze  Live On Webcam   \n",
       "106  156  aftershock              US   \n",
       "115  165  aftershock              US   \n",
       "118  171  aftershock     Switzerland   \n",
       "\n",
       "                                                  text  target  char_count  \\\n",
       "40   Check these out: http://t.co/rOI2NSmEJJ http:/...       0         114   \n",
       "48   Check these out: http://t.co/rOI2NSmEJJ http:/...       0         114   \n",
       "106  320 [IR] ICEMOON [AFTERSHOCK] | http://t.co/vA...       0         138   \n",
       "115  320 [IR] ICEMOON [AFTERSHOCK] | http://t.co/vA...       0         138   \n",
       "118  320 [IR] ICEMOON [AFTERSHOCK] | http://t.co/TH...       0         138   \n",
       "\n",
       "     word_count  \n",
       "40            8  \n",
       "48            8  \n",
       "106          16  \n",
       "115          16  \n",
       "118          16  "
      ]
     },
     "execution_count": 11,
     "metadata": {},
     "output_type": "execute_result"
    }
   ],
   "source": [
    "duplicated_texts = train_df[train_df.duplicated(['text'], keep=False)]\n",
    "duplicated_texts.head()"
   ]
  },
  {
   "cell_type": "code",
   "execution_count": 12,
   "metadata": {
    "execution": {
     "iopub.execute_input": "2025-02-26T21:33:18.103408Z",
     "iopub.status.busy": "2025-02-26T21:33:18.103183Z",
     "iopub.status.idle": "2025-02-26T21:33:18.152443Z",
     "shell.execute_reply": "2025-02-26T21:33:18.151772Z",
     "shell.execute_reply.started": "2025-02-26T21:33:18.103380Z"
    },
    "trusted": true
   },
   "outputs": [
    {
     "name": "stdout",
     "output_type": "stream",
     "text": [
      "[('-', 763), ('like', 318), ('&amp;', 295), ('??', 214), ('via', 208), ('get', 183), ('fire', 148), ('...', 147), ('people', 146), ('2', 145), ('|', 142), ('one', 142), ('would', 116), ('new', 105), ('got', 103), ('New', 98), ('????', 96), ('know', 96), ('video', 93), ('going', 91)]\n"
     ]
    }
   ],
   "source": [
    "# Tokenize and count words\n",
    "all_words = ' '.join(train_df['text']).split()\n",
    "stop_words = set(stopwords.words('english'))\n",
    "filtered_words = [word for word in all_words if word.lower() not in stop_words]\n",
    "word_counts = Counter(filtered_words)\n",
    "\n",
    "print(word_counts.most_common(20))"
   ]
  },
  {
   "cell_type": "code",
   "execution_count": 13,
   "metadata": {
    "execution": {
     "iopub.execute_input": "2025-02-26T21:33:18.153684Z",
     "iopub.status.busy": "2025-02-26T21:33:18.153408Z",
     "iopub.status.idle": "2025-02-26T21:33:18.460964Z",
     "shell.execute_reply": "2025-02-26T21:33:18.460055Z",
     "shell.execute_reply.started": "2025-02-26T21:33:18.153649Z"
    },
    "trusted": true
   },
   "outputs": [
    {
     "name": "stdout",
     "output_type": "stream",
     "text": [
      "[('http co', 4306), ('https co', 410), ('in the', 308), ('of the', 256), ('û_ http', 217), ('on the', 129), ('to the', 126), ('to be', 108), ('for the', 97), ('at the', 85)]\n"
     ]
    }
   ],
   "source": [
    "# Top 10 bigrams\n",
    "vectorizer = CountVectorizer(ngram_range=(2, 2))  # Change to (1, 1) for unigrams, (3, 3) for trigrams\n",
    "ngrams = vectorizer.fit_transform(train_df['text'])\n",
    "ngram_counts = zip(vectorizer.get_feature_names_out(), ngrams.sum(axis=0).tolist()[0])\n",
    "sorted_ngrams = sorted(ngram_counts, key=lambda x: x[1], reverse=True)\n",
    "\n",
    "print(sorted_ngrams[:10])"
   ]
  },
  {
   "cell_type": "code",
   "execution_count": 14,
   "metadata": {
    "execution": {
     "iopub.execute_input": "2025-02-26T21:33:18.462000Z",
     "iopub.status.busy": "2025-02-26T21:33:18.461764Z",
     "iopub.status.idle": "2025-02-26T21:33:18.783599Z",
     "shell.execute_reply": "2025-02-26T21:33:18.782797Z",
     "shell.execute_reply.started": "2025-02-26T21:33:18.461979Z"
    },
    "trusted": true
   },
   "outputs": [
    {
     "name": "stdout",
     "output_type": "stream",
     "text": [
      "[('û_ http co', 217), ('liked youtube video', 42), ('video http co', 42), ('û_ https co', 35), ('homes razed by', 29), ('more homes razed', 29), ('northern california wildfire', 29), ('2015 http co', 28), ('bomber who detonated', 28), ('detonated bomb in', 28)]\n"
     ]
    }
   ],
   "source": [
    "# Trigram analysis\n",
    "vectorizer = CountVectorizer(ngram_range=(3,3))  # Change to (1, 1) for unigrams, (3, 3) for trigrams\n",
    "ngrams = vectorizer.fit_transform(train_df['text'])\n",
    "ngram_counts = zip(vectorizer.get_feature_names_out(), ngrams.sum(axis=0).tolist()[0])\n",
    "sorted_ngrams = sorted(ngram_counts, key=lambda x: x[1], reverse=True)\n",
    "\n",
    "print(sorted_ngrams[:10])"
   ]
  },
  {
   "cell_type": "code",
   "execution_count": 15,
   "metadata": {
    "execution": {
     "iopub.execute_input": "2025-02-26T21:33:29.026206Z",
     "iopub.status.busy": "2025-02-26T21:33:29.025857Z",
     "iopub.status.idle": "2025-02-26T21:33:29.047132Z",
     "shell.execute_reply": "2025-02-26T21:33:29.046323Z",
     "shell.execute_reply.started": "2025-02-26T21:33:29.026174Z"
    },
    "trusted": true
   },
   "outputs": [
    {
     "name": "stdout",
     "output_type": "stream",
     "text": [
      "3971 records which contain http\n"
     ]
    },
    {
     "data": {
      "application/vnd.microsoft.datawrangler.viewer.v0+json": {
       "columns": [
        {
         "name": "index",
         "rawType": "int64",
         "type": "integer"
        },
        {
         "name": "id",
         "rawType": "int64",
         "type": "integer"
        },
        {
         "name": "keyword",
         "rawType": "object",
         "type": "unknown"
        },
        {
         "name": "location",
         "rawType": "object",
         "type": "unknown"
        },
        {
         "name": "text",
         "rawType": "object",
         "type": "string"
        },
        {
         "name": "target",
         "rawType": "int64",
         "type": "integer"
        },
        {
         "name": "char_count",
         "rawType": "int64",
         "type": "integer"
        },
        {
         "name": "word_count",
         "rawType": "int64",
         "type": "integer"
        }
       ],
       "conversionMethod": "pd.DataFrame",
       "ref": "9bdc70be-98cb-499b-89ab-1da0ea0927aa",
       "rows": [
        [
         "31",
         "48",
         "ablaze",
         "Birmingham",
         "@bbcmtd Wholesale Markets ablaze http://t.co/lHYXEOHY6C",
         "1",
         "55",
         "5"
        ],
        [
         "32",
         "49",
         "ablaze",
         "Est. September 2012 - Bristol",
         "We always try to bring the heavy. #metal #RT http://t.co/YAo1e0xngw",
         "0",
         "67",
         "10"
        ],
        [
         "33",
         "50",
         "ablaze",
         "AFRICA",
         "#AFRICANBAZE: Breaking news:Nigeria flag set ablaze in Aba. http://t.co/2nndBGwyEi",
         "1",
         "82",
         "9"
        ],
        [
         "35",
         "53",
         "ablaze",
         "London, UK",
         "On plus side LOOK AT THE SKY LAST NIGHT IT WAS ABLAZE http://t.co/qqsmshaJ3N",
         "0",
         "76",
         "13"
        ],
        [
         "37",
         "55",
         "ablaze",
         "World Wide!!",
         "INEC Office in Abia Set Ablaze - http://t.co/3ImaomknnA",
         "1",
         "55",
         "8"
        ],
        [
         "38",
         "56",
         "ablaze",
         null,
         "Barbados #Bridgetown JAMAICA ÛÒ Two cars set ablaze: SANTA CRUZ ÛÓ Head of the St Elizabeth Police Superintende...  http://t.co/wDUEaj8Q4J",
         "1",
         "140",
         "19"
        ],
        [
         "40",
         "59",
         "ablaze",
         "Live On Webcam",
         "Check these out: http://t.co/rOI2NSmEJJ http://t.co/3Tj8ZjiN21 http://t.co/YDUiXEfIpE http://t.co/LxTjc87KLS #nsfw",
         "0",
         "114",
         "8"
        ],
        [
         "44",
         "64",
         "ablaze",
         null,
         "I wanted to set Chicago ablaze with my preaching... But not my hotel! http://t.co/o9qknbfOFX",
         "0",
         "92",
         "14"
        ],
        [
         "45",
         "65",
         "ablaze",
         null,
         "I gained 3 followers in the last week. You? Know your stats and grow with http://t.co/TIyUliF5c6",
         "0",
         "96",
         "16"
        ],
        [
         "46",
         "66",
         "ablaze",
         "GREENSBORO,NORTH CAROLINA",
         "How the West was burned: Thousands of wildfires ablaze in California alone http://t.co/vl5TBR3wbr",
         "1",
         "97",
         "13"
        ],
        [
         "48",
         "68",
         "ablaze",
         "Live On Webcam",
         "Check these out: http://t.co/rOI2NSmEJJ http://t.co/3Tj8ZjiN21 http://t.co/YDUiXEfIpE http://t.co/LxTjc87KLS #nsfw",
         "0",
         "114",
         "8"
        ],
        [
         "50",
         "73",
         "ablaze",
         "Sheffield Township, Ohio",
         "Deputies: Man shot before Brighton home set ablaze http://t.co/gWNRhMSO8k",
         "1",
         "73",
         "9"
        ],
        [
         "51",
         "74",
         "ablaze",
         "India",
         "Man wife get six years jail for setting ablaze niece\nhttp://t.co/eV1ahOUCZA",
         "1",
         "75",
         "11"
        ],
        [
         "52",
         "76",
         "ablaze",
         "Barbados",
         "SANTA CRUZ ÛÓ Head of the St Elizabeth Police Superintendent Lanford Salmon has r ... - http://t.co/vplR5Hka2u http://t.co/SxHW2TNNLf",
         "0",
         "134",
         "18"
        ],
        [
         "53",
         "77",
         "ablaze",
         "Anaheim",
         "Police: Arsonist Deliberately Set Black Church In North CarolinaåÊAblaze http://t.co/pcXarbH9An",
         "1",
         "95",
         "10"
        ],
        [
         "54",
         "78",
         "ablaze",
         "Abuja",
         "Noches El-Bestia '@Alexis_Sanchez: happy to see my teammates and training hard ?? goodnight gunners.?????? http://t.co/uc4j4jHvGR'",
         "0",
         "130",
         "15"
        ],
        [
         "55",
         "79",
         "ablaze",
         "USA",
         "#Kurds trampling on Turkmen flag later set it ablaze while others vandalized offices of Turkmen Front in #Diyala http://t.co/4IzFdYC3cg",
         "1",
         "135",
         "19"
        ],
        [
         "56",
         "80",
         "ablaze",
         "South Africa",
         "TRUCK ABLAZE : R21. VOORTREKKER AVE. OUTSIDE OR TAMBO INTL. CARGO SECTION. http://t.co/8kscqKfKkF",
         "1",
         "97",
         "13"
        ],
        [
         "57",
         "81",
         "ablaze",
         "Sao Paulo, Brazil",
         "Set our hearts ablaze and every city was a gift And every skyline was like a kiss upon the lips @Û_ https://t.co/cYoMPZ1A0Z",
         "0",
         "124",
         "22"
        ],
        [
         "59",
         "83",
         "ablaze",
         "Edmonton, Alberta - Treaty 6",
         "How the West was burned: Thousands of wildfires ablaze in #California alone http://t.co/iCSjGZ9tE1 #climate #energy http://t.co/9FxmN0l0Bd",
         "1",
         "138",
         "16"
        ],
        [
         "61",
         "86",
         "ablaze",
         "Inang Pamantasan",
         "Progressive greetings!\n\nIn about a month students would have set their pens ablaze in The Torch Publications'... http://t.co/9FxPiXQuJt",
         "0",
         "135",
         "18"
        ],
        [
         "62",
         "89",
         "ablaze",
         "Twitter Lockout in progress",
         "Rene Ablaze &amp; Jacinta - Secret 2k13 (Fallen Skies Edit) - Mar 30 2013  https://t.co/7MLMsUzV1Z",
         "0",
         "98",
         "15"
        ],
        [
         "64",
         "92",
         "ablaze",
         "Calgary, AB",
         "#NowPlaying: Rene Ablaze &amp; Ian Buff - Magnitude http://t.co/Av2JSjfFtc  #EDM",
         "0",
         "80",
         "10"
        ],
        [
         "65",
         "93",
         "ablaze",
         "Birmingham",
         "@nxwestmidlands huge fire at Wholesale markets ablaze http://t.co/rwzbFVNXER",
         "1",
         "76",
         "8"
        ],
        [
         "68",
         "97",
         "accident",
         "Nashville, TN",
         "Accident on I-24 W #NashvilleTraffic. Traffic moving 8m slower than usual. https://t.co/0GHk693EgJ",
         "1",
         "98",
         "12"
        ],
        [
         "69",
         "98",
         "accident",
         "Santa Clara, CA",
         "Accident center lane blocked in #SantaClara on US-101 NB before Great America Pkwy #BayArea #Traffic http://t.co/pmlOhZuRWR",
         "1",
         "123",
         "16"
        ],
        [
         "70",
         "100",
         "accident",
         "UK",
         "http://t.co/GKYe6gjTk5 Had a #personalinjury accident this summer? Read our advice &amp; see how a #solicitor can help #OtleyHour",
         "0",
         "129",
         "18"
        ],
        [
         "71",
         "102",
         "accident",
         "St. Louis, MO",
         "#stlouis #caraccidentlawyer Speeding Among Top Causes of Teen Accidents https://t.co/k4zoMOF319 https://t.co/S2kXVM0cBA Car Accident teeÛ_",
         "0",
         "139",
         "14"
        ],
        [
         "72",
         "104",
         "accident",
         "Walker County, Alabama",
         "Reported motor vehicle accident in Curry on Herman Rd near Stephenson involving an overturned vehicle. Please use... http://t.co/YbJezKuRW1",
         "1",
         "139",
         "18"
        ],
        [
         "75",
         "109",
         "accident",
         null,
         "RT @SleepJunkies: Sleeping pills double your risk of a car accident http://t.co/7s9Nm1fiCT",
         "0",
         "90",
         "12"
        ],
        [
         "76",
         "110",
         "accident",
         "Norf Carolina",
         "'By accident' they knew what was gon happen https://t.co/Ysxun5vCeh",
         "0",
         "67",
         "9"
        ],
        [
         "83",
         "120",
         "accident",
         "Arlington, TX",
         "#TruckCrash Overturns On #FortWorth Interstate http://t.co/Rs22LJ4qFp Click here if you've been in a crash&gt;http://t.co/Ld0unIYw4k",
         "1",
         "132",
         "14"
        ],
        [
         "84",
         "121",
         "accident",
         "South Bloomfield, OH",
         "Accident in #Ashville on US 23 SB before SR 752 #traffic http://t.co/hylMo0WgFI",
         "1",
         "79",
         "12"
        ],
        [
         "85",
         "126",
         "accident",
         null,
         "Carolina accident: Motorcyclist Dies in I-540 Crash With Car That Crossed Median: A motorcycle rider traveling... http://t.co/p18lzRlmy6",
         "1",
         "136",
         "17"
        ],
        [
         "90",
         "132",
         "accident",
         null,
         "???? it was an accident http://t.co/Oia5fxi4gM",
         "0",
         "46",
         "6"
        ],
        [
         "92",
         "134",
         "accident",
         null,
         "8/6/2015@2:09 PM: TRAFFIC ACCIDENT NO INJURY at 2781 WILLIS FOREMAN RD http://t.co/VCkIT6EDEv",
         "1",
         "93",
         "12"
        ],
        [
         "93",
         "135",
         "accident",
         "global",
         "Aashiqui Actress Anu Aggarwal On Her Near-Fatal Accident http://t.co/6Otfp31LqW",
         "1",
         "79",
         "9"
        ],
        [
         "94",
         "136",
         "accident",
         "Alberta | Sask. | Montana",
         "Suffield Alberta Accident https://t.co/bPTmlF4P10",
         "1",
         "49",
         "4"
        ],
        [
         "100",
         "144",
         "accident",
         "UK",
         ".@NorwayMFA #Bahrain police had previously died in a road accident they were not killed by explosion https://t.co/gFJfgTodad",
         "1",
         "124",
         "17"
        ],
        [
         "104",
         "151",
         "aftershock",
         "Switzerland",
         "320 [IR] ICEMOON [AFTERSHOCK] | http://t.co/yNXnvVKCDA | @djicemoon | #Dubstep #TrapMusic #DnB #EDM #Dance #IcesÛ_ http://t.co/weQPesENku",
         "0",
         "138",
         "16"
        ],
        [
         "106",
         "156",
         "aftershock",
         "US",
         "320 [IR] ICEMOON [AFTERSHOCK] | http://t.co/vAM5POdGyw | @djicemoon | #Dubstep #TrapMusic #DnB #EDM #Dance #IcesÛ_ http://t.co/zEVakJaPcz",
         "0",
         "138",
         "16"
        ],
        [
         "113",
         "163",
         "aftershock",
         "Belgium",
         "Aftershock https://t.co/xMWODFMtUI",
         "0",
         "34",
         "2"
        ],
        [
         "114",
         "164",
         "aftershock",
         "Switzerland",
         "320 [IR] ICEMOON [AFTERSHOCK] | http://t.co/M4JDZMGJoW | @djicemoon | #Dubstep #TrapMusic #DnB #EDM #Dance #IcesÛ_ http://t.co/n0uhAsfkBv",
         "0",
         "138",
         "16"
        ],
        [
         "115",
         "165",
         "aftershock",
         "US",
         "320 [IR] ICEMOON [AFTERSHOCK] | http://t.co/vAM5POdGyw | @djicemoon | #Dubstep #TrapMusic #DnB #EDM #Dance #IcesÛ_ http://t.co/zEVakJaPcz",
         "0",
         "138",
         "16"
        ],
        [
         "116",
         "168",
         "aftershock",
         null,
         "320 [IR] ICEMOON [AFTERSHOCK] | http://t.co/e14EPzhotH | @djicemoon | #Dubstep #TrapMusic #DnB #EDM #Dance #IcesÛ_ http://t.co/22a9D5DO6q",
         "0",
         "138",
         "16"
        ],
        [
         "118",
         "171",
         "aftershock",
         "Switzerland",
         "320 [IR] ICEMOON [AFTERSHOCK] | http://t.co/THyzOMVWU0 | @djicemoon | #Dubstep #TrapMusic #DnB #EDM #Dance #IcesÛ_ http://t.co/83jOO0xk29",
         "0",
         "138",
         "16"
        ],
        [
         "119",
         "172",
         "aftershock",
         "Switzerland",
         "320 [IR] ICEMOON [AFTERSHOCK] | http://t.co/THyzOMVWU0 | @djicemoon | #Dubstep #TrapMusic #DnB #EDM #Dance #IcesÛ_ http://t.co/83jOO0xk29",
         "0",
         "138",
         "16"
        ],
        [
         "120",
         "173",
         "aftershock",
         "Oshawa, Canada",
         "#WisdomWed BONUS - 5 Minute Daily Habits that could really improve your life. How many do you already do? #lifehacks http://t.co/TBm9FQb8cW",
         "0",
         "139",
         "21"
        ],
        [
         "121",
         "174",
         "aftershock",
         "Baker City Oregon",
         "Aftershock: Protect Yourself and Profit in the Next Global Financial Meltdown by David Wiedemer http http://t.co/WZTz4hgMVq",
         "0",
         "123",
         "16"
        ],
        [
         "123",
         "176",
         "aftershock",
         null,
         "Aftershock ã¢ (2010) Fullã¢ Streaming - YouTube http://t.co/vVE3UsesGf",
         "0",
         "72",
         "8"
        ]
       ],
       "shape": {
        "columns": 7,
        "rows": 3971
       }
      },
      "text/html": [
       "<div>\n",
       "<style scoped>\n",
       "    .dataframe tbody tr th:only-of-type {\n",
       "        vertical-align: middle;\n",
       "    }\n",
       "\n",
       "    .dataframe tbody tr th {\n",
       "        vertical-align: top;\n",
       "    }\n",
       "\n",
       "    .dataframe thead th {\n",
       "        text-align: right;\n",
       "    }\n",
       "</style>\n",
       "<table border=\"1\" class=\"dataframe\">\n",
       "  <thead>\n",
       "    <tr style=\"text-align: right;\">\n",
       "      <th></th>\n",
       "      <th>id</th>\n",
       "      <th>keyword</th>\n",
       "      <th>location</th>\n",
       "      <th>text</th>\n",
       "      <th>target</th>\n",
       "      <th>char_count</th>\n",
       "      <th>word_count</th>\n",
       "    </tr>\n",
       "  </thead>\n",
       "  <tbody>\n",
       "    <tr>\n",
       "      <th>31</th>\n",
       "      <td>48</td>\n",
       "      <td>ablaze</td>\n",
       "      <td>Birmingham</td>\n",
       "      <td>@bbcmtd Wholesale Markets ablaze http://t.co/l...</td>\n",
       "      <td>1</td>\n",
       "      <td>55</td>\n",
       "      <td>5</td>\n",
       "    </tr>\n",
       "    <tr>\n",
       "      <th>32</th>\n",
       "      <td>49</td>\n",
       "      <td>ablaze</td>\n",
       "      <td>Est. September 2012 - Bristol</td>\n",
       "      <td>We always try to bring the heavy. #metal #RT h...</td>\n",
       "      <td>0</td>\n",
       "      <td>67</td>\n",
       "      <td>10</td>\n",
       "    </tr>\n",
       "    <tr>\n",
       "      <th>33</th>\n",
       "      <td>50</td>\n",
       "      <td>ablaze</td>\n",
       "      <td>AFRICA</td>\n",
       "      <td>#AFRICANBAZE: Breaking news:Nigeria flag set a...</td>\n",
       "      <td>1</td>\n",
       "      <td>82</td>\n",
       "      <td>9</td>\n",
       "    </tr>\n",
       "    <tr>\n",
       "      <th>35</th>\n",
       "      <td>53</td>\n",
       "      <td>ablaze</td>\n",
       "      <td>London, UK</td>\n",
       "      <td>On plus side LOOK AT THE SKY LAST NIGHT IT WAS...</td>\n",
       "      <td>0</td>\n",
       "      <td>76</td>\n",
       "      <td>13</td>\n",
       "    </tr>\n",
       "    <tr>\n",
       "      <th>37</th>\n",
       "      <td>55</td>\n",
       "      <td>ablaze</td>\n",
       "      <td>World Wide!!</td>\n",
       "      <td>INEC Office in Abia Set Ablaze - http://t.co/3...</td>\n",
       "      <td>1</td>\n",
       "      <td>55</td>\n",
       "      <td>8</td>\n",
       "    </tr>\n",
       "    <tr>\n",
       "      <th>...</th>\n",
       "      <td>...</td>\n",
       "      <td>...</td>\n",
       "      <td>...</td>\n",
       "      <td>...</td>\n",
       "      <td>...</td>\n",
       "      <td>...</td>\n",
       "      <td>...</td>\n",
       "    </tr>\n",
       "    <tr>\n",
       "      <th>7606</th>\n",
       "      <td>10866</td>\n",
       "      <td>NaN</td>\n",
       "      <td>NaN</td>\n",
       "      <td>Suicide bomber kills 15 in Saudi security site...</td>\n",
       "      <td>1</td>\n",
       "      <td>121</td>\n",
       "      <td>20</td>\n",
       "    </tr>\n",
       "    <tr>\n",
       "      <th>7607</th>\n",
       "      <td>10867</td>\n",
       "      <td>NaN</td>\n",
       "      <td>NaN</td>\n",
       "      <td>#stormchase Violent Record Breaking EF-5 El Re...</td>\n",
       "      <td>1</td>\n",
       "      <td>134</td>\n",
       "      <td>16</td>\n",
       "    </tr>\n",
       "    <tr>\n",
       "      <th>7608</th>\n",
       "      <td>10869</td>\n",
       "      <td>NaN</td>\n",
       "      <td>NaN</td>\n",
       "      <td>Two giant cranes holding a bridge collapse int...</td>\n",
       "      <td>1</td>\n",
       "      <td>83</td>\n",
       "      <td>11</td>\n",
       "    </tr>\n",
       "    <tr>\n",
       "      <th>7610</th>\n",
       "      <td>10871</td>\n",
       "      <td>NaN</td>\n",
       "      <td>NaN</td>\n",
       "      <td>M1.94 [01:04 UTC]?5km S of Volcano Hawaii. htt...</td>\n",
       "      <td>1</td>\n",
       "      <td>65</td>\n",
       "      <td>8</td>\n",
       "    </tr>\n",
       "    <tr>\n",
       "      <th>7612</th>\n",
       "      <td>10873</td>\n",
       "      <td>NaN</td>\n",
       "      <td>NaN</td>\n",
       "      <td>The Latest: More Homes Razed by Northern Calif...</td>\n",
       "      <td>1</td>\n",
       "      <td>94</td>\n",
       "      <td>13</td>\n",
       "    </tr>\n",
       "  </tbody>\n",
       "</table>\n",
       "<p>3971 rows × 7 columns</p>\n",
       "</div>"
      ],
      "text/plain": [
       "         id keyword                       location  \\\n",
       "31       48  ablaze                     Birmingham   \n",
       "32       49  ablaze  Est. September 2012 - Bristol   \n",
       "33       50  ablaze                         AFRICA   \n",
       "35       53  ablaze                     London, UK   \n",
       "37       55  ablaze                   World Wide!!   \n",
       "...     ...     ...                            ...   \n",
       "7606  10866     NaN                            NaN   \n",
       "7607  10867     NaN                            NaN   \n",
       "7608  10869     NaN                            NaN   \n",
       "7610  10871     NaN                            NaN   \n",
       "7612  10873     NaN                            NaN   \n",
       "\n",
       "                                                   text  target  char_count  \\\n",
       "31    @bbcmtd Wholesale Markets ablaze http://t.co/l...       1          55   \n",
       "32    We always try to bring the heavy. #metal #RT h...       0          67   \n",
       "33    #AFRICANBAZE: Breaking news:Nigeria flag set a...       1          82   \n",
       "35    On plus side LOOK AT THE SKY LAST NIGHT IT WAS...       0          76   \n",
       "37    INEC Office in Abia Set Ablaze - http://t.co/3...       1          55   \n",
       "...                                                 ...     ...         ...   \n",
       "7606  Suicide bomber kills 15 in Saudi security site...       1         121   \n",
       "7607  #stormchase Violent Record Breaking EF-5 El Re...       1         134   \n",
       "7608  Two giant cranes holding a bridge collapse int...       1          83   \n",
       "7610  M1.94 [01:04 UTC]?5km S of Volcano Hawaii. htt...       1          65   \n",
       "7612  The Latest: More Homes Razed by Northern Calif...       1          94   \n",
       "\n",
       "      word_count  \n",
       "31             5  \n",
       "32            10  \n",
       "33             9  \n",
       "35            13  \n",
       "37             8  \n",
       "...          ...  \n",
       "7606          20  \n",
       "7607          16  \n",
       "7608          11  \n",
       "7610           8  \n",
       "7612          13  \n",
       "\n",
       "[3971 rows x 7 columns]"
      ]
     },
     "execution_count": 15,
     "metadata": {},
     "output_type": "execute_result"
    }
   ],
   "source": [
    "# Given there's such a high occurence of http within the posts, I wanted to take a peek if there were any patterns....\n",
    "http_records = train_df[train_df['text'].str.contains(\"http\")]\n",
    "print(f\"{len(http_records)} records which contain http\")\n",
    "train_df[train_df['text'].str.contains(\"http\")]"
   ]
  },
  {
   "cell_type": "markdown",
   "metadata": {},
   "source": [
    "## Text Cleaning\n",
    "In order to clean, normalize, and shrink the final vocabulary size, I will preprocess the text using a series of modifications including lowercasing all the text, removing punctuation, etc.  In more robust models, we could largely forgo many of these steps as they are essentially removing information for the sake of computational efficiency."
   ]
  },
  {
   "cell_type": "code",
   "execution_count": null,
   "metadata": {
    "execution": {
     "iopub.execute_input": "2025-02-26T21:33:31.388461Z",
     "iopub.status.busy": "2025-02-26T21:33:31.388261Z",
     "iopub.status.idle": "2025-02-26T21:33:39.601058Z",
     "shell.execute_reply": "2025-02-26T21:33:39.600111Z",
     "shell.execute_reply.started": "2025-02-26T21:33:31.388445Z"
    },
    "trusted": true
   },
   "outputs": [
    {
     "name": "stderr",
     "output_type": "stream",
     "text": [
      "[nltk_data] Downloading package punkt to /home/yao/nltk_data...\n",
      "[nltk_data]   Package punkt is already up-to-date!\n",
      "[nltk_data] Downloading package stopwords to /home/yao/nltk_data...\n",
      "[nltk_data]   Package stopwords is already up-to-date!\n"
     ]
    }
   ],
   "source": [
    "from nltk.tokenize import word_tokenize\n",
    "from nltk.corpus import stopwords\n",
    "from gensim.models import Word2Vec\n",
    "\n",
    "# Download NLTK resources\n",
    "nltk.download('punkt')\n",
    "nltk.download('stopwords')\n",
    "\n",
    "class TweetPreprocessor:\n",
    "    def __init__(self, max_length=50):\n",
    "        self.stop_words = set(stopwords.words('english'))\n",
    "        self.word2idx = {\"<PAD>\": 0, \"<UNK>\": 1}\n",
    "        self.idx2word = {0: \"<PAD>\", 1: \"<UNK>\"}\n",
    "        self.max_length = max_length\n",
    "        self.vocab_size = 2  # Starting with PAD and UNK tokens\n",
    "        \n",
    "    def clean_text(self, text):\n",
    "        \"\"\"Clean and tokenize a single tweet\"\"\"\n",
    "        # Lowercase and basic cleaning\n",
    "        text = str(text).lower()\n",
    "        text = re.sub(r'http\\S+|www\\S+', '', text)  # Remove URLs\n",
    "        text = re.sub(r'@\\w+', '', text)  # Remove mentions\n",
    "        text = re.sub(r'#(\\w+)', r'\\1', text)  # Keep hashtag content without #\n",
    "        text = re.sub(r'[^\\w\\s]', '', text)  # Remove punctuation\n",
    "        \n",
    "        # Tokenize\n",
    "        tokens = word_tokenize(text)\n",
    "        \n",
    "        # Remove stopwords\n",
    "        tokens = [word for word in tokens if word not in self.stop_words]\n",
    "        # If empty, pad it to prevent empty results\n",
    "        if len(tokens) == 0:\n",
    "            tokens = [\"<UNK>\"]  # Add a placeholder token if the sequence is empty\n",
    "            # print('found empty')\n",
    "        \n",
    "        return tokens\n",
    "    \n",
    "    def build_vocab(self, texts, min_freq=2):\n",
    "        \"\"\"Build vocabulary from corpus\"\"\"\n",
    "        word_counts = {}\n",
    "        \n",
    "        # Count word frequencies\n",
    "        for text in texts:\n",
    "            tokens = self.clean_text(text)\n",
    "            for token in tokens:\n",
    "                word_counts[token] = word_counts.get(token, 0) + 1\n",
    "        \n",
    "        # Add words that meet minimum frequency\n",
    "        for word, count in word_counts.items():\n",
    "            if count >= min_freq:\n",
    "                self.word2idx[word] = self.vocab_size\n",
    "                self.idx2word[self.vocab_size] = word\n",
    "                self.vocab_size += 1\n",
    "                \n",
    "        print(f\"Vocabulary size: {self.vocab_size}\")\n",
    "    \n",
    "            \n",
    "    def text_to_indices(self, text):\n",
    "        tokens = self.clean_text(text)\n",
    "        return [self.word2idx.get(token, self.word2idx[\"<UNK>\"]) for token in tokens]\n",
    "\n",
    "    \n",
    "    def encode_text(self, text):\n",
    "        \"\"\"Converts text to sequence of encoded indices with padding\"\"\"\n",
    "        tokens = self.clean_text(text)\n",
    "        # Truncate or pad sequence to max_length\n",
    "        if len(tokens) > self.max_length:\n",
    "            tokens = tokens[:self.max_length]\n",
    "        \n",
    "        # Convert tokens to indices\n",
    "        indices = [self.word2idx.get(token, self.word2idx[\"<UNK>\"]) for token in tokens]\n",
    "        \n",
    "        # Pad the sequence\n",
    "        padded = indices + [self.word2idx[\"<PAD>\"]] * (self.max_length - len(indices))\n",
    "        \n",
    "        return padded\n",
    "\n",
    "\n",
    "\n",
    "class Word2VecEmbedder:\n",
    "    def __init__(self, preprocessor, embedding_dim=300):\n",
    "        self.preprocessor = preprocessor\n",
    "        self.embedding_dim = embedding_dim\n",
    "        self.model = None\n",
    "        \n",
    "    def train_embeddings(self, texts, window=5, min_count=1, workers=4):\n",
    "        sentences = [self.preprocessor.clean_text(text) for text in texts]\n",
    "        \n",
    "        # Train Word2Vec model\n",
    "        self.model = Word2Vec(sentences, \n",
    "                             vector_size=self.embedding_dim,\n",
    "                             window=window,\n",
    "                             min_count=min_count,\n",
    "                             workers=workers)\n",
    "        \n",
    "        print(f\"Trained Word2Vec model with {len(self.model.wv)} words\")\n",
    "        \n",
    "    def create_embedding_matrix(self):\n",
    "        \"\"\"Create embedding matrix for vocabulary\"\"\"\n",
    "        if self.model is None:\n",
    "            raise ValueError(\"Word2Vec model not trained yet\")\n",
    "            \n",
    "        embedding_matrix = np.zeros((self.preprocessor.vocab_size, self.embedding_dim))\n",
    "        \n",
    "        # Fill embedding matrix\n",
    "        for word, idx in self.preprocessor.word2idx.items():\n",
    "            if word in self.model.wv:\n",
    "                embedding_matrix[idx] = self.model.wv[word]\n",
    "                \n",
    "        return embedding_matrix\n",
    "\n",
    "class EmbeddingLoader:\n",
    "    def __init__(self, embedding_type='word2vec'):\n",
    "        self.embedding_type = embedding_type\n",
    "        self.embedding_model = None\n",
    "        self.embedding_dim = None\n",
    "        \n",
    "    def load_embeddings(self, embedding_type=None, custom_path=None):\n",
    "        \"\"\"\n",
    "        Loads pre-trained embeddings\n",
    "        \n",
    "        Args:\n",
    "            embedding_type: 'word2vec', 'glove', 'fasttext', or 'custom'\n",
    "            custom_path: Path to custom embedding file (if embedding_type='custom')\n",
    "        \"\"\"\n",
    "        if embedding_type:\n",
    "            self.embedding_type = embedding_type\n",
    "            \n",
    "        if self.embedding_type == 'word2vec':\n",
    "            # Load Google's pre-trained Word2Vec model\n",
    "            print(\"Loading Word2Vec embeddings...\")\n",
    "            self.embedding_model = gensim_downloader.load('word2vec-google-news-300')\n",
    "            self.embedding_dim = 300\n",
    "            \n",
    "        elif self.embedding_type == 'glove':\n",
    "            # Load GloVe embeddings (Twitter)\n",
    "            print(\"Loading GloVe Twitter embeddings...\")\n",
    "            self.embedding_dim = 25  # Change based on which glove model you load\n",
    "            self.embedding_model = gensim_downloader.load(f'glove-twitter-{self.embedding_dim}')  # Options: 25, 50, 100, 200\n",
    "            \n",
    "        elif self.embedding_type == 'fasttext':\n",
    "            # Load FastText embeddings\n",
    "            print(\"Loading FastText embeddings...\")\n",
    "            self.embedding_model = gensim_downloader.load('fasttext-wiki-news-subwords-300')\n",
    "            self.embedding_dim = 300\n",
    "            \n",
    "        elif self.embedding_type == 'custom' and custom_path:\n",
    "            # Load custom embeddings from file\n",
    "            print(f\"Loading custom embeddings from {custom_path}...\")\n",
    "            self.embedding_model = KeyedVectors.load_word2vec_format(custom_path)\n",
    "            self.embedding_dim = self.embedding_model.vector_size\n",
    "            \n",
    "        else:\n",
    "            raise ValueError(\"Invalid embedding type or missing custom path\")\n",
    "            \n",
    "        print(f\"Loaded {self.embedding_type} embeddings with dimension {self.embedding_dim}\")\n",
    "        return self.embedding_model, self.embedding_dim\n",
    "    \n",
    "    def create_embedding_matrix(self, word2idx):\n",
    "        \"\"\"\n",
    "        Create an embedding matrix for the given vocabulary\n",
    "        \n",
    "        Args:\n",
    "            word2idx: Dictionary mapping words to indices\n",
    "            \n",
    "        Returns:\n",
    "            embedding_matrix: numpy array of shape (vocab_size, embedding_dim)\n",
    "        \"\"\"\n",
    "        vocab_size = len(word2idx)\n",
    "        embedding_matrix = np.zeros((vocab_size, self.embedding_dim))\n",
    "        \n",
    "        for word, idx in word2idx.items():\n",
    "            try:\n",
    "                embedding_matrix[idx] = self.embedding_model[word]\n",
    "            except (KeyError, TypeError):\n",
    "                # If word not in embeddings, leave as zeros (can be learned during training)\n",
    "                continue\n",
    "                \n",
    "        return embedding_matrix"
   ]
  },
  {
   "cell_type": "markdown",
   "metadata": {},
   "source": [
    "## On embeddings\n",
    "There are a variety of ways to approach text embedding including using something like sklearn's count and td-idf vectorizers, which use word frequency and a text length normalized word frequency approach respectively, training a custom embedding model with word2vec, using pretrained embeddings like Word2vec's google news embeddings or GloVe's twitter based embeddings.  \n",
    "\n",
    "For the sake of brevity, I'm primarily testing custom word2vec embeddings trained on this training dataset and the GloVe 25 embeddings.\n",
    "\n",
    "I'm omitting discussion of transformer based embeddings as they are out of scope for this class exercise."
   ]
  },
  {
   "cell_type": "code",
   "execution_count": null,
   "metadata": {
    "execution": {
     "iopub.execute_input": "2025-02-26T21:33:39.602359Z",
     "iopub.status.busy": "2025-02-26T21:33:39.601902Z",
     "iopub.status.idle": "2025-02-26T21:33:39.608281Z",
     "shell.execute_reply": "2025-02-26T21:33:39.607509Z",
     "shell.execute_reply.started": "2025-02-26T21:33:39.602334Z"
    },
    "trusted": true
   },
   "outputs": [
    {
     "name": "stdout",
     "output_type": "stream",
     "text": [
      "Vocabulary size: 6453\n",
      "Loading GloVe Twitter embeddings...\n",
      "Loaded glove embeddings with dimension 25\n"
     ]
    }
   ],
   "source": [
    "# Initialize preprocessor\n",
    "max_text_length = 399\n",
    "preprocessor = TweetPreprocessor(max_length=max_text_length)\n",
    "\n",
    "# # Build vocabulary from training data\n",
    "preprocessor.build_vocab(train_df['text'])\n",
    "\n",
    "# # Train a custom embedding model\n",
    "# embedder = Word2VecEmbedder(preprocessor, embedding_dim=max_text_length)\n",
    "# embedder.train_embeddings(train_df['text'])\n",
    "# embedding_dim=max_text_length\n",
    "\n",
    "# embedding_matrix = embedder.create_embedding_matrix()\n",
    "\n",
    "# Load pretrained embeddings and map out vocab to it\n",
    "embedding_loader = EmbeddingLoader(embedding_type='glove')\n",
    "embedding_model, embedding_dim = embedding_loader.load_embeddings()\n",
    "\n",
    "# Create embedding matrix for vocabulary\n",
    "embedding_matrix = embedding_loader.create_embedding_matrix(preprocessor.word2idx)"
   ]
  },
  {
   "cell_type": "code",
   "execution_count": 146,
   "metadata": {
    "execution": {
     "iopub.execute_input": "2025-02-26T21:33:39.609550Z",
     "iopub.status.busy": "2025-02-26T21:33:39.609272Z",
     "iopub.status.idle": "2025-02-26T21:33:40.678166Z",
     "shell.execute_reply": "2025-02-26T21:33:40.677293Z",
     "shell.execute_reply.started": "2025-02-26T21:33:39.609529Z"
    },
    "trusted": true
   },
   "outputs": [],
   "source": [
    "class TextDataset(Dataset):\n",
    "    def __init__(self, dataframe, preprocessor, embedding_matrix=embedding_matrix):\n",
    "        self.texts = [preprocessor.text_to_indices(text) for text in dataframe['text']]\n",
    "        self.labels = dataframe['target'].values\n",
    "        self.preprocessor = preprocessor\n",
    "        self.embeddings = embedding_matrix\n",
    "        self.lengths = [len(text) for text in self.texts]  # Store sequence lengths\n",
    "        \n",
    "    def __len__(self):\n",
    "        return len(self.texts)\n",
    "    \n",
    "    def __getitem__(self, idx):\n",
    "        label = self.labels[idx]\n",
    "        text_indices = self.texts[idx]\n",
    "        length = self.lengths[idx]  # Include sequence length\n",
    "        return torch.tensor(text_indices, dtype=torch.long), torch.tensor(label, dtype=torch.float), torch.tensor(length, dtype=torch.long)\n"
   ]
  },
  {
   "cell_type": "code",
   "execution_count": 147,
   "metadata": {},
   "outputs": [],
   "source": [
    "from torch.nn.utils.rnn import pad_sequence, pack_padded_sequence, pad_packed_sequence\n",
    "\n",
    "def collate_fn(batch):\n",
    "    texts, labels, lengths = zip(*batch)\n",
    "    \n",
    "    # Pad sequences\n",
    "    padded_texts = pad_sequence(texts, batch_first=True, padding_value=0)\n",
    "    \n",
    "    # Sort by length for pack_padded_sequence\n",
    "    lengths = torch.tensor(lengths)\n",
    "    sorted_idx = torch.argsort(lengths, descending=True)\n",
    "    \n",
    "    return padded_texts[sorted_idx], torch.tensor(labels)[sorted_idx], lengths[sorted_idx]\n",
    "\n",
    "def inference_collate_fn(batch):\n",
    "    texts, lengths, ids = zip(*batch)\n",
    "    \n",
    "    # Pad sequences\n",
    "    padded_texts = pad_sequence(texts, batch_first=True, padding_value=0)\n",
    "    \n",
    "    # Convert lengths to a tensor\n",
    "    lengths = torch.tensor(lengths)\n",
    "    ids = torch.tensor(ids)\n",
    "    # Sort by length for pack_padded_sequence (optional, but recommended for efficiency)\n",
    "    sorted_idx = torch.argsort(lengths, descending=True)\n",
    "    \n",
    "    return padded_texts[sorted_idx], lengths[sorted_idx], ids[sorted_idx]"
   ]
  },
  {
   "cell_type": "code",
   "execution_count": null,
   "metadata": {
    "execution": {
     "iopub.execute_input": "2025-02-26T22:57:59.100742Z",
     "iopub.status.busy": "2025-02-26T22:57:59.100418Z",
     "iopub.status.idle": "2025-02-26T22:57:59.106656Z",
     "shell.execute_reply": "2025-02-26T22:57:59.105671Z",
     "shell.execute_reply.started": "2025-02-26T22:57:59.100717Z"
    },
    "trusted": true
   },
   "outputs": [],
   "source": [
    "import torch\n",
    "import torch.nn as nn\n",
    "from torch.nn.utils.rnn import pack_padded_sequence, pad_packed_sequence\n",
    "\n",
    "class LSTMModel(nn.Module):\n",
    "    def __init__(self, vocab_size, embedding_dim, hidden_dim, num_layers, dropout=0, bidirectional=False, embedding_matrix=embedding_matrix):\n",
    "        super(LSTMModel, self).__init__()\n",
    "        \n",
    "        # Embedding layer with optional pre-trained weights\n",
    "        self.embeddings = nn.Embedding(vocab_size, embedding_dim, padding_idx=0)\n",
    "        \n",
    "        if embedding_matrix is not None:\n",
    "            self.embeddings.weight = nn.Parameter(torch.tensor(embedding_matrix, dtype=torch.float32))\n",
    "        \n",
    "        self.lstm = nn.LSTM(\n",
    "            embedding_dim, \n",
    "            hidden_dim, \n",
    "            num_layers=num_layers, \n",
    "            bidirectional=bidirectional, \n",
    "            dropout=dropout if num_layers > 1 else 0, \n",
    "            batch_first=True\n",
    "        )\n",
    "        \n",
    "        lstm_output_dim = hidden_dim * 2 if bidirectional else hidden_dim\n",
    "        self.fc = nn.Linear(lstm_output_dim, 1)\n",
    "        \n",
    "        self.dropout = nn.Dropout(dropout)\n",
    "        \n",
    "    def forward(self, x, text_lengths):\n",
    "        # x shape = (batch size, sequence length)\n",
    "        embedded = self.dropout(self.embeddings(x))  # shape = (batch size, sequence length, embedding dim)\n",
    "        \n",
    "        # Pack the sequence\n",
    "        packed_embedded = pack_padded_sequence(embedded, text_lengths.cpu(), batch_first=True, enforce_sorted=False)\n",
    "        \n",
    "        packed_output, (hidden, cell) = self.lstm(packed_embedded)\n",
    "        \n",
    "        # We could use this output in the final prediction, but just using the hidden state \n",
    "        #   as the model is small enough to avoid the computational overhead\n",
    "        output, output_lengths = pad_packed_sequence(packed_output, batch_first=True)\n",
    "        \n",
    "        # For bidirectional LSTM, concatenate the final forward and backward hidden states\n",
    "        if self.lstm.bidirectional:\n",
    "            hidden = self.dropout(torch.cat((hidden[-2,:,:], hidden[-1,:,:]), dim=1))\n",
    "        else:\n",
    "            hidden = self.dropout(hidden[-1,:,:])\n",
    "        \n",
    "        # hidden shape = (batch size, hidden dim)\n",
    "        final_output = self.fc(hidden)\n",
    "        return torch.sigmoid(final_output)\n"
   ]
  },
  {
   "cell_type": "code",
   "execution_count": null,
   "metadata": {},
   "outputs": [],
   "source": [
    "import torch\n",
    "import torch.nn as nn\n",
    "from torch.nn.utils.rnn import pack_padded_sequence, pad_packed_sequence\n",
    "\n",
    "class RNNModel(nn.Module):\n",
    "    def __init__(self, vocab_size, embedding_dim, hidden_dim, num_layers, dropout=0, bidirectional=False, embedding_matrix=embedding_matrix):\n",
    "        super(RNNModel, self).__init__()\n",
    "       \n",
    "        self.embeddings = nn.Embedding.from_pretrained(torch.tensor(embedding_matrix, dtype=torch.float), freeze=True)\n",
    "        # batch first should return tensor shape [batch, sequence, feature]\n",
    "        self.rnn = nn.RNN(\n",
    "            embedding_dim, \n",
    "            hidden_dim, \n",
    "            num_layers=num_layers,\n",
    "            batch_first=True, \n",
    "            dropout=dropout if num_layers > 1 else 0,\n",
    "            bidirectional=bidirectional\n",
    "        )\n",
    "       \n",
    "        # We are moving from hidden layer to a single, fully connected layer for binary output\n",
    "        output_dim = hidden_dim * 2 if bidirectional else hidden_dim\n",
    "        self.fc = nn.Linear(output_dim, 1)\n",
    "       \n",
    "        self.output = nn.Sigmoid() # Our final output is evaluated against binary cross entropy, so we need sigmoidal output...\n",
    "        self.dropout = nn.Dropout(dropout)\n",
    "       \n",
    "       \n",
    "    def forward(self, x, text_lengths):\n",
    "        # X shape = (batch_size, sequence)\n",
    "        x = self.dropout(self.embeddings(x))  # shape = (batch size, sequence length, embedding dim)\n",
    "\n",
    "        # Make sure text_lengths is on CPU\n",
    "        packed_embedded = pack_padded_sequence(x, text_lengths.cpu(), batch_first=True, enforce_sorted=False)\n",
    "       \n",
    "        # The RNN function only takes the packed input, no need for text_lengths here\n",
    "        packed_output, hidden = self.rnn(packed_embedded)\n",
    "        \n",
    "        output, output_lengths = pad_packed_sequence(packed_output, batch_first=True)\n",
    "       \n",
    "        # Get the last output of the sequence...:\n",
    "        batch_size = output.size(0)\n",
    "        hidden_dim = output.size(2)\n",
    "        \n",
    "        last_outputs = torch.zeros(batch_size, hidden_dim, device=output.device)\n",
    "        \n",
    "        # as the inputs are variable length, the outputs are as well, so we need to get the last value\n",
    "        #   individually for each sample\n",
    "        for i, length in enumerate(output_lengths):\n",
    "            last_outputs[i] = output[i, length-1]\n",
    "\n",
    "        fc_output = self.fc(last_outputs)\n",
    "        final_output = self.output(fc_output)\n",
    "        return final_output"
   ]
  },
  {
   "cell_type": "code",
   "execution_count": 164,
   "metadata": {},
   "outputs": [],
   "source": [
    "import torch\n",
    "import torch.nn as nn\n",
    "from torch.nn.utils.rnn import pack_padded_sequence, pad_packed_sequence\n",
    "\n",
    "class GRUModel(nn.Module):\n",
    "    def __init__(self, vocab_size, embedding_dim, hidden_dim, num_layers, dropout=0, bidirectional=False, embedding_matrix=embedding_matrix):\n",
    "        super(GRUModel, self).__init__()\n",
    "       \n",
    "        self.embeddings = nn.Embedding.from_pretrained(torch.tensor(embedding_matrix, dtype=torch.float), freeze=True)\n",
    "        # batch first should return tensor shape [batch, sequence, feature]\n",
    "        self.gru = nn.GRU(\n",
    "            embedding_dim, \n",
    "            hidden_dim, \n",
    "            num_layers=num_layers,\n",
    "            batch_first=True, \n",
    "            dropout=dropout if num_layers > 1 else 0,\n",
    "            bidirectional=bidirectional\n",
    "        )\n",
    "        self.dropout = nn.Dropout(dropout)\n",
    "       \n",
    "       \n",
    "        # We are moving from hidden layer to a single, fully connected layer for binary output\n",
    "        output_dim = hidden_dim * 2 if bidirectional else hidden_dim\n",
    "        self.fc = nn.Linear(output_dim, 1)\n",
    "       \n",
    "        self.output = nn.Sigmoid() # Our final output is evaluated against binary cross entropy, so we need sigmoidal output...\n",
    "       \n",
    "    def forward(self, x, text_lengths):\n",
    "        # X shape = (batch_size, sequence)\n",
    "        # x = self.embeddings(x)  # x shape = (batch_size, sequence, embedding dim)\n",
    "        x = self.dropout(self.embeddings(x))  # shape = (batch size, sequence length, embedding dim)\n",
    "        \n",
    "        # Make sure text_lengths is on CPU\n",
    "        packed_embedded = pack_padded_sequence(x, text_lengths.cpu(), batch_first=True, enforce_sorted=False)\n",
    "       \n",
    "        # The RNN function only takes the packed input, no need for text_lengths here\n",
    "        packed_output, hidden = self.gru(packed_embedded)\n",
    "        \n",
    "        output, output_lengths = pad_packed_sequence(packed_output, batch_first=True)\n",
    "       \n",
    "        # Get the last output of the sequence...:\n",
    "        batch_size = output.size(0)\n",
    "        hidden_dim = output.size(2)\n",
    "        \n",
    "        last_outputs = torch.zeros(batch_size, hidden_dim, device=output.device)\n",
    "        \n",
    "        for i, length in enumerate(output_lengths):\n",
    "            last_outputs[i] = output[i, length-1]\n",
    "\n",
    "        fc_output = self.fc(last_outputs)\n",
    "        final_output = self.output(fc_output)\n",
    "        return final_output"
   ]
  },
  {
   "cell_type": "code",
   "execution_count": 182,
   "metadata": {
    "trusted": true
   },
   "outputs": [],
   "source": [
    "import time\n",
    "\n",
    "# Training parameters\n",
    "# embedding_dim = 300\n",
    "vocab_size = preprocessor.vocab_size       \n",
    "hidden_dim = 256\n",
    "num_classes = 2  # binary class results\n",
    "num_layers = 2\n",
    "seed = 42\n",
    "dropout = 0.5\n",
    "\n",
    "# Model hyperparameters\n",
    "learning_rate = 1e-2\n",
    "num_epochs = 20\n",
    "batch_size = 32\n",
    "\n",
    "# Prep the training...\n",
    "torch.manual_seed(seed)\n",
    "start_time = time.time()\n",
    "device = torch.device('cuda' if torch.cuda.is_available() else 'cpu')\n",
    "\n",
    "criterion = nn.BCELoss()\n",
    "\n",
    "# Using stratification just to even up the distribution of positive/negative labels...\n",
    "train_split, valid_split = train_test_split(train_df, test_size=0.2, random_state=seed,stratify=train_df['target'])\n",
    "\n",
    "train_data = TextDataset(train_split, preprocessor)\n",
    "valid_data = TextDataset(valid_split, preprocessor)\n",
    "\n",
    "train_loader = DataLoader(train_data, batch_size, shuffle=True, num_workers=4, collate_fn=collate_fn)\n",
    "valid_loader = DataLoader(valid_data, batch_size, shuffle=False, num_workers=4,collate_fn=collate_fn)\n",
    "\n",
    "from sklearn.metrics import f1_score\n",
    "\n",
    "def train(model):\n",
    "    train_acc = []\n",
    "    train_loss = []\n",
    "    optimizer = torch.optim.Adam(model.parameters(), lr=learning_rate)\n",
    "    model.train()\n",
    "    for epoch in range(num_epochs):\n",
    "        total_loss = 0\n",
    "        total_correct = 0\n",
    "        total_samples = 0\n",
    "        all_preds = []\n",
    "        all_labels = []\n",
    "        \n",
    "        for texts, labels, lengths in train_loader:\n",
    "            texts = texts.to(device)\n",
    "            lengths = lengths.to(device)\n",
    "            labels = labels.unsqueeze(1).to(device)\n",
    "            \n",
    "            optimizer.zero_grad()\n",
    "            predictions = model(texts, lengths)\n",
    "            \n",
    "            loss = criterion(predictions, labels)\n",
    "            loss.backward()\n",
    "            optimizer.step()\n",
    "            \n",
    "            total_loss += loss.item() * len(texts)\n",
    "            preds = (predictions > 0.5).int()\n",
    "            total_correct += (preds == labels).sum().item()\n",
    "            total_samples += len(texts)\n",
    "            all_preds.extend(preds.cpu().numpy())\n",
    "            all_labels.extend(labels.cpu().numpy())\n",
    "        \n",
    "        avg_loss = total_loss / total_samples\n",
    "        accuracy = total_correct / total_samples\n",
    "        f1 = f1_score(all_labels, all_preds)\n",
    "        train_acc.append(accuracy)\n",
    "        train_loss.append(avg_loss)\n",
    "        print(f\"Epoch [{epoch+1}/{num_epochs}], Loss: {avg_loss:.4f}, Accuracy: {accuracy:.4f}, F1: {f1:.4f}\")\n",
    "    return train_loss, train_acc\n",
    "\n",
    "def validate(model):\n",
    "    model.eval()\n",
    "    val_correct = 0\n",
    "    val_samples = 0\n",
    "    with torch.no_grad():\n",
    "        val_loss = 0\n",
    "        for texts, labels, lengths in train_loader:\n",
    "            texts = texts.to(device)\n",
    "            lengths = lengths.to(lengths)\n",
    "            labels = labels.unsqueeze(1).to(device)\n",
    "            predictions = model(texts,lengths)\n",
    "            val_loss += criterion(predictions, labels).item() * len(texts)  # Multiply by batch size\n",
    "    \n",
    "            # Calculate validation accuracy\n",
    "            preds = (predictions > 0.5).int()  # Convert probabilities to binary predictions\n",
    "            val_correct += (preds == labels).sum().item()  # Count correct predictions\n",
    "            val_samples += len(texts)  # Count total samples\n",
    "    \n",
    "        # Calculate average validation loss and accuracy\n",
    "        avg_val_loss = val_loss / val_samples\n",
    "        val_accuracy = val_correct / val_samples\n",
    "        print(f\"Validation: Average loss: {avg_val_loss}, accuracy: {val_accuracy}\")\n",
    "    return val_accuracy\n",
    "\n"
   ]
  },
  {
   "cell_type": "code",
   "execution_count": 183,
   "metadata": {},
   "outputs": [
    {
     "name": "stdout",
     "output_type": "stream",
     "text": [
      "Epoch [1/20], Loss: 0.6031, Accuracy: 0.7008, F1: 0.6350\n",
      "Epoch [2/20], Loss: 0.5426, Accuracy: 0.7383, F1: 0.6728\n",
      "Epoch [3/20], Loss: 0.5349, Accuracy: 0.7432, F1: 0.6781\n",
      "Epoch [4/20], Loss: 0.5319, Accuracy: 0.7468, F1: 0.6798\n",
      "Epoch [5/20], Loss: 0.5263, Accuracy: 0.7435, F1: 0.6804\n",
      "Epoch [6/20], Loss: 0.5272, Accuracy: 0.7478, F1: 0.6874\n",
      "Epoch [7/20], Loss: 0.5237, Accuracy: 0.7544, F1: 0.6904\n",
      "Epoch [8/20], Loss: 0.5322, Accuracy: 0.7483, F1: 0.6891\n",
      "Epoch [9/20], Loss: 0.5304, Accuracy: 0.7435, F1: 0.6791\n",
      "Epoch [10/20], Loss: 0.5442, Accuracy: 0.7406, F1: 0.6750\n",
      "Epoch [11/20], Loss: 0.5481, Accuracy: 0.7332, F1: 0.6694\n",
      "Epoch [12/20], Loss: 0.5395, Accuracy: 0.7379, F1: 0.6765\n",
      "Epoch [13/20], Loss: 0.5357, Accuracy: 0.7404, F1: 0.6781\n",
      "Epoch [14/20], Loss: 0.5431, Accuracy: 0.7320, F1: 0.6683\n",
      "Epoch [15/20], Loss: 0.5503, Accuracy: 0.7378, F1: 0.6782\n",
      "Epoch [16/20], Loss: 0.5562, Accuracy: 0.7291, F1: 0.6627\n",
      "Epoch [17/20], Loss: 0.5415, Accuracy: 0.7371, F1: 0.6693\n",
      "Epoch [18/20], Loss: 0.5325, Accuracy: 0.7409, F1: 0.6765\n",
      "Epoch [19/20], Loss: 0.5482, Accuracy: 0.7355, F1: 0.6716\n",
      "Epoch [20/20], Loss: 0.5427, Accuracy: 0.7442, F1: 0.6798\n",
      "Validation: Average loss: 0.5034009873279797, accuracy: 0.7694581280788177\n"
     ]
    }
   ],
   "source": [
    "gru_model = GRUModel(vocab_size, embedding_dim, hidden_dim, num_layers, dropout=dropout).to(device)\n",
    "gru_training_loss, gru_training_acc = train(gru_model)\n",
    "gru_valid_acc = validate(gru_model)\n",
    "# Validation: Average loss: 0.08158634138126875, accuracy: 0.9740558292282431"
   ]
  },
  {
   "cell_type": "code",
   "execution_count": 184,
   "metadata": {},
   "outputs": [
    {
     "name": "stdout",
     "output_type": "stream",
     "text": [
      "Epoch [1/20], Loss: 0.7278, Accuracy: 0.5353, F1: 0.3810\n",
      "Epoch [2/20], Loss: 0.7033, Accuracy: 0.5360, F1: 0.3664\n",
      "Epoch [3/20], Loss: 0.7133, Accuracy: 0.5261, F1: 0.4303\n",
      "Epoch [4/20], Loss: 0.7218, Accuracy: 0.5534, F1: 0.3807\n",
      "Epoch [5/20], Loss: 0.7138, Accuracy: 0.5452, F1: 0.3561\n",
      "Epoch [6/20], Loss: 0.7017, Accuracy: 0.5524, F1: 0.3753\n",
      "Epoch [7/20], Loss: 0.7143, Accuracy: 0.5589, F1: 0.4143\n",
      "Epoch [8/20], Loss: 0.7019, Accuracy: 0.5581, F1: 0.4058\n",
      "Epoch [9/20], Loss: 0.7129, Accuracy: 0.5429, F1: 0.3716\n",
      "Epoch [10/20], Loss: 0.7275, Accuracy: 0.5365, F1: 0.4238\n",
      "Epoch [11/20], Loss: 0.7122, Accuracy: 0.5529, F1: 0.4092\n",
      "Epoch [12/20], Loss: 0.6900, Accuracy: 0.5545, F1: 0.3527\n",
      "Epoch [13/20], Loss: 0.6969, Accuracy: 0.5757, F1: 0.4528\n",
      "Epoch [14/20], Loss: 0.6808, Accuracy: 0.5865, F1: 0.4927\n",
      "Epoch [15/20], Loss: 0.7332, Accuracy: 0.5585, F1: 0.4338\n",
      "Epoch [16/20], Loss: 0.6833, Accuracy: 0.5903, F1: 0.4684\n",
      "Epoch [17/20], Loss: 0.6862, Accuracy: 0.5892, F1: 0.4772\n",
      "Epoch [18/20], Loss: 0.6838, Accuracy: 0.5913, F1: 0.4869\n",
      "Epoch [19/20], Loss: 0.6840, Accuracy: 0.5956, F1: 0.4642\n",
      "Epoch [20/20], Loss: 0.7036, Accuracy: 0.5580, F1: 0.4440\n",
      "Validation: Average loss: 0.6594968150401938, accuracy: 0.5702791461412151\n"
     ]
    }
   ],
   "source": [
    "rnn_model = RNNModel(vocab_size, embedding_dim, hidden_dim, num_layers, dropout=dropout).to(device)\n",
    "rnn_training_loss, rnn_training_acc = train(rnn_model)\n",
    "rnn_valid_acc = validate(rnn_model)"
   ]
  },
  {
   "cell_type": "code",
   "execution_count": 185,
   "metadata": {},
   "outputs": [
    {
     "name": "stdout",
     "output_type": "stream",
     "text": [
      "Epoch [1/20], Loss: 0.5585, Accuracy: 0.7246, F1: 0.6523\n",
      "Epoch [2/20], Loss: 0.4679, Accuracy: 0.8016, F1: 0.7529\n",
      "Epoch [3/20], Loss: 0.4105, Accuracy: 0.8250, F1: 0.7822\n",
      "Epoch [4/20], Loss: 0.3590, Accuracy: 0.8525, F1: 0.8188\n",
      "Epoch [5/20], Loss: 0.3282, Accuracy: 0.8688, F1: 0.8411\n",
      "Epoch [6/20], Loss: 0.3026, Accuracy: 0.8747, F1: 0.8471\n",
      "Epoch [7/20], Loss: 0.2775, Accuracy: 0.8931, F1: 0.8716\n",
      "Epoch [8/20], Loss: 0.2512, Accuracy: 0.9044, F1: 0.8853\n",
      "Epoch [9/20], Loss: 0.2340, Accuracy: 0.9064, F1: 0.8879\n",
      "Epoch [10/20], Loss: 0.2151, Accuracy: 0.9177, F1: 0.9017\n",
      "Epoch [11/20], Loss: 0.2060, Accuracy: 0.9202, F1: 0.9046\n",
      "Epoch [12/20], Loss: 0.1989, Accuracy: 0.9236, F1: 0.9089\n",
      "Epoch [13/20], Loss: 0.1945, Accuracy: 0.9225, F1: 0.9076\n",
      "Epoch [14/20], Loss: 0.1969, Accuracy: 0.9256, F1: 0.9117\n",
      "Epoch [15/20], Loss: 0.1853, Accuracy: 0.9279, F1: 0.9141\n",
      "Epoch [16/20], Loss: 0.1875, Accuracy: 0.9248, F1: 0.9106\n",
      "Epoch [17/20], Loss: 0.1784, Accuracy: 0.9305, F1: 0.9177\n",
      "Epoch [18/20], Loss: 0.1800, Accuracy: 0.9315, F1: 0.9183\n",
      "Epoch [19/20], Loss: 0.1769, Accuracy: 0.9310, F1: 0.9184\n",
      "Epoch [20/20], Loss: 0.1813, Accuracy: 0.9287, F1: 0.9161\n",
      "Validation: Average loss: 0.11432419849440383, accuracy: 0.951559934318555\n"
     ]
    }
   ],
   "source": [
    "lstm_model = LSTMModel(vocab_size, embedding_dim, hidden_dim, num_layers, dropout=dropout).to(device)\n",
    "lstm_training_loss, lstm_training_acc = train(lstm_model)\n",
    "lstm_valid_acc = validate(lstm_model)\n",
    "# Validation: Average loss: 0.04682021586328427, accuracy: 0.9807881773399014"
   ]
  },
  {
   "cell_type": "code",
   "execution_count": 186,
   "metadata": {
    "execution": {
     "iopub.execute_input": "2025-02-26T22:44:48.423223Z",
     "iopub.status.busy": "2025-02-26T22:44:48.422878Z",
     "iopub.status.idle": "2025-02-26T22:44:48.440409Z",
     "shell.execute_reply": "2025-02-26T22:44:48.439396Z",
     "shell.execute_reply.started": "2025-02-26T22:44:48.423194Z"
    },
    "trusted": true
   },
   "outputs": [
    {
     "data": {
      "image/png": "[encoded data removed]",
      "text/plain": [
       "<Figure size 1200x400 with 2 Axes>"
      ]
     },
     "metadata": {},
     "output_type": "display_data"
    }
   ],
   "source": [
    "# Visualizing Acc + Loss across models...\n",
    "model_acc = {\n",
    "    'RNN': rnn_training_acc,\n",
    "    'LSTM': lstm_training_acc,\n",
    "    'GRU': gru_training_acc\n",
    "}\n",
    "plt.figure(figsize=(12, 4))\n",
    "\n",
    "plt.subplot(1, 2, 1)\n",
    "sns.lineplot(model_acc)\n",
    "plt.title(\"Model training accuracy over training time\")\n",
    "plt.ylabel(\"Model training accuracy\")\n",
    "plt.xlabel(\"Number of training epochs\")\n",
    "plt.xticks(range(0,num_epochs,4))\n",
    "\n",
    "model_loss = {\n",
    "    'RNN': rnn_training_loss,\n",
    "    'LSTM': lstm_training_loss,\n",
    "    'GRU': gru_training_loss\n",
    "}\n",
    "plt.subplot(1, 2, 2)\n",
    "sns.lineplot(model_loss)\n",
    "plt.title(\"Model training loss over training time\")\n",
    "plt.ylabel(\"Model training loss (binary CE)\")\n",
    "plt.xlabel(\"Number of training epochs\")\n",
    "\n",
    "plt.xticks(range(0,num_epochs,4))\n",
    "plt.show()"
   ]
  },
  {
   "cell_type": "markdown",
   "metadata": {},
   "source": [
    "# Results + Analysis\n",
    "We can see a strong outlier in the the LSTM performance over the GRU and RNN based architectures.  We can see that the LSTM converges around the 10th-12th epoch, but RNN and GRU based models converge quite early, if at all.  Moreover, while the GRU seems to be a 'happy medium' between the lstm and rnn architectures, the training speed efficiencies aren't enough to meaningfully choose the GRU architecture over an LSTM at this time.\n",
    "\n",
    "## Learning rate + number of training epochs\n",
    "Experimenting with learning rates between 1e-1 and 1e-4, 1e-2, performed the best overall in final test accuracy.  Using 20 epochs yielded the most performant models on the test dataset, as using more caused overfitting to the training data and less epochs led to an imprecise early stopping before any models could converge.\n",
    "\n",
    "## Dropouts\n",
    "Adding dropout layers in the initial input layer dramatically improved training performance across all models.  Using dropouts is a useful form of model regularization to avoid overfitting and train a more flexible model.  \n",
    "\n",
    "\n",
    "## Embeddings\n",
    "While the LSTM model performed decently under both conditions, all of the models performed markedly worse using custom trained Word2Vec embeddings vs pretrained GloVe embeddings.   As with most custom embeddings using this small of a data source (~6.5K vocab size, ~16k words) vs Glove-25 (400k vocab size, 6 billion words/tokens), the robustness of the custom embeddings is significantly diminished vs the larger pretrained embeddings.  \n",
    "\n",
    "### Custom/trained embeddings vs pre-trained\n",
    "While I originally wanted to use the google news trained Word2Vec embeddings, they were simply too large to use reliably with kaggle.  Instead, I chose the much smaller GloVe embeddings to reasonably good results.\n"
   ]
  },
  {
   "cell_type": "markdown",
   "metadata": {},
   "source": [
    "# Conclusion\n",
    "\n",
    "## LSTM\n",
    "The clear winner in this test with a final 80% test accuracy with a 1e-2 learning rate, ADAM optimizer, and 50% dropout.  Using no dropout resulted in a much higher accuracy/F1-score on training and validation datasets, but the lstm model was likely overfitted as the test performance was lower than almost all other permutations.\n",
    "\n",
    "## RNN\n",
    "These models really performed poorly, between long training times to convergence (if it ever really did...), poor accuracy/F1 scores, and ultimately middling test accuracy, the lstm is the clear best choice so far. \n",
    "\n",
    "## GRU\n",
    "Twas a close second to the LSTM, but only after mirroring the additional dropout layer within the model architecture.  Oddly enough, the actual training performance more closely matched the RNN, so its hard to determine exactly why the training performance was so low while the actual test performance was quite good at 79% accuracy. \n",
    "\n",
    "## Future Considerations\n",
    "While each of these models could be bidirectionally tested and evaluated, the NLP community has largely abandoned these RNN based architectures in favor of transformer based architectures, so future endeavors would likely favor such an approach."
   ]
  },
  {
   "cell_type": "code",
   "execution_count": 181,
   "metadata": {
    "execution": {
     "iopub.execute_input": "2025-02-26T21:58:53.120760Z",
     "iopub.status.busy": "2025-02-26T21:58:53.120442Z",
     "iopub.status.idle": "2025-02-26T21:58:53.886553Z",
     "shell.execute_reply": "2025-02-26T21:58:53.885710Z",
     "shell.execute_reply.started": "2025-02-26T21:58:53.120736Z"
    },
    "trusted": true
   },
   "outputs": [
    {
     "name": "stdout",
     "output_type": "stream",
     "text": [
      "Submission file saved as 'submission-lstm-32-GloVe-30-epochs-1e-3.csv'\n"
     ]
    },
    {
     "data": {
      "application/vnd.microsoft.datawrangler.viewer.v0+json": {
       "columns": [
        {
         "name": "index",
         "rawType": "int64",
         "type": "integer"
        },
        {
         "name": "id",
         "rawType": "int64",
         "type": "integer"
        },
        {
         "name": "target",
         "rawType": "int32",
         "type": "integer"
        }
       ],
       "conversionMethod": "pd.DataFrame",
       "ref": "74fcf260-29f3-4676-857e-a4f58f93e2e5",
       "rows": [
        [
         "0",
         "150",
         "0"
        ],
        [
         "1",
         "90",
         "1"
        ],
        [
         "2",
         "101",
         "0"
        ],
        [
         "3",
         "127",
         "0"
        ],
        [
         "4",
         "72",
         "0"
        ]
       ],
       "shape": {
        "columns": 2,
        "rows": 5
       }
      },
      "text/html": [
       "<div>\n",
       "<style scoped>\n",
       "    .dataframe tbody tr th:only-of-type {\n",
       "        vertical-align: middle;\n",
       "    }\n",
       "\n",
       "    .dataframe tbody tr th {\n",
       "        vertical-align: top;\n",
       "    }\n",
       "\n",
       "    .dataframe thead th {\n",
       "        text-align: right;\n",
       "    }\n",
       "</style>\n",
       "<table border=\"1\" class=\"dataframe\">\n",
       "  <thead>\n",
       "    <tr style=\"text-align: right;\">\n",
       "      <th></th>\n",
       "      <th>id</th>\n",
       "      <th>target</th>\n",
       "    </tr>\n",
       "  </thead>\n",
       "  <tbody>\n",
       "    <tr>\n",
       "      <th>0</th>\n",
       "      <td>150</td>\n",
       "      <td>0</td>\n",
       "    </tr>\n",
       "    <tr>\n",
       "      <th>1</th>\n",
       "      <td>90</td>\n",
       "      <td>1</td>\n",
       "    </tr>\n",
       "    <tr>\n",
       "      <th>2</th>\n",
       "      <td>101</td>\n",
       "      <td>0</td>\n",
       "    </tr>\n",
       "    <tr>\n",
       "      <th>3</th>\n",
       "      <td>127</td>\n",
       "      <td>0</td>\n",
       "    </tr>\n",
       "    <tr>\n",
       "      <th>4</th>\n",
       "      <td>72</td>\n",
       "      <td>0</td>\n",
       "    </tr>\n",
       "  </tbody>\n",
       "</table>\n",
       "</div>"
      ],
      "text/plain": [
       "    id  target\n",
       "0  150       0\n",
       "1   90       1\n",
       "2  101       0\n",
       "3  127       0\n",
       "4   72       0"
      ]
     },
     "execution_count": 181,
     "metadata": {},
     "output_type": "execute_result"
    }
   ],
   "source": [
    "class TestDataset(Dataset):\n",
    "    def __init__(self, dataframe, preprocessor, embedding_matrix=embedding_matrix):\n",
    "        self.texts = [preprocessor.text_to_indices(text) for text in dataframe['text']]\n",
    "        self.preprocessor = preprocessor\n",
    "        self.embeddings = embedding_matrix\n",
    "        self.lengths = [len(text) for text in self.texts]  # Store sequence lengths\n",
    "        self.ids = dataframe['id']\n",
    "        \n",
    "        if any(length == 0 for id, length in enumerate(self.lengths)):\n",
    "            raise ValueError(f\"Found empty sequences in the dataset. Check the preprocessing steps.\")\n",
    "        \n",
    "    def __len__(self):\n",
    "        return len(self.texts)\n",
    "    \n",
    "    def __getitem__(self, idx):\n",
    "        text_indices = self.texts[idx]\n",
    "        length = self.lengths[idx]  # Include sequence length\n",
    "        return (\n",
    "            torch.tensor(text_indices, dtype=torch.long), \n",
    "            torch.tensor(length, dtype=torch.long), \n",
    "            self.ids[idx]\n",
    "        )\n",
    "\n",
    "test_dataset = TestDataset(test_df,preprocessor)\n",
    "test_loader = DataLoader(test_dataset, batch_size=64, shuffle=False, num_workers=4, collate_fn=inference_collate_fn)\n",
    "model = lstm_model\n",
    "# Generate predictions\n",
    "predictions = []\n",
    "ids = []\n",
    "with torch.no_grad():  \n",
    "    for texts,  lengths,input_ids in test_loader:\n",
    "        texts = texts.to(device)\n",
    "        lengths = lengths.to(device)\n",
    "        outputs = model(texts,lengths)\n",
    "        preds = (outputs > 0.5).int().squeeze()  # Convert probabilities to binary predictions\n",
    "        \n",
    "        predictions.extend(preds.cpu().numpy())  # Move predictions to CPU and convert to numpy array\n",
    "        ids.extend(input_ids.cpu().numpy())  # Move IDs to CPU and convert to numpy array\n",
    "\n",
    "\n",
    "# Create a submission DataFrame\n",
    "submission_df = pd.DataFrame({\n",
    "    'id': ids,\n",
    "    'target': predictions\n",
    "})\n",
    "\n",
    "submission_filename = 'submission-lstm-32-GloVe-30-epochs-1e-3.csv'\n",
    "\n",
    "# Save the submission file\n",
    "submission_df.to_csv(submission_filename, index=False)\n",
    "print(f\"Submission file saved as '{submission_filename}'\")\n",
    "submission_df.head()"
   ]
  },
  {
   "cell_type": "markdown",
   "metadata": {},
   "source": [
    "# References\n",
    "1. EDA techniques: https://www.kaggle.com/code/josephtk/disaster-tweets-classification-using-bert\n",
    "2. Pytorch approach: https://www.youtube.com/watch?v=0_PgWWmauHk\n",
    "3. RNN Overview: https://stanford.edu/~shervine/teaching/cs-230/cheatsheet-recurrent-neural-networks\n",
    "4. RNN Course: https://www.youtube.com/watch?v=6niqTuYFZLQ"
   ]
  }
 ],
 "metadata": {
  "kaggle": {
   "accelerator": "gpu",
   "dataSources": [
    {
     "databundleVersionId": 869809,
     "sourceId": 17777,
     "sourceType": "competition"
    }
   ],
   "dockerImageVersionId": 30918,
   "isGpuEnabled": true,
   "isInternetEnabled": true,
   "language": "python",
   "sourceType": "notebook"
  },
  "kernelspec": {
   "display_name": "Python 3",
   "language": "python",
   "name": "python3"
  },
  "language_info": {
   "codemirror_mode": {
    "name": "ipython",
    "version": 3
   },
   "file_extension": ".py",
   "mimetype": "text/x-python",
   "name": "python",
   "nbconvert_exporter": "python",
   "pygments_lexer": "ipython3",
   "version": "3.10.12"
  }
 },
 "nbformat": 4,
 "nbformat_minor": 4
}
